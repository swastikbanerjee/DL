{
  "nbformat": 4,
  "nbformat_minor": 0,
  "metadata": {
    "colab": {
      "provenance": [],
      "include_colab_link": true
    },
    "kernelspec": {
      "name": "python3",
      "display_name": "Python 3"
    },
    "language_info": {
      "name": "python"
    }
  },
  "cells": [
    {
      "cell_type": "markdown",
      "metadata": {
        "id": "view-in-github",
        "colab_type": "text"
      },
      "source": [
        "<a href=\"https://colab.research.google.com/github/swastikbanerjee/DL_Lab/blob/main/dlLab4.ipynb\" target=\"_parent\"><img src=\"https://colab.research.google.com/assets/colab-badge.svg\" alt=\"Open In Colab\"/></a>"
      ]
    },
    {
      "cell_type": "markdown",
      "source": [
        "**Importing Necessary Libraries**\n",
        "\n",
        "---\n",
        "\n"
      ],
      "metadata": {
        "id": "cylZ9wTT-Gg8"
      }
    },
    {
      "cell_type": "code",
      "execution_count": null,
      "metadata": {
        "id": "6mK-REeG9fkJ"
      },
      "outputs": [],
      "source": [
        "import pandas as pd\n",
        "import numpy as np\n",
        "import seaborn as sns\n",
        "import matplotlib.pyplot as plt\n",
        "from termcolor import colored\n",
        "import plotly.express as px\n",
        "from sklearn.model_selection import train_test_split\n",
        "from sklearn.preprocessing import StandardScaler, LabelEncoder\n",
        "import keras\n",
        "from keras.models import Sequential\n",
        "from keras.layers import Dense, Dropout\n",
        "import tensorflow as tf\n",
        "from sklearn.metrics import accuracy_score, f1_score, roc_curve, roc_auc_score, confusion_matrix, classification_report,auc"
      ]
    },
    {
      "cell_type": "code",
      "source": [
        "data = pd.read_csv(\"/content/WA_Fn-UseC_-Telco-Customer-Churn.csv\")\n",
        "data.head()"
      ],
      "metadata": {
        "colab": {
          "base_uri": "https://localhost:8080/",
          "height": 342
        },
        "id": "lmFA89aB-PUA",
        "outputId": "eb2fdf4a-a1f0-4dce-bf79-68105072cf82"
      },
      "execution_count": null,
      "outputs": [
        {
          "output_type": "execute_result",
          "data": {
            "text/plain": [
              "   customerID  gender  SeniorCitizen Partner Dependents  tenure PhoneService  \\\n",
              "0  7590-VHVEG  Female              0     Yes         No       1           No   \n",
              "1  5575-GNVDE    Male              0      No         No      34          Yes   \n",
              "2  3668-QPYBK    Male              0      No         No       2          Yes   \n",
              "3  7795-CFOCW    Male              0      No         No      45           No   \n",
              "4  9237-HQITU  Female              0      No         No       2          Yes   \n",
              "\n",
              "      MultipleLines InternetService OnlineSecurity  ... DeviceProtection  \\\n",
              "0  No phone service             DSL             No  ...               No   \n",
              "1                No             DSL            Yes  ...              Yes   \n",
              "2                No             DSL            Yes  ...               No   \n",
              "3  No phone service             DSL            Yes  ...              Yes   \n",
              "4                No     Fiber optic             No  ...               No   \n",
              "\n",
              "  TechSupport StreamingTV StreamingMovies        Contract PaperlessBilling  \\\n",
              "0          No          No              No  Month-to-month              Yes   \n",
              "1          No          No              No        One year               No   \n",
              "2          No          No              No  Month-to-month              Yes   \n",
              "3         Yes          No              No        One year               No   \n",
              "4          No          No              No  Month-to-month              Yes   \n",
              "\n",
              "               PaymentMethod MonthlyCharges  TotalCharges Churn  \n",
              "0           Electronic check          29.85         29.85    No  \n",
              "1               Mailed check          56.95        1889.5    No  \n",
              "2               Mailed check          53.85        108.15   Yes  \n",
              "3  Bank transfer (automatic)          42.30       1840.75    No  \n",
              "4           Electronic check          70.70        151.65   Yes  \n",
              "\n",
              "[5 rows x 21 columns]"
            ],
            "text/html": [
              "\n",
              "  <div id=\"df-03d32a38-4466-443a-991b-2ff8d6c2335d\" class=\"colab-df-container\">\n",
              "    <div>\n",
              "<style scoped>\n",
              "    .dataframe tbody tr th:only-of-type {\n",
              "        vertical-align: middle;\n",
              "    }\n",
              "\n",
              "    .dataframe tbody tr th {\n",
              "        vertical-align: top;\n",
              "    }\n",
              "\n",
              "    .dataframe thead th {\n",
              "        text-align: right;\n",
              "    }\n",
              "</style>\n",
              "<table border=\"1\" class=\"dataframe\">\n",
              "  <thead>\n",
              "    <tr style=\"text-align: right;\">\n",
              "      <th></th>\n",
              "      <th>customerID</th>\n",
              "      <th>gender</th>\n",
              "      <th>SeniorCitizen</th>\n",
              "      <th>Partner</th>\n",
              "      <th>Dependents</th>\n",
              "      <th>tenure</th>\n",
              "      <th>PhoneService</th>\n",
              "      <th>MultipleLines</th>\n",
              "      <th>InternetService</th>\n",
              "      <th>OnlineSecurity</th>\n",
              "      <th>...</th>\n",
              "      <th>DeviceProtection</th>\n",
              "      <th>TechSupport</th>\n",
              "      <th>StreamingTV</th>\n",
              "      <th>StreamingMovies</th>\n",
              "      <th>Contract</th>\n",
              "      <th>PaperlessBilling</th>\n",
              "      <th>PaymentMethod</th>\n",
              "      <th>MonthlyCharges</th>\n",
              "      <th>TotalCharges</th>\n",
              "      <th>Churn</th>\n",
              "    </tr>\n",
              "  </thead>\n",
              "  <tbody>\n",
              "    <tr>\n",
              "      <th>0</th>\n",
              "      <td>7590-VHVEG</td>\n",
              "      <td>Female</td>\n",
              "      <td>0</td>\n",
              "      <td>Yes</td>\n",
              "      <td>No</td>\n",
              "      <td>1</td>\n",
              "      <td>No</td>\n",
              "      <td>No phone service</td>\n",
              "      <td>DSL</td>\n",
              "      <td>No</td>\n",
              "      <td>...</td>\n",
              "      <td>No</td>\n",
              "      <td>No</td>\n",
              "      <td>No</td>\n",
              "      <td>No</td>\n",
              "      <td>Month-to-month</td>\n",
              "      <td>Yes</td>\n",
              "      <td>Electronic check</td>\n",
              "      <td>29.85</td>\n",
              "      <td>29.85</td>\n",
              "      <td>No</td>\n",
              "    </tr>\n",
              "    <tr>\n",
              "      <th>1</th>\n",
              "      <td>5575-GNVDE</td>\n",
              "      <td>Male</td>\n",
              "      <td>0</td>\n",
              "      <td>No</td>\n",
              "      <td>No</td>\n",
              "      <td>34</td>\n",
              "      <td>Yes</td>\n",
              "      <td>No</td>\n",
              "      <td>DSL</td>\n",
              "      <td>Yes</td>\n",
              "      <td>...</td>\n",
              "      <td>Yes</td>\n",
              "      <td>No</td>\n",
              "      <td>No</td>\n",
              "      <td>No</td>\n",
              "      <td>One year</td>\n",
              "      <td>No</td>\n",
              "      <td>Mailed check</td>\n",
              "      <td>56.95</td>\n",
              "      <td>1889.5</td>\n",
              "      <td>No</td>\n",
              "    </tr>\n",
              "    <tr>\n",
              "      <th>2</th>\n",
              "      <td>3668-QPYBK</td>\n",
              "      <td>Male</td>\n",
              "      <td>0</td>\n",
              "      <td>No</td>\n",
              "      <td>No</td>\n",
              "      <td>2</td>\n",
              "      <td>Yes</td>\n",
              "      <td>No</td>\n",
              "      <td>DSL</td>\n",
              "      <td>Yes</td>\n",
              "      <td>...</td>\n",
              "      <td>No</td>\n",
              "      <td>No</td>\n",
              "      <td>No</td>\n",
              "      <td>No</td>\n",
              "      <td>Month-to-month</td>\n",
              "      <td>Yes</td>\n",
              "      <td>Mailed check</td>\n",
              "      <td>53.85</td>\n",
              "      <td>108.15</td>\n",
              "      <td>Yes</td>\n",
              "    </tr>\n",
              "    <tr>\n",
              "      <th>3</th>\n",
              "      <td>7795-CFOCW</td>\n",
              "      <td>Male</td>\n",
              "      <td>0</td>\n",
              "      <td>No</td>\n",
              "      <td>No</td>\n",
              "      <td>45</td>\n",
              "      <td>No</td>\n",
              "      <td>No phone service</td>\n",
              "      <td>DSL</td>\n",
              "      <td>Yes</td>\n",
              "      <td>...</td>\n",
              "      <td>Yes</td>\n",
              "      <td>Yes</td>\n",
              "      <td>No</td>\n",
              "      <td>No</td>\n",
              "      <td>One year</td>\n",
              "      <td>No</td>\n",
              "      <td>Bank transfer (automatic)</td>\n",
              "      <td>42.30</td>\n",
              "      <td>1840.75</td>\n",
              "      <td>No</td>\n",
              "    </tr>\n",
              "    <tr>\n",
              "      <th>4</th>\n",
              "      <td>9237-HQITU</td>\n",
              "      <td>Female</td>\n",
              "      <td>0</td>\n",
              "      <td>No</td>\n",
              "      <td>No</td>\n",
              "      <td>2</td>\n",
              "      <td>Yes</td>\n",
              "      <td>No</td>\n",
              "      <td>Fiber optic</td>\n",
              "      <td>No</td>\n",
              "      <td>...</td>\n",
              "      <td>No</td>\n",
              "      <td>No</td>\n",
              "      <td>No</td>\n",
              "      <td>No</td>\n",
              "      <td>Month-to-month</td>\n",
              "      <td>Yes</td>\n",
              "      <td>Electronic check</td>\n",
              "      <td>70.70</td>\n",
              "      <td>151.65</td>\n",
              "      <td>Yes</td>\n",
              "    </tr>\n",
              "  </tbody>\n",
              "</table>\n",
              "<p>5 rows × 21 columns</p>\n",
              "</div>\n",
              "    <div class=\"colab-df-buttons\">\n",
              "\n",
              "  <div class=\"colab-df-container\">\n",
              "    <button class=\"colab-df-convert\" onclick=\"convertToInteractive('df-03d32a38-4466-443a-991b-2ff8d6c2335d')\"\n",
              "            title=\"Convert this dataframe to an interactive table.\"\n",
              "            style=\"display:none;\">\n",
              "\n",
              "  <svg xmlns=\"http://www.w3.org/2000/svg\" height=\"24px\" viewBox=\"0 -960 960 960\">\n",
              "    <path d=\"M120-120v-720h720v720H120Zm60-500h600v-160H180v160Zm220 220h160v-160H400v160Zm0 220h160v-160H400v160ZM180-400h160v-160H180v160Zm440 0h160v-160H620v160ZM180-180h160v-160H180v160Zm440 0h160v-160H620v160Z\"/>\n",
              "  </svg>\n",
              "    </button>\n",
              "\n",
              "  <style>\n",
              "    .colab-df-container {\n",
              "      display:flex;\n",
              "      gap: 12px;\n",
              "    }\n",
              "\n",
              "    .colab-df-convert {\n",
              "      background-color: #E8F0FE;\n",
              "      border: none;\n",
              "      border-radius: 50%;\n",
              "      cursor: pointer;\n",
              "      display: none;\n",
              "      fill: #1967D2;\n",
              "      height: 32px;\n",
              "      padding: 0 0 0 0;\n",
              "      width: 32px;\n",
              "    }\n",
              "\n",
              "    .colab-df-convert:hover {\n",
              "      background-color: #E2EBFA;\n",
              "      box-shadow: 0px 1px 2px rgba(60, 64, 67, 0.3), 0px 1px 3px 1px rgba(60, 64, 67, 0.15);\n",
              "      fill: #174EA6;\n",
              "    }\n",
              "\n",
              "    .colab-df-buttons div {\n",
              "      margin-bottom: 4px;\n",
              "    }\n",
              "\n",
              "    [theme=dark] .colab-df-convert {\n",
              "      background-color: #3B4455;\n",
              "      fill: #D2E3FC;\n",
              "    }\n",
              "\n",
              "    [theme=dark] .colab-df-convert:hover {\n",
              "      background-color: #434B5C;\n",
              "      box-shadow: 0px 1px 3px 1px rgba(0, 0, 0, 0.15);\n",
              "      filter: drop-shadow(0px 1px 2px rgba(0, 0, 0, 0.3));\n",
              "      fill: #FFFFFF;\n",
              "    }\n",
              "  </style>\n",
              "\n",
              "    <script>\n",
              "      const buttonEl =\n",
              "        document.querySelector('#df-03d32a38-4466-443a-991b-2ff8d6c2335d button.colab-df-convert');\n",
              "      buttonEl.style.display =\n",
              "        google.colab.kernel.accessAllowed ? 'block' : 'none';\n",
              "\n",
              "      async function convertToInteractive(key) {\n",
              "        const element = document.querySelector('#df-03d32a38-4466-443a-991b-2ff8d6c2335d');\n",
              "        const dataTable =\n",
              "          await google.colab.kernel.invokeFunction('convertToInteractive',\n",
              "                                                    [key], {});\n",
              "        if (!dataTable) return;\n",
              "\n",
              "        const docLinkHtml = 'Like what you see? Visit the ' +\n",
              "          '<a target=\"_blank\" href=https://colab.research.google.com/notebooks/data_table.ipynb>data table notebook</a>'\n",
              "          + ' to learn more about interactive tables.';\n",
              "        element.innerHTML = '';\n",
              "        dataTable['output_type'] = 'display_data';\n",
              "        await google.colab.output.renderOutput(dataTable, element);\n",
              "        const docLink = document.createElement('div');\n",
              "        docLink.innerHTML = docLinkHtml;\n",
              "        element.appendChild(docLink);\n",
              "      }\n",
              "    </script>\n",
              "  </div>\n",
              "\n",
              "\n",
              "<div id=\"df-69342367-9eea-462f-82af-e7222020eab8\">\n",
              "  <button class=\"colab-df-quickchart\" onclick=\"quickchart('df-69342367-9eea-462f-82af-e7222020eab8')\"\n",
              "            title=\"Suggest charts\"\n",
              "            style=\"display:none;\">\n",
              "\n",
              "<svg xmlns=\"http://www.w3.org/2000/svg\" height=\"24px\"viewBox=\"0 0 24 24\"\n",
              "     width=\"24px\">\n",
              "    <g>\n",
              "        <path d=\"M19 3H5c-1.1 0-2 .9-2 2v14c0 1.1.9 2 2 2h14c1.1 0 2-.9 2-2V5c0-1.1-.9-2-2-2zM9 17H7v-7h2v7zm4 0h-2V7h2v10zm4 0h-2v-4h2v4z\"/>\n",
              "    </g>\n",
              "</svg>\n",
              "  </button>\n",
              "\n",
              "<style>\n",
              "  .colab-df-quickchart {\n",
              "      --bg-color: #E8F0FE;\n",
              "      --fill-color: #1967D2;\n",
              "      --hover-bg-color: #E2EBFA;\n",
              "      --hover-fill-color: #174EA6;\n",
              "      --disabled-fill-color: #AAA;\n",
              "      --disabled-bg-color: #DDD;\n",
              "  }\n",
              "\n",
              "  [theme=dark] .colab-df-quickchart {\n",
              "      --bg-color: #3B4455;\n",
              "      --fill-color: #D2E3FC;\n",
              "      --hover-bg-color: #434B5C;\n",
              "      --hover-fill-color: #FFFFFF;\n",
              "      --disabled-bg-color: #3B4455;\n",
              "      --disabled-fill-color: #666;\n",
              "  }\n",
              "\n",
              "  .colab-df-quickchart {\n",
              "    background-color: var(--bg-color);\n",
              "    border: none;\n",
              "    border-radius: 50%;\n",
              "    cursor: pointer;\n",
              "    display: none;\n",
              "    fill: var(--fill-color);\n",
              "    height: 32px;\n",
              "    padding: 0;\n",
              "    width: 32px;\n",
              "  }\n",
              "\n",
              "  .colab-df-quickchart:hover {\n",
              "    background-color: var(--hover-bg-color);\n",
              "    box-shadow: 0 1px 2px rgba(60, 64, 67, 0.3), 0 1px 3px 1px rgba(60, 64, 67, 0.15);\n",
              "    fill: var(--button-hover-fill-color);\n",
              "  }\n",
              "\n",
              "  .colab-df-quickchart-complete:disabled,\n",
              "  .colab-df-quickchart-complete:disabled:hover {\n",
              "    background-color: var(--disabled-bg-color);\n",
              "    fill: var(--disabled-fill-color);\n",
              "    box-shadow: none;\n",
              "  }\n",
              "\n",
              "  .colab-df-spinner {\n",
              "    border: 2px solid var(--fill-color);\n",
              "    border-color: transparent;\n",
              "    border-bottom-color: var(--fill-color);\n",
              "    animation:\n",
              "      spin 1s steps(1) infinite;\n",
              "  }\n",
              "\n",
              "  @keyframes spin {\n",
              "    0% {\n",
              "      border-color: transparent;\n",
              "      border-bottom-color: var(--fill-color);\n",
              "      border-left-color: var(--fill-color);\n",
              "    }\n",
              "    20% {\n",
              "      border-color: transparent;\n",
              "      border-left-color: var(--fill-color);\n",
              "      border-top-color: var(--fill-color);\n",
              "    }\n",
              "    30% {\n",
              "      border-color: transparent;\n",
              "      border-left-color: var(--fill-color);\n",
              "      border-top-color: var(--fill-color);\n",
              "      border-right-color: var(--fill-color);\n",
              "    }\n",
              "    40% {\n",
              "      border-color: transparent;\n",
              "      border-right-color: var(--fill-color);\n",
              "      border-top-color: var(--fill-color);\n",
              "    }\n",
              "    60% {\n",
              "      border-color: transparent;\n",
              "      border-right-color: var(--fill-color);\n",
              "    }\n",
              "    80% {\n",
              "      border-color: transparent;\n",
              "      border-right-color: var(--fill-color);\n",
              "      border-bottom-color: var(--fill-color);\n",
              "    }\n",
              "    90% {\n",
              "      border-color: transparent;\n",
              "      border-bottom-color: var(--fill-color);\n",
              "    }\n",
              "  }\n",
              "</style>\n",
              "\n",
              "  <script>\n",
              "    async function quickchart(key) {\n",
              "      const quickchartButtonEl =\n",
              "        document.querySelector('#' + key + ' button');\n",
              "      quickchartButtonEl.disabled = true;  // To prevent multiple clicks.\n",
              "      quickchartButtonEl.classList.add('colab-df-spinner');\n",
              "      try {\n",
              "        const charts = await google.colab.kernel.invokeFunction(\n",
              "            'suggestCharts', [key], {});\n",
              "      } catch (error) {\n",
              "        console.error('Error during call to suggestCharts:', error);\n",
              "      }\n",
              "      quickchartButtonEl.classList.remove('colab-df-spinner');\n",
              "      quickchartButtonEl.classList.add('colab-df-quickchart-complete');\n",
              "    }\n",
              "    (() => {\n",
              "      let quickchartButtonEl =\n",
              "        document.querySelector('#df-69342367-9eea-462f-82af-e7222020eab8 button');\n",
              "      quickchartButtonEl.style.display =\n",
              "        google.colab.kernel.accessAllowed ? 'block' : 'none';\n",
              "    })();\n",
              "  </script>\n",
              "</div>\n",
              "    </div>\n",
              "  </div>\n"
            ],
            "application/vnd.google.colaboratory.intrinsic+json": {
              "type": "dataframe",
              "variable_name": "data"
            }
          },
          "metadata": {},
          "execution_count": 2
        }
      ]
    },
    {
      "cell_type": "code",
      "source": [
        "\n",
        "# Dropping the unnecesary ID column\n",
        "data = data.drop(columns=['customerID'])"
      ],
      "metadata": {
        "id": "XHherys8-X1o"
      },
      "execution_count": null,
      "outputs": []
    },
    {
      "cell_type": "markdown",
      "source": [
        "**Exploratory Data Analysis**"
      ],
      "metadata": {
        "id": "hlhqXQwv-kHl"
      }
    },
    {
      "cell_type": "code",
      "source": [
        "data.info()"
      ],
      "metadata": {
        "colab": {
          "base_uri": "https://localhost:8080/"
        },
        "id": "BV-C2IlO-pux",
        "outputId": "ced5d108-6b8e-4d2a-e262-5389a42d4500"
      },
      "execution_count": null,
      "outputs": [
        {
          "output_type": "stream",
          "name": "stdout",
          "text": [
            "<class 'pandas.core.frame.DataFrame'>\n",
            "RangeIndex: 7043 entries, 0 to 7042\n",
            "Data columns (total 20 columns):\n",
            " #   Column            Non-Null Count  Dtype  \n",
            "---  ------            --------------  -----  \n",
            " 0   gender            7043 non-null   object \n",
            " 1   SeniorCitizen     7043 non-null   int64  \n",
            " 2   Partner           7043 non-null   object \n",
            " 3   Dependents        7043 non-null   object \n",
            " 4   tenure            7043 non-null   int64  \n",
            " 5   PhoneService      7043 non-null   object \n",
            " 6   MultipleLines     7043 non-null   object \n",
            " 7   InternetService   7043 non-null   object \n",
            " 8   OnlineSecurity    7043 non-null   object \n",
            " 9   OnlineBackup      7043 non-null   object \n",
            " 10  DeviceProtection  7043 non-null   object \n",
            " 11  TechSupport       7043 non-null   object \n",
            " 12  StreamingTV       7043 non-null   object \n",
            " 13  StreamingMovies   7043 non-null   object \n",
            " 14  Contract          7043 non-null   object \n",
            " 15  PaperlessBilling  7043 non-null   object \n",
            " 16  PaymentMethod     7043 non-null   object \n",
            " 17  MonthlyCharges    7043 non-null   float64\n",
            " 18  TotalCharges      7043 non-null   object \n",
            " 19  Churn             7043 non-null   object \n",
            "dtypes: float64(1), int64(2), object(17)\n",
            "memory usage: 1.1+ MB\n"
          ]
        }
      ]
    },
    {
      "cell_type": "code",
      "source": [
        "data.describe(include='all')"
      ],
      "metadata": {
        "colab": {
          "base_uri": "https://localhost:8080/",
          "height": 431
        },
        "id": "X5Ss24BRAF5L",
        "outputId": "379da6a4-17d3-40cc-e4f4-8ecd3e8b45b4"
      },
      "execution_count": null,
      "outputs": [
        {
          "output_type": "execute_result",
          "data": {
            "text/plain": [
              "       gender  SeniorCitizen Partner Dependents       tenure PhoneService  \\\n",
              "count    7043    7043.000000    7043       7043  7043.000000         7043   \n",
              "unique      2            NaN       2          2          NaN            2   \n",
              "top      Male            NaN      No         No          NaN          Yes   \n",
              "freq     3555            NaN    3641       4933          NaN         6361   \n",
              "mean      NaN       0.162147     NaN        NaN    32.371149          NaN   \n",
              "std       NaN       0.368612     NaN        NaN    24.559481          NaN   \n",
              "min       NaN       0.000000     NaN        NaN     0.000000          NaN   \n",
              "25%       NaN       0.000000     NaN        NaN     9.000000          NaN   \n",
              "50%       NaN       0.000000     NaN        NaN    29.000000          NaN   \n",
              "75%       NaN       0.000000     NaN        NaN    55.000000          NaN   \n",
              "max       NaN       1.000000     NaN        NaN    72.000000          NaN   \n",
              "\n",
              "       MultipleLines InternetService OnlineSecurity OnlineBackup  \\\n",
              "count           7043            7043           7043         7043   \n",
              "unique             3               3              3            3   \n",
              "top               No     Fiber optic             No           No   \n",
              "freq            3390            3096           3498         3088   \n",
              "mean             NaN             NaN            NaN          NaN   \n",
              "std              NaN             NaN            NaN          NaN   \n",
              "min              NaN             NaN            NaN          NaN   \n",
              "25%              NaN             NaN            NaN          NaN   \n",
              "50%              NaN             NaN            NaN          NaN   \n",
              "75%              NaN             NaN            NaN          NaN   \n",
              "max              NaN             NaN            NaN          NaN   \n",
              "\n",
              "       DeviceProtection TechSupport StreamingTV StreamingMovies  \\\n",
              "count              7043        7043        7043            7043   \n",
              "unique                3           3           3               3   \n",
              "top                  No          No          No              No   \n",
              "freq               3095        3473        2810            2785   \n",
              "mean                NaN         NaN         NaN             NaN   \n",
              "std                 NaN         NaN         NaN             NaN   \n",
              "min                 NaN         NaN         NaN             NaN   \n",
              "25%                 NaN         NaN         NaN             NaN   \n",
              "50%                 NaN         NaN         NaN             NaN   \n",
              "75%                 NaN         NaN         NaN             NaN   \n",
              "max                 NaN         NaN         NaN             NaN   \n",
              "\n",
              "              Contract PaperlessBilling     PaymentMethod  MonthlyCharges  \\\n",
              "count             7043             7043              7043     7043.000000   \n",
              "unique               3                2                 4             NaN   \n",
              "top     Month-to-month              Yes  Electronic check             NaN   \n",
              "freq              3875             4171              2365             NaN   \n",
              "mean               NaN              NaN               NaN       64.761692   \n",
              "std                NaN              NaN               NaN       30.090047   \n",
              "min                NaN              NaN               NaN       18.250000   \n",
              "25%                NaN              NaN               NaN       35.500000   \n",
              "50%                NaN              NaN               NaN       70.350000   \n",
              "75%                NaN              NaN               NaN       89.850000   \n",
              "max                NaN              NaN               NaN      118.750000   \n",
              "\n",
              "       TotalCharges Churn  \n",
              "count          7043  7043  \n",
              "unique         6531     2  \n",
              "top                    No  \n",
              "freq             11  5174  \n",
              "mean            NaN   NaN  \n",
              "std             NaN   NaN  \n",
              "min             NaN   NaN  \n",
              "25%             NaN   NaN  \n",
              "50%             NaN   NaN  \n",
              "75%             NaN   NaN  \n",
              "max             NaN   NaN  "
            ],
            "text/html": [
              "\n",
              "  <div id=\"df-c2413d53-ebe2-4022-82d7-b7f36e17f659\" class=\"colab-df-container\">\n",
              "    <div>\n",
              "<style scoped>\n",
              "    .dataframe tbody tr th:only-of-type {\n",
              "        vertical-align: middle;\n",
              "    }\n",
              "\n",
              "    .dataframe tbody tr th {\n",
              "        vertical-align: top;\n",
              "    }\n",
              "\n",
              "    .dataframe thead th {\n",
              "        text-align: right;\n",
              "    }\n",
              "</style>\n",
              "<table border=\"1\" class=\"dataframe\">\n",
              "  <thead>\n",
              "    <tr style=\"text-align: right;\">\n",
              "      <th></th>\n",
              "      <th>gender</th>\n",
              "      <th>SeniorCitizen</th>\n",
              "      <th>Partner</th>\n",
              "      <th>Dependents</th>\n",
              "      <th>tenure</th>\n",
              "      <th>PhoneService</th>\n",
              "      <th>MultipleLines</th>\n",
              "      <th>InternetService</th>\n",
              "      <th>OnlineSecurity</th>\n",
              "      <th>OnlineBackup</th>\n",
              "      <th>DeviceProtection</th>\n",
              "      <th>TechSupport</th>\n",
              "      <th>StreamingTV</th>\n",
              "      <th>StreamingMovies</th>\n",
              "      <th>Contract</th>\n",
              "      <th>PaperlessBilling</th>\n",
              "      <th>PaymentMethod</th>\n",
              "      <th>MonthlyCharges</th>\n",
              "      <th>TotalCharges</th>\n",
              "      <th>Churn</th>\n",
              "    </tr>\n",
              "  </thead>\n",
              "  <tbody>\n",
              "    <tr>\n",
              "      <th>count</th>\n",
              "      <td>7043</td>\n",
              "      <td>7043.000000</td>\n",
              "      <td>7043</td>\n",
              "      <td>7043</td>\n",
              "      <td>7043.000000</td>\n",
              "      <td>7043</td>\n",
              "      <td>7043</td>\n",
              "      <td>7043</td>\n",
              "      <td>7043</td>\n",
              "      <td>7043</td>\n",
              "      <td>7043</td>\n",
              "      <td>7043</td>\n",
              "      <td>7043</td>\n",
              "      <td>7043</td>\n",
              "      <td>7043</td>\n",
              "      <td>7043</td>\n",
              "      <td>7043</td>\n",
              "      <td>7043.000000</td>\n",
              "      <td>7043</td>\n",
              "      <td>7043</td>\n",
              "    </tr>\n",
              "    <tr>\n",
              "      <th>unique</th>\n",
              "      <td>2</td>\n",
              "      <td>NaN</td>\n",
              "      <td>2</td>\n",
              "      <td>2</td>\n",
              "      <td>NaN</td>\n",
              "      <td>2</td>\n",
              "      <td>3</td>\n",
              "      <td>3</td>\n",
              "      <td>3</td>\n",
              "      <td>3</td>\n",
              "      <td>3</td>\n",
              "      <td>3</td>\n",
              "      <td>3</td>\n",
              "      <td>3</td>\n",
              "      <td>3</td>\n",
              "      <td>2</td>\n",
              "      <td>4</td>\n",
              "      <td>NaN</td>\n",
              "      <td>6531</td>\n",
              "      <td>2</td>\n",
              "    </tr>\n",
              "    <tr>\n",
              "      <th>top</th>\n",
              "      <td>Male</td>\n",
              "      <td>NaN</td>\n",
              "      <td>No</td>\n",
              "      <td>No</td>\n",
              "      <td>NaN</td>\n",
              "      <td>Yes</td>\n",
              "      <td>No</td>\n",
              "      <td>Fiber optic</td>\n",
              "      <td>No</td>\n",
              "      <td>No</td>\n",
              "      <td>No</td>\n",
              "      <td>No</td>\n",
              "      <td>No</td>\n",
              "      <td>No</td>\n",
              "      <td>Month-to-month</td>\n",
              "      <td>Yes</td>\n",
              "      <td>Electronic check</td>\n",
              "      <td>NaN</td>\n",
              "      <td></td>\n",
              "      <td>No</td>\n",
              "    </tr>\n",
              "    <tr>\n",
              "      <th>freq</th>\n",
              "      <td>3555</td>\n",
              "      <td>NaN</td>\n",
              "      <td>3641</td>\n",
              "      <td>4933</td>\n",
              "      <td>NaN</td>\n",
              "      <td>6361</td>\n",
              "      <td>3390</td>\n",
              "      <td>3096</td>\n",
              "      <td>3498</td>\n",
              "      <td>3088</td>\n",
              "      <td>3095</td>\n",
              "      <td>3473</td>\n",
              "      <td>2810</td>\n",
              "      <td>2785</td>\n",
              "      <td>3875</td>\n",
              "      <td>4171</td>\n",
              "      <td>2365</td>\n",
              "      <td>NaN</td>\n",
              "      <td>11</td>\n",
              "      <td>5174</td>\n",
              "    </tr>\n",
              "    <tr>\n",
              "      <th>mean</th>\n",
              "      <td>NaN</td>\n",
              "      <td>0.162147</td>\n",
              "      <td>NaN</td>\n",
              "      <td>NaN</td>\n",
              "      <td>32.371149</td>\n",
              "      <td>NaN</td>\n",
              "      <td>NaN</td>\n",
              "      <td>NaN</td>\n",
              "      <td>NaN</td>\n",
              "      <td>NaN</td>\n",
              "      <td>NaN</td>\n",
              "      <td>NaN</td>\n",
              "      <td>NaN</td>\n",
              "      <td>NaN</td>\n",
              "      <td>NaN</td>\n",
              "      <td>NaN</td>\n",
              "      <td>NaN</td>\n",
              "      <td>64.761692</td>\n",
              "      <td>NaN</td>\n",
              "      <td>NaN</td>\n",
              "    </tr>\n",
              "    <tr>\n",
              "      <th>std</th>\n",
              "      <td>NaN</td>\n",
              "      <td>0.368612</td>\n",
              "      <td>NaN</td>\n",
              "      <td>NaN</td>\n",
              "      <td>24.559481</td>\n",
              "      <td>NaN</td>\n",
              "      <td>NaN</td>\n",
              "      <td>NaN</td>\n",
              "      <td>NaN</td>\n",
              "      <td>NaN</td>\n",
              "      <td>NaN</td>\n",
              "      <td>NaN</td>\n",
              "      <td>NaN</td>\n",
              "      <td>NaN</td>\n",
              "      <td>NaN</td>\n",
              "      <td>NaN</td>\n",
              "      <td>NaN</td>\n",
              "      <td>30.090047</td>\n",
              "      <td>NaN</td>\n",
              "      <td>NaN</td>\n",
              "    </tr>\n",
              "    <tr>\n",
              "      <th>min</th>\n",
              "      <td>NaN</td>\n",
              "      <td>0.000000</td>\n",
              "      <td>NaN</td>\n",
              "      <td>NaN</td>\n",
              "      <td>0.000000</td>\n",
              "      <td>NaN</td>\n",
              "      <td>NaN</td>\n",
              "      <td>NaN</td>\n",
              "      <td>NaN</td>\n",
              "      <td>NaN</td>\n",
              "      <td>NaN</td>\n",
              "      <td>NaN</td>\n",
              "      <td>NaN</td>\n",
              "      <td>NaN</td>\n",
              "      <td>NaN</td>\n",
              "      <td>NaN</td>\n",
              "      <td>NaN</td>\n",
              "      <td>18.250000</td>\n",
              "      <td>NaN</td>\n",
              "      <td>NaN</td>\n",
              "    </tr>\n",
              "    <tr>\n",
              "      <th>25%</th>\n",
              "      <td>NaN</td>\n",
              "      <td>0.000000</td>\n",
              "      <td>NaN</td>\n",
              "      <td>NaN</td>\n",
              "      <td>9.000000</td>\n",
              "      <td>NaN</td>\n",
              "      <td>NaN</td>\n",
              "      <td>NaN</td>\n",
              "      <td>NaN</td>\n",
              "      <td>NaN</td>\n",
              "      <td>NaN</td>\n",
              "      <td>NaN</td>\n",
              "      <td>NaN</td>\n",
              "      <td>NaN</td>\n",
              "      <td>NaN</td>\n",
              "      <td>NaN</td>\n",
              "      <td>NaN</td>\n",
              "      <td>35.500000</td>\n",
              "      <td>NaN</td>\n",
              "      <td>NaN</td>\n",
              "    </tr>\n",
              "    <tr>\n",
              "      <th>50%</th>\n",
              "      <td>NaN</td>\n",
              "      <td>0.000000</td>\n",
              "      <td>NaN</td>\n",
              "      <td>NaN</td>\n",
              "      <td>29.000000</td>\n",
              "      <td>NaN</td>\n",
              "      <td>NaN</td>\n",
              "      <td>NaN</td>\n",
              "      <td>NaN</td>\n",
              "      <td>NaN</td>\n",
              "      <td>NaN</td>\n",
              "      <td>NaN</td>\n",
              "      <td>NaN</td>\n",
              "      <td>NaN</td>\n",
              "      <td>NaN</td>\n",
              "      <td>NaN</td>\n",
              "      <td>NaN</td>\n",
              "      <td>70.350000</td>\n",
              "      <td>NaN</td>\n",
              "      <td>NaN</td>\n",
              "    </tr>\n",
              "    <tr>\n",
              "      <th>75%</th>\n",
              "      <td>NaN</td>\n",
              "      <td>0.000000</td>\n",
              "      <td>NaN</td>\n",
              "      <td>NaN</td>\n",
              "      <td>55.000000</td>\n",
              "      <td>NaN</td>\n",
              "      <td>NaN</td>\n",
              "      <td>NaN</td>\n",
              "      <td>NaN</td>\n",
              "      <td>NaN</td>\n",
              "      <td>NaN</td>\n",
              "      <td>NaN</td>\n",
              "      <td>NaN</td>\n",
              "      <td>NaN</td>\n",
              "      <td>NaN</td>\n",
              "      <td>NaN</td>\n",
              "      <td>NaN</td>\n",
              "      <td>89.850000</td>\n",
              "      <td>NaN</td>\n",
              "      <td>NaN</td>\n",
              "    </tr>\n",
              "    <tr>\n",
              "      <th>max</th>\n",
              "      <td>NaN</td>\n",
              "      <td>1.000000</td>\n",
              "      <td>NaN</td>\n",
              "      <td>NaN</td>\n",
              "      <td>72.000000</td>\n",
              "      <td>NaN</td>\n",
              "      <td>NaN</td>\n",
              "      <td>NaN</td>\n",
              "      <td>NaN</td>\n",
              "      <td>NaN</td>\n",
              "      <td>NaN</td>\n",
              "      <td>NaN</td>\n",
              "      <td>NaN</td>\n",
              "      <td>NaN</td>\n",
              "      <td>NaN</td>\n",
              "      <td>NaN</td>\n",
              "      <td>NaN</td>\n",
              "      <td>118.750000</td>\n",
              "      <td>NaN</td>\n",
              "      <td>NaN</td>\n",
              "    </tr>\n",
              "  </tbody>\n",
              "</table>\n",
              "</div>\n",
              "    <div class=\"colab-df-buttons\">\n",
              "\n",
              "  <div class=\"colab-df-container\">\n",
              "    <button class=\"colab-df-convert\" onclick=\"convertToInteractive('df-c2413d53-ebe2-4022-82d7-b7f36e17f659')\"\n",
              "            title=\"Convert this dataframe to an interactive table.\"\n",
              "            style=\"display:none;\">\n",
              "\n",
              "  <svg xmlns=\"http://www.w3.org/2000/svg\" height=\"24px\" viewBox=\"0 -960 960 960\">\n",
              "    <path d=\"M120-120v-720h720v720H120Zm60-500h600v-160H180v160Zm220 220h160v-160H400v160Zm0 220h160v-160H400v160ZM180-400h160v-160H180v160Zm440 0h160v-160H620v160ZM180-180h160v-160H180v160Zm440 0h160v-160H620v160Z\"/>\n",
              "  </svg>\n",
              "    </button>\n",
              "\n",
              "  <style>\n",
              "    .colab-df-container {\n",
              "      display:flex;\n",
              "      gap: 12px;\n",
              "    }\n",
              "\n",
              "    .colab-df-convert {\n",
              "      background-color: #E8F0FE;\n",
              "      border: none;\n",
              "      border-radius: 50%;\n",
              "      cursor: pointer;\n",
              "      display: none;\n",
              "      fill: #1967D2;\n",
              "      height: 32px;\n",
              "      padding: 0 0 0 0;\n",
              "      width: 32px;\n",
              "    }\n",
              "\n",
              "    .colab-df-convert:hover {\n",
              "      background-color: #E2EBFA;\n",
              "      box-shadow: 0px 1px 2px rgba(60, 64, 67, 0.3), 0px 1px 3px 1px rgba(60, 64, 67, 0.15);\n",
              "      fill: #174EA6;\n",
              "    }\n",
              "\n",
              "    .colab-df-buttons div {\n",
              "      margin-bottom: 4px;\n",
              "    }\n",
              "\n",
              "    [theme=dark] .colab-df-convert {\n",
              "      background-color: #3B4455;\n",
              "      fill: #D2E3FC;\n",
              "    }\n",
              "\n",
              "    [theme=dark] .colab-df-convert:hover {\n",
              "      background-color: #434B5C;\n",
              "      box-shadow: 0px 1px 3px 1px rgba(0, 0, 0, 0.15);\n",
              "      filter: drop-shadow(0px 1px 2px rgba(0, 0, 0, 0.3));\n",
              "      fill: #FFFFFF;\n",
              "    }\n",
              "  </style>\n",
              "\n",
              "    <script>\n",
              "      const buttonEl =\n",
              "        document.querySelector('#df-c2413d53-ebe2-4022-82d7-b7f36e17f659 button.colab-df-convert');\n",
              "      buttonEl.style.display =\n",
              "        google.colab.kernel.accessAllowed ? 'block' : 'none';\n",
              "\n",
              "      async function convertToInteractive(key) {\n",
              "        const element = document.querySelector('#df-c2413d53-ebe2-4022-82d7-b7f36e17f659');\n",
              "        const dataTable =\n",
              "          await google.colab.kernel.invokeFunction('convertToInteractive',\n",
              "                                                    [key], {});\n",
              "        if (!dataTable) return;\n",
              "\n",
              "        const docLinkHtml = 'Like what you see? Visit the ' +\n",
              "          '<a target=\"_blank\" href=https://colab.research.google.com/notebooks/data_table.ipynb>data table notebook</a>'\n",
              "          + ' to learn more about interactive tables.';\n",
              "        element.innerHTML = '';\n",
              "        dataTable['output_type'] = 'display_data';\n",
              "        await google.colab.output.renderOutput(dataTable, element);\n",
              "        const docLink = document.createElement('div');\n",
              "        docLink.innerHTML = docLinkHtml;\n",
              "        element.appendChild(docLink);\n",
              "      }\n",
              "    </script>\n",
              "  </div>\n",
              "\n",
              "\n",
              "<div id=\"df-748ac2a3-5394-44c9-bc3f-b71784f90914\">\n",
              "  <button class=\"colab-df-quickchart\" onclick=\"quickchart('df-748ac2a3-5394-44c9-bc3f-b71784f90914')\"\n",
              "            title=\"Suggest charts\"\n",
              "            style=\"display:none;\">\n",
              "\n",
              "<svg xmlns=\"http://www.w3.org/2000/svg\" height=\"24px\"viewBox=\"0 0 24 24\"\n",
              "     width=\"24px\">\n",
              "    <g>\n",
              "        <path d=\"M19 3H5c-1.1 0-2 .9-2 2v14c0 1.1.9 2 2 2h14c1.1 0 2-.9 2-2V5c0-1.1-.9-2-2-2zM9 17H7v-7h2v7zm4 0h-2V7h2v10zm4 0h-2v-4h2v4z\"/>\n",
              "    </g>\n",
              "</svg>\n",
              "  </button>\n",
              "\n",
              "<style>\n",
              "  .colab-df-quickchart {\n",
              "      --bg-color: #E8F0FE;\n",
              "      --fill-color: #1967D2;\n",
              "      --hover-bg-color: #E2EBFA;\n",
              "      --hover-fill-color: #174EA6;\n",
              "      --disabled-fill-color: #AAA;\n",
              "      --disabled-bg-color: #DDD;\n",
              "  }\n",
              "\n",
              "  [theme=dark] .colab-df-quickchart {\n",
              "      --bg-color: #3B4455;\n",
              "      --fill-color: #D2E3FC;\n",
              "      --hover-bg-color: #434B5C;\n",
              "      --hover-fill-color: #FFFFFF;\n",
              "      --disabled-bg-color: #3B4455;\n",
              "      --disabled-fill-color: #666;\n",
              "  }\n",
              "\n",
              "  .colab-df-quickchart {\n",
              "    background-color: var(--bg-color);\n",
              "    border: none;\n",
              "    border-radius: 50%;\n",
              "    cursor: pointer;\n",
              "    display: none;\n",
              "    fill: var(--fill-color);\n",
              "    height: 32px;\n",
              "    padding: 0;\n",
              "    width: 32px;\n",
              "  }\n",
              "\n",
              "  .colab-df-quickchart:hover {\n",
              "    background-color: var(--hover-bg-color);\n",
              "    box-shadow: 0 1px 2px rgba(60, 64, 67, 0.3), 0 1px 3px 1px rgba(60, 64, 67, 0.15);\n",
              "    fill: var(--button-hover-fill-color);\n",
              "  }\n",
              "\n",
              "  .colab-df-quickchart-complete:disabled,\n",
              "  .colab-df-quickchart-complete:disabled:hover {\n",
              "    background-color: var(--disabled-bg-color);\n",
              "    fill: var(--disabled-fill-color);\n",
              "    box-shadow: none;\n",
              "  }\n",
              "\n",
              "  .colab-df-spinner {\n",
              "    border: 2px solid var(--fill-color);\n",
              "    border-color: transparent;\n",
              "    border-bottom-color: var(--fill-color);\n",
              "    animation:\n",
              "      spin 1s steps(1) infinite;\n",
              "  }\n",
              "\n",
              "  @keyframes spin {\n",
              "    0% {\n",
              "      border-color: transparent;\n",
              "      border-bottom-color: var(--fill-color);\n",
              "      border-left-color: var(--fill-color);\n",
              "    }\n",
              "    20% {\n",
              "      border-color: transparent;\n",
              "      border-left-color: var(--fill-color);\n",
              "      border-top-color: var(--fill-color);\n",
              "    }\n",
              "    30% {\n",
              "      border-color: transparent;\n",
              "      border-left-color: var(--fill-color);\n",
              "      border-top-color: var(--fill-color);\n",
              "      border-right-color: var(--fill-color);\n",
              "    }\n",
              "    40% {\n",
              "      border-color: transparent;\n",
              "      border-right-color: var(--fill-color);\n",
              "      border-top-color: var(--fill-color);\n",
              "    }\n",
              "    60% {\n",
              "      border-color: transparent;\n",
              "      border-right-color: var(--fill-color);\n",
              "    }\n",
              "    80% {\n",
              "      border-color: transparent;\n",
              "      border-right-color: var(--fill-color);\n",
              "      border-bottom-color: var(--fill-color);\n",
              "    }\n",
              "    90% {\n",
              "      border-color: transparent;\n",
              "      border-bottom-color: var(--fill-color);\n",
              "    }\n",
              "  }\n",
              "</style>\n",
              "\n",
              "  <script>\n",
              "    async function quickchart(key) {\n",
              "      const quickchartButtonEl =\n",
              "        document.querySelector('#' + key + ' button');\n",
              "      quickchartButtonEl.disabled = true;  // To prevent multiple clicks.\n",
              "      quickchartButtonEl.classList.add('colab-df-spinner');\n",
              "      try {\n",
              "        const charts = await google.colab.kernel.invokeFunction(\n",
              "            'suggestCharts', [key], {});\n",
              "      } catch (error) {\n",
              "        console.error('Error during call to suggestCharts:', error);\n",
              "      }\n",
              "      quickchartButtonEl.classList.remove('colab-df-spinner');\n",
              "      quickchartButtonEl.classList.add('colab-df-quickchart-complete');\n",
              "    }\n",
              "    (() => {\n",
              "      let quickchartButtonEl =\n",
              "        document.querySelector('#df-748ac2a3-5394-44c9-bc3f-b71784f90914 button');\n",
              "      quickchartButtonEl.style.display =\n",
              "        google.colab.kernel.accessAllowed ? 'block' : 'none';\n",
              "    })();\n",
              "  </script>\n",
              "</div>\n",
              "    </div>\n",
              "  </div>\n"
            ],
            "application/vnd.google.colaboratory.intrinsic+json": {
              "type": "dataframe",
              "summary": "{\n  \"name\": \"data\",\n  \"rows\": 11,\n  \"fields\": [\n    {\n      \"column\": \"gender\",\n      \"properties\": {\n        \"dtype\": \"category\",\n        \"num_unique_values\": 4,\n        \"samples\": [\n          2,\n          \"3555\",\n          \"7043\"\n        ],\n        \"semantic_type\": \"\",\n        \"description\": \"\"\n      }\n    },\n    {\n      \"column\": \"SeniorCitizen\",\n      \"properties\": {\n        \"dtype\": \"number\",\n        \"std\": 2489.9992387084,\n        \"min\": 0.0,\n        \"max\": 7043.0,\n        \"num_unique_values\": 5,\n        \"samples\": [\n          0.1621468124378816,\n          1.0,\n          0.3686116056100131\n        ],\n        \"semantic_type\": \"\",\n        \"description\": \"\"\n      }\n    },\n    {\n      \"column\": \"Partner\",\n      \"properties\": {\n        \"dtype\": \"category\",\n        \"num_unique_values\": 4,\n        \"samples\": [\n          2,\n          \"3641\",\n          \"7043\"\n        ],\n        \"semantic_type\": \"\",\n        \"description\": \"\"\n      }\n    },\n    {\n      \"column\": \"Dependents\",\n      \"properties\": {\n        \"dtype\": \"category\",\n        \"num_unique_values\": 4,\n        \"samples\": [\n          2,\n          \"4933\",\n          \"7043\"\n        ],\n        \"semantic_type\": \"\",\n        \"description\": \"\"\n      }\n    },\n    {\n      \"column\": \"tenure\",\n      \"properties\": {\n        \"dtype\": \"number\",\n        \"std\": 2478.9752758409018,\n        \"min\": 0.0,\n        \"max\": 7043.0,\n        \"num_unique_values\": 8,\n        \"samples\": [\n          32.37114865824223,\n          29.0,\n          7043.0\n        ],\n        \"semantic_type\": \"\",\n        \"description\": \"\"\n      }\n    },\n    {\n      \"column\": \"PhoneService\",\n      \"properties\": {\n        \"dtype\": \"category\",\n        \"num_unique_values\": 4,\n        \"samples\": [\n          2,\n          \"6361\",\n          \"7043\"\n        ],\n        \"semantic_type\": \"\",\n        \"description\": \"\"\n      }\n    },\n    {\n      \"column\": \"MultipleLines\",\n      \"properties\": {\n        \"dtype\": \"category\",\n        \"num_unique_values\": 4,\n        \"samples\": [\n          3,\n          \"3390\",\n          \"7043\"\n        ],\n        \"semantic_type\": \"\",\n        \"description\": \"\"\n      }\n    },\n    {\n      \"column\": \"InternetService\",\n      \"properties\": {\n        \"dtype\": \"category\",\n        \"num_unique_values\": 4,\n        \"samples\": [\n          3,\n          \"3096\",\n          \"7043\"\n        ],\n        \"semantic_type\": \"\",\n        \"description\": \"\"\n      }\n    },\n    {\n      \"column\": \"OnlineSecurity\",\n      \"properties\": {\n        \"dtype\": \"category\",\n        \"num_unique_values\": 4,\n        \"samples\": [\n          3,\n          \"3498\",\n          \"7043\"\n        ],\n        \"semantic_type\": \"\",\n        \"description\": \"\"\n      }\n    },\n    {\n      \"column\": \"OnlineBackup\",\n      \"properties\": {\n        \"dtype\": \"category\",\n        \"num_unique_values\": 4,\n        \"samples\": [\n          3,\n          \"3088\",\n          \"7043\"\n        ],\n        \"semantic_type\": \"\",\n        \"description\": \"\"\n      }\n    },\n    {\n      \"column\": \"DeviceProtection\",\n      \"properties\": {\n        \"dtype\": \"category\",\n        \"num_unique_values\": 4,\n        \"samples\": [\n          3,\n          \"3095\",\n          \"7043\"\n        ],\n        \"semantic_type\": \"\",\n        \"description\": \"\"\n      }\n    },\n    {\n      \"column\": \"TechSupport\",\n      \"properties\": {\n        \"dtype\": \"category\",\n        \"num_unique_values\": 4,\n        \"samples\": [\n          3,\n          \"3473\",\n          \"7043\"\n        ],\n        \"semantic_type\": \"\",\n        \"description\": \"\"\n      }\n    },\n    {\n      \"column\": \"StreamingTV\",\n      \"properties\": {\n        \"dtype\": \"category\",\n        \"num_unique_values\": 4,\n        \"samples\": [\n          3,\n          \"2810\",\n          \"7043\"\n        ],\n        \"semantic_type\": \"\",\n        \"description\": \"\"\n      }\n    },\n    {\n      \"column\": \"StreamingMovies\",\n      \"properties\": {\n        \"dtype\": \"category\",\n        \"num_unique_values\": 4,\n        \"samples\": [\n          3,\n          \"2785\",\n          \"7043\"\n        ],\n        \"semantic_type\": \"\",\n        \"description\": \"\"\n      }\n    },\n    {\n      \"column\": \"Contract\",\n      \"properties\": {\n        \"dtype\": \"category\",\n        \"num_unique_values\": 4,\n        \"samples\": [\n          3,\n          \"3875\",\n          \"7043\"\n        ],\n        \"semantic_type\": \"\",\n        \"description\": \"\"\n      }\n    },\n    {\n      \"column\": \"PaperlessBilling\",\n      \"properties\": {\n        \"dtype\": \"category\",\n        \"num_unique_values\": 4,\n        \"samples\": [\n          2,\n          \"4171\",\n          \"7043\"\n        ],\n        \"semantic_type\": \"\",\n        \"description\": \"\"\n      }\n    },\n    {\n      \"column\": \"PaymentMethod\",\n      \"properties\": {\n        \"dtype\": \"category\",\n        \"num_unique_values\": 4,\n        \"samples\": [\n          4,\n          \"2365\",\n          \"7043\"\n        ],\n        \"semantic_type\": \"\",\n        \"description\": \"\"\n      }\n    },\n    {\n      \"column\": \"MonthlyCharges\",\n      \"properties\": {\n        \"dtype\": \"number\",\n        \"std\": 2468.7047672837775,\n        \"min\": 18.25,\n        \"max\": 7043.0,\n        \"num_unique_values\": 8,\n        \"samples\": [\n          64.76169246059918,\n          70.35,\n          7043.0\n        ],\n        \"semantic_type\": \"\",\n        \"description\": \"\"\n      }\n    },\n    {\n      \"column\": \"TotalCharges\",\n      \"properties\": {\n        \"dtype\": \"category\",\n        \"num_unique_values\": 4,\n        \"samples\": [\n          6531,\n          \"11\",\n          \"7043\"\n        ],\n        \"semantic_type\": \"\",\n        \"description\": \"\"\n      }\n    },\n    {\n      \"column\": \"Churn\",\n      \"properties\": {\n        \"dtype\": \"category\",\n        \"num_unique_values\": 4,\n        \"samples\": [\n          2,\n          \"5174\",\n          \"7043\"\n        ],\n        \"semantic_type\": \"\",\n        \"description\": \"\"\n      }\n    }\n  ]\n}"
            }
          },
          "metadata": {},
          "execution_count": 5
        }
      ]
    },
    {
      "cell_type": "code",
      "source": [
        "data.shape"
      ],
      "metadata": {
        "colab": {
          "base_uri": "https://localhost:8080/"
        },
        "id": "HxtzksgqAL9i",
        "outputId": "3eb84206-e238-4cde-dd16-4b4cc7267c2f"
      },
      "execution_count": null,
      "outputs": [
        {
          "output_type": "execute_result",
          "data": {
            "text/plain": [
              "(7043, 20)"
            ]
          },
          "metadata": {},
          "execution_count": 6
        }
      ]
    },
    {
      "cell_type": "code",
      "source": [
        "for col in data.select_dtypes(include=\"object\").columns:\n",
        "  print(colored(f\"{col}\", 'green', attrs=['bold']), f\"feature has\", colored(f\"{data[col].nunique()}\", 'green', attrs=['bold']), f\"unique values.\")"
      ],
      "metadata": {
        "colab": {
          "base_uri": "https://localhost:8080/"
        },
        "id": "NlEpyyjGAcnf",
        "outputId": "e65cb606-19f1-4019-c8ca-fb0832b962de"
      },
      "execution_count": null,
      "outputs": [
        {
          "output_type": "stream",
          "name": "stdout",
          "text": [
            "gender feature has 2 unique values.\n",
            "Partner feature has 2 unique values.\n",
            "Dependents feature has 2 unique values.\n",
            "PhoneService feature has 2 unique values.\n",
            "MultipleLines feature has 3 unique values.\n",
            "InternetService feature has 3 unique values.\n",
            "OnlineSecurity feature has 3 unique values.\n",
            "OnlineBackup feature has 3 unique values.\n",
            "DeviceProtection feature has 3 unique values.\n",
            "TechSupport feature has 3 unique values.\n",
            "StreamingTV feature has 3 unique values.\n",
            "StreamingMovies feature has 3 unique values.\n",
            "Contract feature has 3 unique values.\n",
            "PaperlessBilling feature has 2 unique values.\n",
            "PaymentMethod feature has 4 unique values.\n",
            "TotalCharges feature has 6531 unique values.\n",
            "Churn feature has 2 unique values.\n"
          ]
        }
      ]
    },
    {
      "cell_type": "code",
      "source": [
        "sns.countplot(x='Churn',data=data,hue='Churn')\n",
        "plt.title(\"Customer Churn Distribution\")\n",
        "plt.show()"
      ],
      "metadata": {
        "colab": {
          "base_uri": "https://localhost:8080/",
          "height": 472
        },
        "id": "BozhursbAfvI",
        "outputId": "972f3900-496e-4a92-e920-1fb01f96eaed"
      },
      "execution_count": null,
      "outputs": [
        {
          "output_type": "display_data",
          "data": {
            "text/plain": [
              "<Figure size 640x480 with 1 Axes>"
            ],
            "image/png": "[encoded data removed]"
          },
          "metadata": {}
        }
      ]
    },
    {
      "cell_type": "code",
      "source": [
        "np.sum(data['Churn']==1)"
      ],
      "metadata": {
        "colab": {
          "base_uri": "https://localhost:8080/"
        },
        "id": "tZFM50OClLJe",
        "outputId": "563d21e8-b7a9-4e40-a43c-7c29d48c4d43"
      },
      "execution_count": null,
      "outputs": [
        {
          "output_type": "execute_result",
          "data": {
            "text/plain": [
              "0"
            ]
          },
          "metadata": {},
          "execution_count": 9
        }
      ]
    },
    {
      "cell_type": "code",
      "source": [
        "data.isnull().sum()"
      ],
      "metadata": {
        "colab": {
          "base_uri": "https://localhost:8080/"
        },
        "id": "gj2Yo4RdGvqi",
        "outputId": "f5cbdb06-c4e8-4afa-f157-3ce57bf6a31e"
      },
      "execution_count": null,
      "outputs": [
        {
          "output_type": "execute_result",
          "data": {
            "text/plain": [
              "gender              0\n",
              "SeniorCitizen       0\n",
              "Partner             0\n",
              "Dependents          0\n",
              "tenure              0\n",
              "PhoneService        0\n",
              "MultipleLines       0\n",
              "InternetService     0\n",
              "OnlineSecurity      0\n",
              "OnlineBackup        0\n",
              "DeviceProtection    0\n",
              "TechSupport         0\n",
              "StreamingTV         0\n",
              "StreamingMovies     0\n",
              "Contract            0\n",
              "PaperlessBilling    0\n",
              "PaymentMethod       0\n",
              "MonthlyCharges      0\n",
              "TotalCharges        0\n",
              "Churn               0\n",
              "dtype: int64"
            ]
          },
          "metadata": {},
          "execution_count": 10
        }
      ]
    },
    {
      "cell_type": "code",
      "source": [
        "fig = px.histogram(data, x=\"Churn\", color=\"Contract\", barmode=\"group\", title=\"<b>Customer contract distribution<b>\")\n",
        "fig.update_layout(width=700, height=500, bargap=0.1)\n",
        "fig.show()"
      ],
      "metadata": {
        "colab": {
          "base_uri": "https://localhost:8080/",
          "height": 517
        },
        "id": "s56NCIj0G7wf",
        "outputId": "2d3e833d-4d7d-41cb-f67f-ba7f18d476ce"
      },
      "execution_count": null,
      "outputs": [
        {
          "output_type": "display_data",
          "data": {
            "text/html": [
              "<html>\n",
              "<head><meta charset=\"utf-8\" /></head>\n",
              "<body>\n",
              "    <div>            <script src=\"https://cdnjs.cloudflare.com/ajax/libs/mathjax/2.7.5/MathJax.js?config=TeX-AMS-MML_SVG\"></script><script type=\"text/javascript\">if (window.MathJax && window.MathJax.Hub && window.MathJax.Hub.Config) {window.MathJax.Hub.Config({SVG: {font: \"STIX-Web\"}});}</script>                <script type=\"text/javascript\">window.PlotlyConfig = {MathJaxConfig: 'local'};</script>\n",
              "        <script charset=\"utf-8\" src=\"https://cdn.plot.ly/plotly-2.24.1.min.js\"></script>                <div id=\"edf6ab09-1f2d-40f5-a176-bf471d54c909\" class=\"plotly-graph-div\" style=\"height:500px; width:700px;\"></div>            <script type=\"text/javascript\">                                    window.PLOTLYENV=window.PLOTLYENV || {};                                    if (document.getElementById(\"edf6ab09-1f2d-40f5-a176-bf471d54c909\")) {                    Plotly.newPlot(                        \"edf6ab09-1f2d-40f5-a176-bf471d54c909\",                        [{\"alignmentgroup\":\"True\",\"bingroup\":\"x\",\"hovertemplate\":\"Contract=Month-to-month\\u003cbr\\u003eChurn=%{x}\\u003cbr\\u003ecount=%{y}\\u003cextra\\u003e\\u003c\\u002fextra\\u003e\",\"legendgroup\":\"Month-to-month\",\"marker\":{\"color\":\"#636efa\",\"pattern\":{\"shape\":\"\"}},\"name\":\"Month-to-month\",\"offsetgroup\":\"Month-to-month\",\"orientation\":\"v\",\"showlegend\":true,\"x\":[\"No\",\"Yes\",\"Yes\",\"Yes\",\"No\",\"No\",\"Yes\",\"No\",\"Yes\",\"No\",\"Yes\",\"No\",\"Yes\",\"Yes\",\"No\",\"No\",\"Yes\",\"Yes\",\"Yes\",\"No\",\"No\",\"No\",\"Yes\",\"No\",\"Yes\",\"Yes\",\"No\",\"No\",\"No\",\"Yes\",\"No\",\"Yes\",\"No\",\"Yes\",\"Yes\",\"No\",\"No\",\"Yes\",\"No\",\"No\",\"No\",\"No\",\"No\",\"No\",\"Yes\",\"No\",\"Yes\",\"No\",\"No\",\"No\",\"No\",\"No\",\"No\",\"Yes\",\"Yes\",\"Yes\",\"No\",\"No\",\"No\",\"Yes\",\"No\",\"Yes\",\"No\",\"Yes\",\"No\",\"No\",\"Yes\",\"No\",\"No\",\"Yes\",\"No\",\"No\",\"Yes\",\"Yes\",\"Yes\",\"No\",\"Yes\",\"Yes\",\"Yes\",\"No\",\"No\",\"Yes\",\"No\",\"No\",\"No\",\"No\",\"Yes\",\"No\",\"Yes\",\"Yes\",\"No\",\"Yes\",\"No\",\"Yes\",\"Yes\",\"No\",\"Yes\",\"No\",\"Yes\",\"Yes\",\"Yes\",\"No\",\"No\",\"No\",\"Yes\",\"No\",\"No\",\"No\",\"No\",\"No\",\"No\",\"Yes\",\"Yes\",\"Yes\",\"No\",\"No\",\"No\",\"No\",\"Yes\",\"Yes\",\"Yes\",\"No\",\"No\",\"Yes\",\"No\",\"Yes\",\"No\",\"Yes\",\"No\",\"No\",\"No\",\"Yes\",\"Yes\",\"Yes\",\"Yes\",\"No\",\"Yes\",\"No\",\"Yes\",\"Yes\",\"No\",\"No\",\"Yes\",\"Yes\",\"No\",\"Yes\",\"Yes\",\"Yes\",\"No\",\"No\",\"No\",\"No\",\"No\",\"No\",\"No\",\"Yes\",\"No\",\"Yes\",\"Yes\",\"Yes\",\"Yes\",\"No\",\"No\",\"No\",\"No\",\"No\",\"Yes\",\"Yes\",\"No\",\"No\",\"Yes\",\"No\",\"No\",\"No\",\"No\",\"Yes\",\"Yes\",\"No\",\"No\",\"No\",\"No\",\"Yes\",\"No\",\"No\",\"Yes\",\"Yes\",\"No\",\"Yes\",\"No\",\"No\",\"No\",\"Yes\",\"No\",\"No\",\"Yes\",\"Yes\",\"Yes\",\"No\",\"Yes\",\"No\",\"No\",\"Yes\",\"No\",\"No\",\"Yes\",\"No\",\"No\",\"Yes\",\"Yes\",\"Yes\",\"Yes\",\"Yes\",\"No\",\"No\",\"No\",\"No\",\"No\",\"No\",\"No\",\"No\",\"Yes\",\"No\",\"Yes\",\"No\",\"Yes\",\"Yes\",\"Yes\",\"No\",\"No\",\"No\",\"No\",\"Yes\",\"Yes\",\"No\",\"No\",\"No\",\"No\",\"No\",\"No\",\"Yes\",\"No\",\"Yes\",\"No\",\"No\",\"No\",\"No\",\"No\",\"No\",\"No\",\"Yes\",\"Yes\",\"No\",\"No\",\"No\",\"Yes\",\"No\",\"No\",\"No\",\"No\",\"No\",\"Yes\",\"Yes\",\"Yes\",\"Yes\",\"No\",\"No\",\"Yes\",\"Yes\",\"No\",\"No\",\"Yes\",\"Yes\",\"Yes\",\"No\",\"Yes\",\"No\",\"Yes\",\"No\",\"Yes\",\"No\",\"No\",\"Yes\",\"Yes\",\"No\",\"Yes\",\"No\",\"Yes\",\"Yes\",\"No\",\"No\",\"Yes\",\"No\",\"No\",\"Yes\",\"No\",\"Yes\",\"No\",\"No\",\"No\",\"Yes\",\"Yes\",\"No\",\"Yes\",\"No\",\"No\",\"No\",\"No\",\"Yes\",\"Yes\",\"Yes\",\"No\",\"Yes\",\"No\",\"No\",\"No\",\"No\",\"No\",\"No\",\"Yes\",\"No\",\"No\",\"No\",\"No\",\"Yes\",\"Yes\",\"Yes\",\"No\",\"No\",\"Yes\",\"No\",\"No\",\"Yes\",\"No\",\"No\",\"Yes\",\"Yes\",\"Yes\",\"No\",\"No\",\"No\",\"No\",\"No\",\"Yes\",\"No\",\"No\",\"Yes\",\"Yes\",\"No\",\"Yes\",\"Yes\",\"Yes\",\"Yes\",\"No\",\"Yes\",\"Yes\",\"Yes\",\"No\",\"Yes\",\"Yes\",\"No\",\"Yes\",\"No\",\"No\",\"Yes\",\"No\",\"No\",\"No\",\"Yes\",\"No\",\"Yes\",\"Yes\",\"No\",\"Yes\",\"Yes\",\"No\",\"No\",\"Yes\",\"No\",\"No\",\"No\",\"Yes\",\"No\",\"No\",\"Yes\",\"No\",\"Yes\",\"No\",\"No\",\"No\",\"No\",\"Yes\",\"No\",\"No\",\"Yes\",\"No\",\"No\",\"No\",\"No\",\"No\",\"No\",\"Yes\",\"Yes\",\"Yes\",\"No\",\"No\",\"Yes\",\"Yes\",\"No\",\"No\",\"No\",\"No\",\"No\",\"No\",\"Yes\",\"No\",\"No\",\"No\",\"No\",\"No\",\"Yes\",\"No\",\"Yes\",\"No\",\"Yes\",\"Yes\",\"No\",\"No\",\"No\",\"No\",\"Yes\",\"Yes\",\"Yes\",\"No\",\"Yes\",\"Yes\",\"No\",\"No\",\"Yes\",\"No\",\"No\",\"No\",\"No\",\"No\",\"Yes\",\"Yes\",\"No\",\"Yes\",\"Yes\",\"No\",\"No\",\"Yes\",\"Yes\",\"No\",\"No\",\"Yes\",\"Yes\",\"No\",\"No\",\"No\",\"Yes\",\"No\",\"Yes\",\"No\",\"No\",\"Yes\",\"No\",\"No\",\"Yes\",\"Yes\",\"Yes\",\"Yes\",\"Yes\",\"No\",\"Yes\",\"No\",\"Yes\",\"No\",\"Yes\",\"Yes\",\"No\",\"No\",\"Yes\",\"No\",\"Yes\",\"No\",\"Yes\",\"No\",\"Yes\",\"No\",\"No\",\"Yes\",\"Yes\",\"Yes\",\"No\",\"No\",\"Yes\",\"No\",\"Yes\",\"No\",\"No\",\"No\",\"No\",\"No\",\"No\",\"Yes\",\"Yes\",\"No\",\"Yes\",\"No\",\"Yes\",\"No\",\"No\",\"No\",\"No\",\"Yes\",\"No\",\"No\",\"Yes\",\"Yes\",\"No\",\"No\",\"No\",\"No\",\"Yes\",\"No\",\"No\",\"No\",\"No\",\"No\",\"Yes\",\"Yes\",\"Yes\",\"No\",\"Yes\",\"Yes\",\"No\",\"Yes\",\"Yes\",\"No\",\"No\",\"Yes\",\"Yes\",\"No\",\"No\",\"No\",\"Yes\",\"Yes\",\"Yes\",\"No\",\"Yes\",\"Yes\",\"No\",\"No\",\"Yes\",\"Yes\",\"Yes\",\"No\",\"No\",\"No\",\"Yes\",\"No\",\"No\",\"No\",\"No\",\"No\",\"No\",\"Yes\",\"Yes\",\"Yes\",\"No\",\"No\",\"Yes\",\"No\",\"Yes\",\"Yes\",\"No\",\"Yes\",\"No\",\"No\",\"Yes\",\"Yes\",\"No\",\"Yes\",\"Yes\",\"Yes\",\"Yes\",\"Yes\",\"Yes\",\"No\",\"No\",\"Yes\",\"No\",\"Yes\",\"Yes\",\"Yes\",\"Yes\",\"No\",\"No\",\"Yes\",\"No\",\"No\",\"Yes\",\"Yes\",\"Yes\",\"No\",\"Yes\",\"No\",\"No\",\"No\",\"No\",\"No\",\"No\",\"Yes\",\"No\",\"No\",\"Yes\",\"Yes\",\"No\",\"No\",\"No\",\"No\",\"Yes\",\"Yes\",\"No\",\"No\",\"Yes\",\"Yes\",\"No\",\"No\",\"No\",\"No\",\"No\",\"No\",\"Yes\",\"No\",\"No\",\"Yes\",\"Yes\",\"No\",\"No\",\"No\",\"No\",\"Yes\",\"No\",\"Yes\",\"Yes\",\"No\",\"No\",\"Yes\",\"No\",\"Yes\",\"Yes\",\"No\",\"Yes\",\"No\",\"No\",\"Yes\",\"No\",\"Yes\",\"No\",\"No\",\"No\",\"No\",\"No\",\"No\",\"Yes\",\"No\",\"No\",\"Yes\",\"Yes\",\"Yes\",\"No\",\"Yes\",\"Yes\",\"Yes\",\"No\",\"No\",\"No\",\"Yes\",\"Yes\",\"Yes\",\"No\",\"No\",\"No\",\"Yes\",\"Yes\",\"Yes\",\"No\",\"No\",\"No\",\"No\",\"Yes\",\"Yes\",\"No\",\"No\",\"Yes\",\"Yes\",\"Yes\",\"No\",\"Yes\",\"Yes\",\"No\",\"No\",\"No\",\"Yes\",\"No\",\"No\",\"No\",\"No\",\"Yes\",\"No\",\"Yes\",\"Yes\",\"No\",\"No\",\"Yes\",\"Yes\",\"No\",\"Yes\",\"Yes\",\"Yes\",\"Yes\",\"No\",\"No\",\"No\",\"Yes\",\"No\",\"Yes\",\"Yes\",\"No\",\"No\",\"Yes\",\"Yes\",\"No\",\"Yes\",\"Yes\",\"Yes\",\"No\",\"Yes\",\"Yes\",\"No\",\"No\",\"Yes\",\"No\",\"No\",\"No\",\"No\",\"Yes\",\"Yes\",\"Yes\",\"Yes\",\"Yes\",\"Yes\",\"No\",\"No\",\"Yes\",\"No\",\"No\",\"No\",\"No\",\"Yes\",\"Yes\",\"No\",\"Yes\",\"No\",\"No\",\"No\",\"No\",\"No\",\"Yes\",\"Yes\",\"No\",\"Yes\",\"No\",\"Yes\",\"No\",\"Yes\",\"No\",\"No\",\"No\",\"No\",\"Yes\",\"Yes\",\"No\",\"No\",\"Yes\",\"No\",\"No\",\"Yes\",\"No\",\"Yes\",\"No\",\"Yes\",\"No\",\"No\",\"No\",\"Yes\",\"No\",\"No\",\"No\",\"No\",\"No\",\"No\",\"No\",\"Yes\",\"Yes\",\"Yes\",\"No\",\"Yes\",\"No\",\"No\",\"No\",\"Yes\",\"No\",\"No\",\"Yes\",\"Yes\",\"No\",\"No\",\"Yes\",\"No\",\"Yes\",\"Yes\",\"No\",\"No\",\"Yes\",\"No\",\"No\",\"No\",\"No\",\"Yes\",\"No\",\"No\",\"No\",\"Yes\",\"No\",\"Yes\",\"No\",\"Yes\",\"No\",\"No\",\"Yes\",\"No\",\"Yes\",\"No\",\"No\",\"No\",\"No\",\"No\",\"Yes\",\"No\",\"No\",\"Yes\",\"No\",\"Yes\",\"No\",\"No\",\"Yes\",\"No\",\"No\",\"Yes\",\"No\",\"No\",\"No\",\"Yes\",\"No\",\"Yes\",\"No\",\"Yes\",\"No\",\"No\",\"Yes\",\"No\",\"No\",\"No\",\"No\",\"No\",\"Yes\",\"Yes\",\"Yes\",\"Yes\",\"No\",\"No\",\"No\",\"No\",\"Yes\",\"No\",\"Yes\",\"No\",\"Yes\",\"Yes\",\"Yes\",\"Yes\",\"No\",\"No\",\"Yes\",\"No\",\"Yes\",\"Yes\",\"No\",\"No\",\"No\",\"No\",\"Yes\",\"No\",\"Yes\",\"No\",\"No\",\"Yes\",\"Yes\",\"Yes\",\"No\",\"No\",\"Yes\",\"Yes\",\"No\",\"Yes\",\"No\",\"No\",\"Yes\",\"No\",\"No\",\"Yes\",\"Yes\",\"Yes\",\"No\",\"No\",\"No\",\"Yes\",\"Yes\",\"Yes\",\"No\",\"No\",\"No\",\"No\",\"Yes\",\"No\",\"No\",\"Yes\",\"Yes\",\"Yes\",\"No\",\"Yes\",\"No\",\"No\",\"Yes\",\"No\",\"No\",\"No\",\"No\",\"No\",\"Yes\",\"No\",\"No\",\"No\",\"No\",\"Yes\",\"Yes\",\"No\",\"Yes\",\"Yes\",\"No\",\"Yes\",\"No\",\"No\",\"Yes\",\"Yes\",\"No\",\"Yes\",\"No\",\"No\",\"No\",\"No\",\"No\",\"Yes\",\"Yes\",\"Yes\",\"No\",\"No\",\"No\",\"No\",\"Yes\",\"Yes\",\"Yes\",\"No\",\"Yes\",\"No\",\"Yes\",\"No\",\"Yes\",\"No\",\"No\",\"No\",\"Yes\",\"Yes\",\"Yes\",\"No\",\"No\",\"No\",\"No\",\"No\",\"Yes\",\"Yes\",\"Yes\",\"No\",\"No\",\"No\",\"No\",\"No\",\"Yes\",\"No\",\"Yes\",\"No\",\"Yes\",\"Yes\",\"No\",\"No\",\"Yes\",\"No\",\"Yes\",\"Yes\",\"Yes\",\"Yes\",\"Yes\",\"Yes\",\"Yes\",\"Yes\",\"No\",\"Yes\",\"No\",\"No\",\"No\",\"No\",\"Yes\",\"Yes\",\"No\",\"No\",\"Yes\",\"No\",\"Yes\",\"No\",\"Yes\",\"Yes\",\"No\",\"No\",\"No\",\"No\",\"Yes\",\"Yes\",\"No\",\"No\",\"Yes\",\"No\",\"No\",\"No\",\"No\",\"Yes\",\"No\",\"Yes\",\"No\",\"No\",\"No\",\"Yes\",\"Yes\",\"Yes\",\"No\",\"No\",\"No\",\"Yes\",\"No\",\"No\",\"No\",\"No\",\"Yes\",\"No\",\"Yes\",\"Yes\",\"No\",\"No\",\"Yes\",\"Yes\",\"No\",\"No\",\"No\",\"No\",\"No\",\"No\",\"Yes\",\"No\",\"Yes\",\"No\",\"Yes\",\"Yes\",\"No\",\"No\",\"Yes\",\"No\",\"Yes\",\"Yes\",\"Yes\",\"Yes\",\"No\",\"Yes\",\"Yes\",\"Yes\",\"Yes\",\"No\",\"No\",\"Yes\",\"Yes\",\"Yes\",\"Yes\",\"Yes\",\"No\",\"Yes\",\"No\",\"No\",\"Yes\",\"Yes\",\"No\",\"Yes\",\"No\",\"No\",\"Yes\",\"Yes\",\"No\",\"No\",\"No\",\"Yes\",\"Yes\",\"No\",\"No\",\"No\",\"No\",\"Yes\",\"No\",\"No\",\"Yes\",\"Yes\",\"No\",\"No\",\"Yes\",\"No\",\"Yes\",\"No\",\"No\",\"Yes\",\"Yes\",\"No\",\"Yes\",\"No\",\"Yes\",\"No\",\"No\",\"No\",\"Yes\",\"Yes\",\"Yes\",\"Yes\",\"Yes\",\"No\",\"No\",\"No\",\"Yes\",\"Yes\",\"No\",\"No\",\"No\",\"No\",\"No\",\"Yes\",\"Yes\",\"No\",\"No\",\"No\",\"No\",\"Yes\",\"No\",\"No\",\"No\",\"Yes\",\"No\",\"No\",\"Yes\",\"Yes\",\"No\",\"No\",\"No\",\"No\",\"Yes\",\"No\",\"No\",\"No\",\"No\",\"No\",\"No\",\"No\",\"No\",\"Yes\",\"Yes\",\"Yes\",\"No\",\"Yes\",\"Yes\",\"Yes\",\"No\",\"No\",\"No\",\"Yes\",\"No\",\"Yes\",\"Yes\",\"No\",\"Yes\",\"Yes\",\"No\",\"No\",\"Yes\",\"Yes\",\"Yes\",\"Yes\",\"No\",\"Yes\",\"No\",\"No\",\"No\",\"Yes\",\"Yes\",\"No\",\"Yes\",\"No\",\"No\",\"No\",\"No\",\"Yes\",\"No\",\"No\",\"No\",\"No\",\"Yes\",\"No\",\"Yes\",\"Yes\",\"Yes\",\"Yes\",\"Yes\",\"No\",\"No\",\"Yes\",\"Yes\",\"No\",\"Yes\",\"No\",\"No\",\"Yes\",\"Yes\",\"Yes\",\"No\",\"Yes\",\"No\",\"No\",\"Yes\",\"Yes\",\"Yes\",\"Yes\",\"No\",\"No\",\"Yes\",\"No\",\"No\",\"No\",\"No\",\"No\",\"No\",\"Yes\",\"Yes\",\"No\",\"No\",\"No\",\"No\",\"No\",\"No\",\"No\",\"Yes\",\"Yes\",\"No\",\"No\",\"No\",\"No\",\"No\",\"No\",\"No\",\"No\",\"No\",\"Yes\",\"No\",\"No\",\"No\",\"No\",\"Yes\",\"Yes\",\"No\",\"No\",\"No\",\"Yes\",\"Yes\",\"No\",\"No\",\"No\",\"No\",\"No\",\"No\",\"No\",\"No\",\"No\",\"Yes\",\"No\",\"No\",\"No\",\"No\",\"No\",\"Yes\",\"Yes\",\"Yes\",\"No\",\"Yes\",\"No\",\"No\",\"No\",\"No\",\"No\",\"No\",\"No\",\"Yes\",\"Yes\",\"Yes\",\"No\",\"No\",\"No\",\"No\",\"Yes\",\"No\",\"No\",\"Yes\",\"Yes\",\"No\",\"Yes\",\"No\",\"Yes\",\"No\",\"Yes\",\"No\",\"Yes\",\"No\",\"No\",\"No\",\"Yes\",\"Yes\",\"Yes\",\"Yes\",\"No\",\"No\",\"No\",\"No\",\"Yes\",\"No\",\"Yes\",\"No\",\"Yes\",\"No\",\"Yes\",\"No\",\"Yes\",\"No\",\"Yes\",\"No\",\"No\",\"Yes\",\"Yes\",\"Yes\",\"Yes\",\"Yes\",\"No\",\"No\",\"Yes\",\"Yes\",\"Yes\",\"Yes\",\"No\",\"Yes\",\"No\",\"No\",\"No\",\"No\",\"No\",\"No\",\"No\",\"No\",\"No\",\"Yes\",\"Yes\",\"Yes\",\"Yes\",\"Yes\",\"Yes\",\"No\",\"No\",\"Yes\",\"Yes\",\"No\",\"No\",\"No\",\"No\",\"No\",\"No\",\"Yes\",\"No\",\"No\",\"No\",\"No\",\"No\",\"No\",\"No\",\"Yes\",\"Yes\",\"Yes\",\"Yes\",\"Yes\",\"No\",\"Yes\",\"Yes\",\"Yes\",\"Yes\",\"No\",\"No\",\"No\",\"No\",\"No\",\"Yes\",\"Yes\",\"Yes\",\"Yes\",\"No\",\"No\",\"Yes\",\"Yes\",\"Yes\",\"No\",\"No\",\"No\",\"No\",\"Yes\",\"No\",\"Yes\",\"Yes\",\"No\",\"No\",\"Yes\",\"Yes\",\"Yes\",\"No\",\"Yes\",\"No\",\"Yes\",\"Yes\",\"Yes\",\"Yes\",\"Yes\",\"No\",\"Yes\",\"Yes\",\"No\",\"No\",\"No\",\"No\",\"No\",\"No\",\"Yes\",\"Yes\",\"Yes\",\"Yes\",\"No\",\"No\",\"No\",\"No\",\"No\",\"Yes\",\"Yes\",\"No\",\"No\",\"Yes\",\"Yes\",\"No\",\"No\",\"No\",\"No\",\"No\",\"No\",\"Yes\",\"Yes\",\"Yes\",\"No\",\"Yes\",\"No\",\"Yes\",\"Yes\",\"No\",\"No\",\"Yes\",\"No\",\"No\",\"Yes\",\"No\",\"No\",\"No\",\"No\",\"Yes\",\"Yes\",\"No\",\"No\",\"No\",\"Yes\",\"No\",\"Yes\",\"No\",\"No\",\"Yes\",\"No\",\"No\",\"No\",\"No\",\"Yes\",\"No\",\"Yes\",\"Yes\",\"No\",\"Yes\",\"No\",\"No\",\"Yes\",\"Yes\",\"No\",\"Yes\",\"Yes\",\"No\",\"No\",\"Yes\",\"Yes\",\"No\",\"Yes\",\"No\",\"No\",\"No\",\"Yes\",\"No\",\"No\",\"No\",\"No\",\"No\",\"No\",\"No\",\"No\",\"Yes\",\"Yes\",\"No\",\"No\",\"No\",\"No\",\"Yes\",\"Yes\",\"Yes\",\"Yes\",\"Yes\",\"No\",\"Yes\",\"No\",\"No\",\"No\",\"Yes\",\"Yes\",\"Yes\",\"Yes\",\"No\",\"Yes\",\"Yes\",\"No\",\"No\",\"Yes\",\"No\",\"Yes\",\"Yes\",\"Yes\",\"No\",\"No\",\"No\",\"Yes\",\"Yes\",\"No\",\"Yes\",\"No\",\"No\",\"No\",\"No\",\"Yes\",\"Yes\",\"No\",\"No\",\"No\",\"No\",\"Yes\",\"No\",\"No\",\"Yes\",\"Yes\",\"Yes\",\"No\",\"No\",\"No\",\"No\",\"Yes\",\"No\",\"Yes\",\"Yes\",\"No\",\"No\",\"Yes\",\"Yes\",\"Yes\",\"No\",\"No\",\"No\",\"No\",\"No\",\"Yes\",\"No\",\"No\",\"No\",\"No\",\"Yes\",\"No\",\"No\",\"Yes\",\"No\",\"Yes\",\"Yes\",\"No\",\"Yes\",\"Yes\",\"No\",\"No\",\"No\",\"Yes\",\"Yes\",\"No\",\"No\",\"No\",\"Yes\",\"No\",\"Yes\",\"Yes\",\"Yes\",\"Yes\",\"No\",\"No\",\"Yes\",\"Yes\",\"Yes\",\"Yes\",\"No\",\"Yes\",\"Yes\",\"No\",\"Yes\",\"Yes\",\"No\",\"No\",\"No\",\"No\",\"No\",\"Yes\",\"No\",\"No\",\"No\",\"Yes\",\"Yes\",\"Yes\",\"No\",\"Yes\",\"Yes\",\"No\",\"Yes\",\"Yes\",\"Yes\",\"No\",\"No\",\"Yes\",\"No\",\"No\",\"Yes\",\"Yes\",\"No\",\"No\",\"No\",\"No\",\"No\",\"Yes\",\"Yes\",\"Yes\",\"No\",\"No\",\"No\",\"Yes\",\"No\",\"No\",\"No\",\"Yes\",\"Yes\",\"Yes\",\"Yes\",\"No\",\"Yes\",\"Yes\",\"No\",\"No\",\"Yes\",\"Yes\",\"No\",\"No\",\"No\",\"No\",\"No\",\"No\",\"No\",\"No\",\"Yes\",\"Yes\",\"No\",\"No\",\"No\",\"No\",\"No\",\"Yes\",\"Yes\",\"Yes\",\"No\",\"Yes\",\"Yes\",\"No\",\"Yes\",\"No\",\"No\",\"Yes\",\"No\",\"Yes\",\"No\",\"No\",\"No\",\"Yes\",\"No\",\"No\",\"Yes\",\"No\",\"No\",\"No\",\"No\",\"Yes\",\"No\",\"No\",\"No\",\"Yes\",\"No\",\"No\",\"No\",\"No\",\"Yes\",\"No\",\"No\",\"Yes\",\"Yes\",\"Yes\",\"No\",\"Yes\",\"No\",\"No\",\"No\",\"No\",\"No\",\"Yes\",\"Yes\",\"No\",\"No\",\"Yes\",\"No\",\"Yes\",\"Yes\",\"Yes\",\"No\",\"Yes\",\"No\",\"Yes\",\"No\",\"No\",\"No\",\"No\",\"No\",\"Yes\",\"No\",\"No\",\"Yes\",\"Yes\",\"No\",\"No\",\"Yes\",\"No\",\"No\",\"No\",\"Yes\",\"Yes\",\"No\",\"Yes\",\"No\",\"No\",\"Yes\",\"No\",\"No\",\"Yes\",\"Yes\",\"Yes\",\"No\",\"No\",\"Yes\",\"Yes\",\"No\",\"Yes\",\"No\",\"Yes\",\"Yes\",\"Yes\",\"Yes\",\"No\",\"Yes\",\"Yes\",\"No\",\"No\",\"Yes\",\"No\",\"Yes\",\"Yes\",\"No\",\"No\",\"Yes\",\"No\",\"Yes\",\"Yes\",\"No\",\"No\",\"Yes\",\"Yes\",\"Yes\",\"Yes\",\"No\",\"No\",\"No\",\"No\",\"No\",\"No\",\"Yes\",\"No\",\"No\",\"Yes\",\"Yes\",\"Yes\",\"No\",\"No\",\"No\",\"No\",\"No\",\"Yes\",\"Yes\",\"Yes\",\"No\",\"Yes\",\"Yes\",\"No\",\"Yes\",\"No\",\"Yes\",\"No\",\"No\",\"Yes\",\"No\",\"Yes\",\"No\",\"No\",\"Yes\",\"No\",\"No\",\"No\",\"Yes\",\"No\",\"No\",\"No\",\"No\",\"Yes\",\"No\",\"No\",\"Yes\",\"No\",\"No\",\"No\",\"No\",\"Yes\",\"No\",\"Yes\",\"No\",\"No\",\"Yes\",\"Yes\",\"No\",\"No\",\"Yes\",\"Yes\",\"No\",\"No\",\"No\",\"No\",\"No\",\"No\",\"No\",\"Yes\",\"No\",\"No\",\"No\",\"Yes\",\"Yes\",\"Yes\",\"Yes\",\"Yes\",\"No\",\"No\",\"Yes\",\"No\",\"Yes\",\"No\",\"Yes\",\"No\",\"Yes\",\"Yes\",\"No\",\"Yes\",\"No\",\"No\",\"Yes\",\"Yes\",\"No\",\"Yes\",\"Yes\",\"No\",\"No\",\"No\",\"No\",\"No\",\"No\",\"No\",\"No\",\"Yes\",\"No\",\"No\",\"Yes\",\"Yes\",\"No\",\"No\",\"Yes\",\"Yes\",\"Yes\",\"No\",\"Yes\",\"Yes\",\"No\",\"No\",\"No\",\"Yes\",\"No\",\"No\",\"Yes\",\"No\",\"No\",\"Yes\",\"Yes\",\"No\",\"Yes\",\"Yes\",\"No\",\"No\",\"Yes\",\"No\",\"No\",\"No\",\"No\",\"Yes\",\"Yes\",\"No\",\"No\",\"No\",\"Yes\",\"Yes\",\"Yes\",\"No\",\"No\",\"No\",\"Yes\",\"No\",\"No\",\"No\",\"Yes\",\"No\",\"No\",\"Yes\",\"No\",\"No\",\"Yes\",\"Yes\",\"Yes\",\"No\",\"No\",\"No\",\"Yes\",\"Yes\",\"Yes\",\"Yes\",\"No\",\"Yes\",\"No\",\"Yes\",\"Yes\",\"No\",\"No\",\"Yes\",\"No\",\"No\",\"Yes\",\"Yes\",\"No\",\"No\",\"Yes\",\"No\",\"Yes\",\"No\",\"No\",\"No\",\"Yes\",\"No\",\"Yes\",\"Yes\",\"Yes\",\"Yes\",\"No\",\"No\",\"Yes\",\"No\",\"No\",\"No\",\"Yes\",\"Yes\",\"Yes\",\"No\",\"Yes\",\"No\",\"No\",\"No\",\"Yes\",\"Yes\",\"No\",\"Yes\",\"No\",\"No\",\"Yes\",\"No\",\"Yes\",\"No\",\"No\",\"Yes\",\"Yes\",\"Yes\",\"Yes\",\"No\",\"No\",\"No\",\"Yes\",\"Yes\",\"No\",\"No\",\"No\",\"No\",\"Yes\",\"No\",\"No\",\"No\",\"Yes\",\"No\",\"Yes\",\"Yes\",\"No\",\"No\",\"Yes\",\"No\",\"Yes\",\"No\",\"No\",\"No\",\"Yes\",\"No\",\"Yes\",\"No\",\"No\",\"Yes\",\"Yes\",\"No\",\"No\",\"No\",\"Yes\",\"No\",\"Yes\",\"Yes\",\"No\",\"No\",\"No\",\"No\",\"No\",\"No\",\"No\",\"No\",\"No\",\"No\",\"No\",\"Yes\",\"No\",\"Yes\",\"Yes\",\"No\",\"No\",\"No\",\"Yes\",\"No\",\"No\",\"No\",\"No\",\"Yes\",\"Yes\",\"No\",\"No\",\"No\",\"No\",\"No\",\"No\",\"Yes\",\"Yes\",\"No\",\"Yes\",\"Yes\",\"No\",\"Yes\",\"Yes\",\"Yes\",\"No\",\"No\",\"Yes\",\"No\",\"Yes\",\"No\",\"No\",\"Yes\",\"No\",\"No\",\"No\",\"No\",\"Yes\",\"No\",\"No\",\"Yes\",\"No\",\"Yes\",\"Yes\",\"No\",\"No\",\"Yes\",\"Yes\",\"No\",\"No\",\"Yes\",\"Yes\",\"No\",\"No\",\"Yes\",\"No\",\"No\",\"Yes\",\"Yes\",\"No\",\"Yes\",\"No\",\"Yes\",\"No\",\"Yes\",\"No\",\"No\",\"Yes\",\"Yes\",\"No\",\"Yes\",\"No\",\"Yes\",\"No\",\"Yes\",\"No\",\"No\",\"No\",\"Yes\",\"Yes\",\"No\",\"No\",\"Yes\",\"Yes\",\"No\",\"No\",\"No\",\"No\",\"No\",\"No\",\"No\",\"Yes\",\"No\",\"No\",\"Yes\",\"No\",\"No\",\"Yes\",\"Yes\",\"Yes\",\"No\",\"Yes\",\"Yes\",\"No\",\"Yes\",\"No\",\"No\",\"No\",\"Yes\",\"Yes\",\"No\",\"No\",\"No\",\"Yes\",\"Yes\",\"Yes\",\"No\",\"Yes\",\"Yes\",\"No\",\"No\",\"No\",\"No\",\"No\",\"No\",\"No\",\"No\",\"Yes\",\"No\",\"No\",\"No\",\"No\",\"Yes\",\"Yes\",\"No\",\"No\",\"Yes\",\"No\",\"No\",\"No\",\"No\",\"Yes\",\"No\",\"No\",\"Yes\",\"Yes\",\"No\",\"No\",\"No\",\"Yes\",\"No\",\"No\",\"Yes\",\"No\",\"No\",\"Yes\",\"No\",\"No\",\"No\",\"Yes\",\"No\",\"No\",\"No\",\"No\",\"No\",\"Yes\",\"Yes\",\"No\",\"No\",\"Yes\",\"No\",\"No\",\"Yes\",\"No\",\"Yes\",\"No\",\"Yes\",\"No\",\"Yes\",\"Yes\",\"No\",\"No\",\"No\",\"No\",\"No\",\"No\",\"No\",\"Yes\",\"Yes\",\"Yes\",\"Yes\",\"No\",\"No\",\"No\",\"No\",\"No\",\"Yes\",\"Yes\",\"Yes\",\"Yes\",\"No\",\"Yes\",\"Yes\",\"Yes\",\"No\",\"No\",\"No\",\"No\",\"No\",\"Yes\",\"No\",\"Yes\",\"Yes\",\"No\",\"Yes\",\"Yes\",\"Yes\",\"No\",\"Yes\",\"No\",\"No\",\"No\",\"No\",\"No\",\"No\",\"Yes\",\"Yes\",\"Yes\",\"Yes\",\"Yes\",\"No\",\"No\",\"No\",\"Yes\",\"No\",\"No\",\"Yes\",\"No\",\"Yes\",\"Yes\",\"No\",\"No\",\"No\",\"No\",\"Yes\",\"No\",\"No\",\"Yes\",\"Yes\",\"No\",\"No\",\"No\",\"No\",\"No\",\"No\",\"Yes\",\"Yes\",\"No\",\"Yes\",\"Yes\",\"No\",\"No\",\"No\",\"Yes\",\"No\",\"No\",\"No\",\"No\",\"No\",\"No\",\"No\",\"Yes\",\"Yes\",\"No\",\"No\",\"Yes\",\"No\",\"Yes\",\"No\",\"No\",\"No\",\"No\",\"No\",\"Yes\",\"No\",\"Yes\",\"Yes\",\"No\",\"No\",\"No\",\"Yes\",\"No\",\"No\",\"Yes\",\"No\",\"No\",\"No\",\"No\",\"Yes\",\"No\",\"No\",\"Yes\",\"No\",\"No\",\"No\",\"Yes\",\"No\",\"Yes\",\"No\",\"No\",\"No\",\"No\",\"No\",\"No\",\"Yes\",\"No\",\"Yes\",\"Yes\",\"No\",\"Yes\",\"Yes\",\"No\",\"Yes\",\"No\",\"Yes\",\"No\",\"Yes\",\"Yes\",\"No\",\"No\",\"Yes\",\"Yes\",\"Yes\",\"Yes\",\"Yes\",\"No\",\"Yes\",\"No\",\"No\",\"Yes\",\"No\",\"Yes\",\"No\",\"Yes\",\"No\",\"No\",\"Yes\",\"No\",\"No\",\"Yes\",\"Yes\",\"Yes\",\"Yes\",\"No\",\"No\",\"Yes\",\"No\",\"No\",\"No\",\"Yes\",\"Yes\",\"Yes\",\"No\",\"No\",\"Yes\",\"No\",\"No\",\"No\",\"No\",\"Yes\",\"Yes\",\"No\",\"Yes\",\"Yes\",\"No\",\"Yes\",\"No\",\"Yes\",\"No\",\"Yes\",\"No\",\"Yes\",\"No\",\"Yes\",\"No\",\"No\",\"No\",\"No\",\"Yes\",\"Yes\",\"No\",\"No\",\"Yes\",\"Yes\",\"No\",\"Yes\",\"No\",\"No\",\"No\",\"No\",\"No\",\"No\",\"No\",\"Yes\",\"No\",\"No\",\"No\",\"No\",\"Yes\",\"Yes\",\"No\",\"No\",\"No\",\"No\",\"No\",\"Yes\",\"No\",\"No\",\"No\",\"No\",\"Yes\",\"No\",\"No\",\"No\",\"Yes\",\"No\",\"No\",\"No\",\"No\",\"No\",\"Yes\",\"Yes\",\"No\",\"Yes\",\"No\",\"Yes\",\"No\",\"No\",\"No\",\"Yes\",\"No\",\"No\",\"No\",\"No\",\"Yes\",\"Yes\",\"No\",\"No\",\"No\",\"Yes\",\"No\",\"Yes\",\"Yes\",\"No\",\"No\",\"No\",\"No\",\"Yes\",\"No\",\"Yes\",\"No\",\"Yes\",\"Yes\",\"No\",\"Yes\",\"Yes\",\"No\",\"Yes\",\"No\",\"No\",\"No\",\"Yes\",\"No\",\"No\",\"No\",\"No\",\"No\",\"Yes\",\"No\",\"No\",\"Yes\",\"No\",\"Yes\",\"Yes\",\"Yes\",\"Yes\",\"No\",\"No\",\"Yes\",\"No\",\"Yes\",\"No\",\"No\",\"Yes\",\"Yes\",\"Yes\",\"Yes\",\"No\",\"No\",\"Yes\",\"Yes\",\"No\",\"No\",\"Yes\",\"Yes\",\"Yes\",\"No\",\"No\",\"No\",\"No\",\"No\",\"No\",\"Yes\",\"No\",\"Yes\",\"No\",\"No\",\"No\",\"No\",\"No\",\"Yes\",\"No\",\"No\",\"No\",\"Yes\",\"Yes\",\"Yes\",\"No\",\"Yes\",\"No\",\"Yes\",\"No\",\"Yes\",\"Yes\",\"No\",\"No\",\"No\",\"No\",\"Yes\",\"Yes\",\"No\",\"No\",\"Yes\",\"No\",\"Yes\",\"Yes\",\"Yes\",\"Yes\",\"No\",\"Yes\",\"No\",\"No\",\"No\",\"Yes\",\"No\",\"No\",\"Yes\",\"Yes\",\"Yes\",\"No\",\"No\",\"Yes\",\"No\",\"No\",\"No\",\"No\",\"No\",\"Yes\",\"No\",\"No\",\"No\",\"Yes\",\"Yes\",\"Yes\",\"Yes\",\"No\",\"Yes\",\"No\",\"Yes\",\"Yes\",\"No\",\"No\",\"No\",\"No\",\"No\",\"No\",\"Yes\",\"Yes\",\"No\",\"No\",\"No\",\"No\",\"Yes\",\"No\",\"No\",\"Yes\",\"Yes\",\"No\",\"Yes\",\"Yes\",\"No\",\"Yes\",\"Yes\",\"No\",\"No\",\"Yes\",\"Yes\",\"Yes\",\"No\",\"No\",\"Yes\",\"Yes\",\"No\",\"No\",\"Yes\",\"Yes\",\"No\",\"Yes\",\"No\",\"No\",\"No\",\"Yes\",\"Yes\",\"Yes\",\"Yes\",\"No\",\"No\",\"No\",\"No\",\"No\",\"Yes\",\"Yes\",\"Yes\",\"No\",\"Yes\",\"Yes\",\"No\",\"Yes\",\"No\",\"No\",\"No\",\"No\",\"No\",\"No\",\"Yes\",\"No\",\"Yes\",\"No\",\"Yes\",\"No\",\"Yes\",\"No\",\"No\",\"No\",\"No\",\"Yes\",\"Yes\",\"Yes\",\"No\",\"Yes\",\"No\",\"No\",\"No\",\"No\",\"Yes\",\"No\",\"No\",\"No\",\"No\",\"No\",\"Yes\",\"No\",\"Yes\",\"Yes\",\"Yes\",\"No\",\"Yes\",\"No\",\"No\",\"No\",\"No\",\"No\",\"No\",\"No\",\"No\",\"Yes\",\"Yes\",\"No\",\"No\",\"Yes\",\"Yes\",\"Yes\",\"No\",\"No\",\"No\",\"No\",\"No\",\"Yes\",\"Yes\",\"No\",\"Yes\",\"No\",\"No\",\"No\",\"Yes\",\"Yes\",\"No\",\"No\",\"No\",\"Yes\",\"Yes\",\"Yes\",\"Yes\",\"No\",\"No\",\"No\",\"No\",\"No\",\"No\",\"No\",\"No\",\"No\",\"No\",\"No\",\"Yes\",\"No\",\"No\",\"No\",\"No\",\"No\",\"No\",\"Yes\",\"Yes\",\"No\",\"No\",\"No\",\"Yes\",\"No\",\"Yes\",\"Yes\",\"Yes\",\"Yes\",\"No\",\"No\",\"No\",\"No\",\"Yes\",\"Yes\",\"No\",\"No\",\"No\",\"Yes\",\"No\",\"Yes\",\"No\",\"Yes\",\"Yes\",\"No\",\"No\",\"No\",\"No\",\"No\",\"No\",\"Yes\",\"No\",\"Yes\",\"No\",\"No\",\"Yes\",\"No\",\"Yes\",\"Yes\",\"No\",\"Yes\",\"No\",\"No\",\"Yes\",\"No\",\"No\",\"No\",\"No\",\"Yes\",\"No\",\"Yes\",\"Yes\",\"Yes\",\"No\",\"Yes\",\"No\",\"Yes\",\"Yes\",\"No\",\"Yes\",\"No\",\"No\",\"Yes\",\"Yes\",\"Yes\",\"No\",\"No\",\"No\",\"Yes\",\"No\",\"No\",\"Yes\",\"Yes\",\"No\",\"Yes\",\"Yes\",\"No\",\"Yes\",\"Yes\",\"Yes\",\"Yes\",\"No\",\"No\",\"No\",\"Yes\",\"Yes\",\"Yes\",\"No\",\"No\",\"No\",\"No\",\"No\",\"Yes\",\"Yes\",\"Yes\",\"Yes\",\"No\",\"No\",\"No\",\"Yes\",\"Yes\",\"No\",\"Yes\",\"Yes\",\"Yes\",\"No\",\"Yes\",\"No\",\"No\",\"Yes\",\"No\",\"Yes\",\"Yes\",\"No\",\"Yes\",\"Yes\",\"No\",\"No\",\"No\",\"Yes\",\"Yes\",\"No\",\"No\",\"No\",\"Yes\",\"No\",\"No\",\"Yes\",\"Yes\",\"Yes\",\"No\",\"No\",\"Yes\",\"Yes\",\"Yes\",\"No\",\"No\",\"No\",\"Yes\",\"No\",\"Yes\",\"Yes\",\"No\",\"Yes\",\"No\",\"Yes\",\"No\",\"Yes\",\"Yes\",\"No\",\"No\",\"No\",\"No\",\"No\",\"Yes\",\"Yes\",\"No\",\"No\",\"Yes\",\"Yes\",\"No\",\"No\",\"No\",\"No\",\"Yes\",\"Yes\",\"Yes\",\"Yes\",\"Yes\",\"No\",\"Yes\",\"No\",\"Yes\",\"No\",\"No\",\"No\",\"Yes\",\"Yes\",\"No\",\"No\",\"Yes\",\"No\",\"No\",\"No\",\"No\",\"Yes\",\"Yes\",\"Yes\",\"No\",\"Yes\",\"No\",\"No\",\"Yes\",\"Yes\",\"No\",\"Yes\",\"Yes\",\"No\",\"No\",\"No\",\"No\",\"No\",\"No\",\"Yes\",\"No\",\"Yes\",\"No\",\"Yes\",\"No\",\"Yes\",\"Yes\",\"Yes\",\"Yes\",\"Yes\",\"No\",\"Yes\",\"No\",\"No\",\"Yes\",\"Yes\",\"Yes\",\"Yes\",\"No\",\"No\",\"Yes\",\"Yes\",\"Yes\",\"No\",\"Yes\",\"No\",\"No\",\"No\",\"Yes\",\"Yes\",\"No\",\"No\",\"No\",\"No\",\"No\",\"Yes\",\"Yes\",\"Yes\",\"No\",\"No\",\"Yes\",\"No\",\"Yes\",\"Yes\",\"No\",\"Yes\",\"Yes\",\"Yes\",\"Yes\",\"No\",\"No\",\"Yes\",\"No\",\"Yes\",\"No\",\"No\",\"No\",\"No\",\"Yes\",\"No\",\"Yes\",\"No\",\"No\",\"No\",\"Yes\",\"No\",\"No\",\"Yes\",\"Yes\",\"Yes\",\"No\",\"Yes\",\"Yes\",\"No\",\"No\",\"Yes\",\"Yes\",\"No\",\"No\",\"No\",\"Yes\",\"No\",\"No\",\"Yes\",\"No\",\"No\",\"Yes\",\"No\",\"Yes\",\"Yes\",\"No\",\"Yes\",\"Yes\",\"No\",\"Yes\",\"Yes\",\"No\",\"No\",\"No\",\"No\",\"No\",\"Yes\",\"Yes\",\"Yes\",\"No\",\"Yes\",\"No\",\"No\",\"No\",\"No\",\"Yes\",\"No\",\"No\",\"No\",\"No\",\"No\",\"No\",\"No\",\"No\",\"Yes\",\"Yes\",\"No\",\"Yes\",\"No\",\"No\",\"No\",\"Yes\",\"No\",\"No\",\"No\",\"Yes\",\"Yes\",\"No\",\"No\",\"No\",\"Yes\",\"No\",\"Yes\",\"No\",\"Yes\",\"Yes\",\"No\",\"Yes\",\"No\",\"Yes\",\"No\",\"No\",\"Yes\",\"Yes\",\"No\",\"Yes\",\"Yes\",\"No\",\"No\",\"No\",\"No\",\"No\",\"No\",\"No\",\"Yes\",\"No\",\"Yes\",\"Yes\",\"No\",\"No\",\"No\",\"Yes\",\"Yes\",\"No\",\"Yes\",\"No\",\"No\",\"No\",\"Yes\",\"Yes\",\"Yes\",\"No\",\"Yes\",\"Yes\",\"Yes\",\"No\",\"No\",\"Yes\",\"No\",\"No\",\"Yes\",\"No\",\"No\",\"Yes\",\"Yes\",\"No\",\"No\",\"Yes\",\"No\",\"Yes\",\"No\",\"No\",\"Yes\",\"No\",\"No\",\"No\",\"No\",\"No\",\"No\",\"Yes\",\"Yes\",\"Yes\",\"Yes\",\"No\",\"Yes\",\"No\",\"No\",\"No\",\"Yes\",\"Yes\",\"Yes\",\"No\",\"No\",\"No\",\"No\",\"No\",\"No\",\"No\",\"Yes\",\"Yes\",\"No\",\"No\",\"No\",\"No\",\"Yes\",\"Yes\",\"No\",\"No\",\"Yes\",\"No\",\"Yes\",\"No\",\"No\",\"No\",\"Yes\",\"No\",\"Yes\",\"No\",\"Yes\",\"No\",\"Yes\",\"No\",\"No\",\"Yes\",\"No\",\"Yes\",\"No\",\"Yes\",\"No\",\"No\",\"No\",\"No\",\"Yes\",\"No\",\"No\",\"Yes\",\"No\",\"Yes\",\"No\",\"Yes\",\"Yes\",\"No\",\"Yes\",\"Yes\",\"No\",\"Yes\",\"No\",\"No\",\"No\",\"Yes\",\"No\",\"No\",\"Yes\",\"No\",\"No\",\"No\",\"No\",\"No\",\"No\",\"Yes\",\"Yes\",\"Yes\",\"No\",\"Yes\",\"No\",\"Yes\",\"No\",\"Yes\",\"No\",\"Yes\",\"Yes\",\"Yes\",\"Yes\",\"No\",\"No\",\"Yes\",\"No\",\"Yes\",\"No\",\"No\",\"No\",\"No\",\"No\",\"No\",\"No\",\"No\",\"Yes\",\"Yes\",\"No\",\"No\",\"Yes\",\"No\",\"No\",\"No\",\"Yes\",\"No\",\"No\",\"No\",\"Yes\",\"Yes\",\"No\",\"Yes\",\"No\",\"Yes\",\"Yes\",\"Yes\",\"No\",\"Yes\",\"No\",\"No\",\"No\",\"No\",\"Yes\",\"No\",\"Yes\",\"Yes\",\"No\",\"No\",\"Yes\",\"No\",\"Yes\",\"Yes\",\"Yes\",\"Yes\",\"No\",\"No\",\"Yes\",\"No\",\"No\",\"Yes\",\"Yes\",\"Yes\",\"No\",\"No\",\"Yes\",\"No\",\"Yes\",\"Yes\",\"Yes\",\"Yes\",\"No\",\"Yes\",\"Yes\",\"No\",\"Yes\",\"Yes\",\"No\",\"Yes\",\"No\",\"Yes\",\"No\",\"Yes\",\"Yes\",\"No\",\"No\",\"No\",\"No\",\"No\",\"Yes\",\"Yes\",\"No\",\"No\",\"Yes\",\"Yes\",\"No\",\"Yes\",\"Yes\",\"No\",\"Yes\",\"No\",\"No\",\"Yes\",\"No\",\"Yes\",\"No\",\"No\",\"Yes\",\"Yes\",\"Yes\",\"No\",\"No\",\"Yes\",\"No\",\"Yes\",\"No\",\"No\",\"Yes\",\"Yes\",\"No\",\"Yes\",\"No\",\"No\",\"No\",\"No\",\"Yes\",\"No\",\"Yes\",\"No\",\"Yes\",\"No\",\"Yes\",\"No\",\"No\",\"No\",\"Yes\",\"No\",\"No\",\"No\",\"Yes\",\"No\",\"No\",\"No\",\"Yes\",\"Yes\",\"Yes\",\"No\",\"Yes\",\"Yes\",\"Yes\",\"Yes\",\"No\",\"No\",\"Yes\",\"No\",\"Yes\",\"No\",\"No\",\"No\",\"No\",\"Yes\",\"No\",\"No\",\"Yes\",\"Yes\",\"No\",\"Yes\",\"No\",\"No\",\"Yes\",\"Yes\",\"No\",\"No\",\"No\",\"No\",\"No\",\"No\",\"No\",\"Yes\",\"No\",\"No\",\"No\",\"No\",\"Yes\",\"No\",\"Yes\",\"No\",\"No\",\"No\",\"Yes\",\"No\",\"Yes\",\"No\",\"No\",\"Yes\",\"No\",\"No\",\"Yes\",\"Yes\",\"Yes\",\"Yes\",\"No\",\"Yes\",\"Yes\",\"No\",\"Yes\",\"No\",\"No\",\"Yes\",\"Yes\",\"Yes\",\"Yes\",\"Yes\",\"No\",\"No\",\"Yes\",\"Yes\",\"No\",\"Yes\",\"Yes\",\"No\",\"Yes\",\"Yes\",\"Yes\",\"No\",\"No\",\"No\",\"Yes\",\"No\",\"Yes\",\"Yes\",\"Yes\",\"No\",\"No\",\"Yes\",\"Yes\",\"Yes\",\"Yes\",\"No\",\"Yes\",\"No\",\"No\",\"Yes\",\"Yes\",\"No\",\"No\",\"No\",\"No\",\"No\",\"No\",\"No\",\"No\",\"Yes\",\"Yes\",\"Yes\",\"No\",\"Yes\",\"Yes\",\"Yes\",\"No\",\"No\",\"No\",\"Yes\",\"Yes\",\"Yes\",\"No\",\"Yes\",\"No\",\"No\",\"Yes\",\"No\",\"No\",\"Yes\",\"Yes\",\"Yes\",\"Yes\",\"Yes\",\"No\",\"No\",\"Yes\",\"Yes\",\"Yes\",\"Yes\",\"No\",\"No\",\"No\",\"No\",\"No\",\"No\",\"No\",\"No\",\"Yes\",\"Yes\",\"Yes\",\"No\",\"No\",\"No\",\"Yes\",\"No\",\"No\",\"No\",\"No\",\"No\",\"No\",\"Yes\",\"No\",\"Yes\",\"No\",\"No\",\"No\",\"No\",\"Yes\",\"No\",\"No\",\"Yes\",\"No\",\"No\",\"No\",\"No\",\"No\",\"Yes\",\"Yes\",\"Yes\",\"No\",\"Yes\",\"No\",\"No\",\"No\",\"Yes\",\"No\",\"No\",\"Yes\",\"Yes\",\"No\",\"Yes\",\"Yes\",\"Yes\",\"No\",\"No\",\"No\",\"Yes\",\"No\",\"Yes\",\"Yes\",\"No\",\"No\",\"No\",\"Yes\",\"No\",\"No\",\"No\",\"No\",\"Yes\",\"No\",\"No\",\"Yes\",\"No\",\"No\",\"Yes\",\"Yes\",\"No\",\"Yes\",\"No\",\"No\",\"No\",\"No\",\"Yes\",\"Yes\",\"Yes\",\"No\",\"No\",\"Yes\",\"Yes\",\"No\",\"Yes\",\"Yes\",\"No\",\"Yes\",\"No\",\"No\",\"No\",\"Yes\",\"No\",\"Yes\",\"No\",\"Yes\",\"Yes\",\"No\",\"No\",\"Yes\",\"No\",\"No\",\"Yes\",\"No\",\"No\",\"No\",\"No\",\"Yes\",\"No\",\"No\",\"Yes\",\"Yes\",\"Yes\",\"Yes\",\"Yes\",\"Yes\",\"Yes\",\"No\",\"No\",\"No\",\"Yes\",\"Yes\",\"No\",\"No\",\"No\",\"Yes\",\"Yes\",\"Yes\",\"No\",\"No\",\"No\",\"Yes\",\"Yes\",\"Yes\",\"No\",\"Yes\",\"No\",\"No\",\"Yes\",\"Yes\",\"No\",\"No\",\"Yes\",\"No\",\"No\",\"No\",\"Yes\",\"Yes\",\"No\",\"No\",\"Yes\",\"No\",\"Yes\",\"Yes\",\"No\",\"Yes\",\"No\",\"No\",\"No\",\"Yes\",\"Yes\",\"No\",\"No\",\"No\",\"No\",\"Yes\",\"Yes\",\"No\",\"No\",\"Yes\",\"Yes\",\"Yes\",\"Yes\",\"Yes\",\"No\",\"No\",\"Yes\",\"No\",\"No\",\"No\",\"Yes\",\"No\",\"No\",\"Yes\",\"Yes\",\"No\",\"No\",\"Yes\",\"Yes\",\"No\",\"No\",\"Yes\",\"Yes\",\"Yes\",\"Yes\",\"Yes\",\"No\",\"No\",\"No\",\"No\",\"Yes\",\"No\",\"No\",\"No\",\"No\",\"Yes\",\"No\",\"No\",\"No\",\"Yes\",\"No\",\"Yes\",\"No\",\"No\",\"Yes\"],\"xaxis\":\"x\",\"yaxis\":\"y\",\"type\":\"histogram\"},{\"alignmentgroup\":\"True\",\"bingroup\":\"x\",\"hovertemplate\":\"Contract=One year\\u003cbr\\u003eChurn=%{x}\\u003cbr\\u003ecount=%{y}\\u003cextra\\u003e\\u003c\\u002fextra\\u003e\",\"legendgroup\":\"One year\",\"marker\":{\"color\":\"#EF553B\",\"pattern\":{\"shape\":\"\"}},\"name\":\"One year\",\"offsetgroup\":\"One year\",\"orientation\":\"v\",\"showlegend\":true,\"x\":[\"No\",\"No\",\"No\",\"No\",\"No\",\"No\",\"No\",\"No\",\"No\",\"No\",\"No\",\"No\",\"No\",\"No\",\"No\",\"No\",\"No\",\"No\",\"No\",\"No\",\"No\",\"No\",\"No\",\"No\",\"No\",\"No\",\"No\",\"No\",\"No\",\"No\",\"No\",\"No\",\"No\",\"No\",\"No\",\"Yes\",\"No\",\"No\",\"No\",\"No\",\"No\",\"No\",\"No\",\"No\",\"No\",\"No\",\"No\",\"No\",\"No\",\"No\",\"No\",\"No\",\"No\",\"No\",\"No\",\"No\",\"No\",\"No\",\"No\",\"No\",\"No\",\"No\",\"Yes\",\"Yes\",\"No\",\"No\",\"No\",\"Yes\",\"No\",\"No\",\"No\",\"No\",\"No\",\"No\",\"No\",\"No\",\"No\",\"No\",\"No\",\"No\",\"No\",\"No\",\"No\",\"No\",\"No\",\"No\",\"No\",\"No\",\"No\",\"No\",\"No\",\"No\",\"No\",\"No\",\"No\",\"No\",\"No\",\"No\",\"No\",\"Yes\",\"No\",\"No\",\"No\",\"No\",\"No\",\"No\",\"No\",\"No\",\"No\",\"No\",\"No\",\"No\",\"No\",\"No\",\"No\",\"No\",\"No\",\"No\",\"No\",\"Yes\",\"No\",\"No\",\"No\",\"No\",\"No\",\"No\",\"No\",\"No\",\"No\",\"No\",\"No\",\"No\",\"No\",\"No\",\"No\",\"Yes\",\"No\",\"No\",\"No\",\"Yes\",\"No\",\"No\",\"No\",\"No\",\"No\",\"No\",\"No\",\"No\",\"No\",\"No\",\"No\",\"No\",\"No\",\"No\",\"No\",\"Yes\",\"No\",\"No\",\"Yes\",\"No\",\"No\",\"No\",\"Yes\",\"Yes\",\"No\",\"No\",\"No\",\"Yes\",\"Yes\",\"No\",\"No\",\"Yes\",\"Yes\",\"No\",\"No\",\"Yes\",\"No\",\"No\",\"Yes\",\"No\",\"No\",\"No\",\"No\",\"No\",\"No\",\"No\",\"No\",\"No\",\"No\",\"No\",\"No\",\"No\",\"No\",\"No\",\"No\",\"No\",\"No\",\"No\",\"No\",\"No\",\"Yes\",\"No\",\"No\",\"No\",\"No\",\"No\",\"Yes\",\"No\",\"No\",\"No\",\"No\",\"No\",\"No\",\"No\",\"No\",\"No\",\"No\",\"No\",\"No\",\"No\",\"No\",\"No\",\"No\",\"No\",\"No\",\"Yes\",\"No\",\"No\",\"No\",\"No\",\"No\",\"Yes\",\"No\",\"No\",\"No\",\"No\",\"No\",\"No\",\"No\",\"No\",\"No\",\"No\",\"No\",\"Yes\",\"No\",\"No\",\"No\",\"No\",\"No\",\"No\",\"Yes\",\"No\",\"No\",\"No\",\"No\",\"No\",\"No\",\"No\",\"No\",\"Yes\",\"No\",\"Yes\",\"No\",\"No\",\"No\",\"No\",\"No\",\"No\",\"No\",\"Yes\",\"No\",\"No\",\"No\",\"Yes\",\"No\",\"No\",\"No\",\"Yes\",\"No\",\"No\",\"No\",\"No\",\"No\",\"No\",\"Yes\",\"No\",\"No\",\"No\",\"No\",\"Yes\",\"Yes\",\"No\",\"No\",\"No\",\"No\",\"No\",\"No\",\"No\",\"No\",\"No\",\"No\",\"No\",\"No\",\"No\",\"No\",\"No\",\"Yes\",\"No\",\"No\",\"No\",\"No\",\"No\",\"No\",\"Yes\",\"No\",\"No\",\"No\",\"No\",\"No\",\"Yes\",\"Yes\",\"No\",\"No\",\"No\",\"No\",\"Yes\",\"No\",\"No\",\"No\",\"No\",\"No\",\"No\",\"No\",\"No\",\"Yes\",\"No\",\"No\",\"Yes\",\"Yes\",\"No\",\"No\",\"No\",\"No\",\"No\",\"No\",\"No\",\"No\",\"No\",\"No\",\"No\",\"No\",\"No\",\"No\",\"Yes\",\"No\",\"No\",\"No\",\"No\",\"No\",\"No\",\"No\",\"No\",\"No\",\"No\",\"No\",\"No\",\"No\",\"No\",\"No\",\"Yes\",\"No\",\"No\",\"No\",\"No\",\"No\",\"No\",\"No\",\"No\",\"No\",\"No\",\"No\",\"No\",\"No\",\"No\",\"No\",\"No\",\"No\",\"No\",\"No\",\"No\",\"No\",\"No\",\"No\",\"No\",\"No\",\"No\",\"No\",\"No\",\"No\",\"No\",\"No\",\"No\",\"No\",\"No\",\"Yes\",\"No\",\"No\",\"No\",\"Yes\",\"No\",\"No\",\"Yes\",\"No\",\"Yes\",\"No\",\"No\",\"No\",\"No\",\"Yes\",\"No\",\"No\",\"No\",\"No\",\"No\",\"No\",\"No\",\"No\",\"No\",\"No\",\"Yes\",\"No\",\"No\",\"No\",\"No\",\"No\",\"Yes\",\"Yes\",\"No\",\"No\",\"No\",\"No\",\"No\",\"No\",\"No\",\"No\",\"No\",\"No\",\"No\",\"No\",\"No\",\"No\",\"No\",\"No\",\"No\",\"Yes\",\"No\",\"No\",\"No\",\"No\",\"No\",\"No\",\"No\",\"No\",\"Yes\",\"No\",\"No\",\"No\",\"No\",\"No\",\"No\",\"No\",\"Yes\",\"Yes\",\"No\",\"No\",\"No\",\"No\",\"No\",\"No\",\"No\",\"No\",\"No\",\"No\",\"Yes\",\"No\",\"No\",\"No\",\"No\",\"No\",\"No\",\"No\",\"No\",\"No\",\"No\",\"Yes\",\"No\",\"No\",\"No\",\"No\",\"No\",\"No\",\"Yes\",\"No\",\"No\",\"No\",\"No\",\"No\",\"No\",\"No\",\"No\",\"Yes\",\"No\",\"No\",\"No\",\"No\",\"No\",\"No\",\"No\",\"No\",\"No\",\"No\",\"No\",\"No\",\"No\",\"No\",\"No\",\"Yes\",\"No\",\"No\",\"Yes\",\"No\",\"No\",\"No\",\"No\",\"No\",\"Yes\",\"No\",\"No\",\"No\",\"No\",\"Yes\",\"No\",\"No\",\"No\",\"No\",\"Yes\",\"No\",\"No\",\"No\",\"No\",\"No\",\"No\",\"No\",\"No\",\"No\",\"No\",\"No\",\"No\",\"No\",\"No\",\"Yes\",\"No\",\"No\",\"No\",\"No\",\"No\",\"No\",\"No\",\"No\",\"No\",\"No\",\"No\",\"Yes\",\"No\",\"Yes\",\"No\",\"No\",\"No\",\"No\",\"Yes\",\"No\",\"No\",\"Yes\",\"No\",\"No\",\"No\",\"No\",\"No\",\"No\",\"No\",\"No\",\"No\",\"No\",\"No\",\"No\",\"Yes\",\"No\",\"No\",\"No\",\"No\",\"No\",\"No\",\"No\",\"No\",\"No\",\"No\",\"No\",\"No\",\"No\",\"No\",\"No\",\"No\",\"No\",\"No\",\"No\",\"No\",\"No\",\"No\",\"Yes\",\"No\",\"No\",\"No\",\"No\",\"No\",\"No\",\"No\",\"Yes\",\"No\",\"No\",\"No\",\"No\",\"No\",\"No\",\"No\",\"No\",\"No\",\"No\",\"No\",\"No\",\"No\",\"No\",\"No\",\"No\",\"No\",\"No\",\"No\",\"No\",\"No\",\"No\",\"No\",\"No\",\"No\",\"No\",\"No\",\"No\",\"No\",\"No\",\"Yes\",\"No\",\"No\",\"No\",\"No\",\"No\",\"No\",\"No\",\"No\",\"No\",\"No\",\"No\",\"Yes\",\"No\",\"No\",\"No\",\"No\",\"No\",\"No\",\"No\",\"No\",\"No\",\"No\",\"No\",\"Yes\",\"No\",\"No\",\"Yes\",\"No\",\"No\",\"No\",\"No\",\"No\",\"Yes\",\"No\",\"No\",\"No\",\"No\",\"No\",\"No\",\"No\",\"No\",\"No\",\"No\",\"No\",\"No\",\"No\",\"No\",\"No\",\"No\",\"No\",\"Yes\",\"No\",\"No\",\"No\",\"No\",\"No\",\"No\",\"No\",\"No\",\"No\",\"No\",\"No\",\"No\",\"No\",\"No\",\"No\",\"No\",\"No\",\"No\",\"No\",\"No\",\"No\",\"No\",\"No\",\"No\",\"No\",\"No\",\"No\",\"No\",\"Yes\",\"No\",\"No\",\"No\",\"No\",\"Yes\",\"No\",\"No\",\"No\",\"No\",\"No\",\"No\",\"No\",\"No\",\"No\",\"Yes\",\"No\",\"No\",\"No\",\"No\",\"No\",\"No\",\"No\",\"No\",\"No\",\"No\",\"No\",\"No\",\"No\",\"No\",\"No\",\"No\",\"No\",\"Yes\",\"No\",\"No\",\"Yes\",\"No\",\"No\",\"No\",\"No\",\"No\",\"No\",\"No\",\"No\",\"No\",\"No\",\"No\",\"No\",\"No\",\"No\",\"No\",\"No\",\"No\",\"No\",\"No\",\"No\",\"Yes\",\"No\",\"No\",\"No\",\"No\",\"No\",\"Yes\",\"No\",\"Yes\",\"No\",\"No\",\"Yes\",\"Yes\",\"No\",\"No\",\"No\",\"No\",\"Yes\",\"Yes\",\"No\",\"No\",\"No\",\"Yes\",\"No\",\"No\",\"No\",\"No\",\"No\",\"No\",\"Yes\",\"No\",\"No\",\"No\",\"No\",\"No\",\"No\",\"No\",\"No\",\"No\",\"No\",\"No\",\"No\",\"No\",\"Yes\",\"No\",\"No\",\"No\",\"No\",\"No\",\"No\",\"No\",\"No\",\"No\",\"No\",\"Yes\",\"Yes\",\"No\",\"No\",\"No\",\"No\",\"No\",\"No\",\"No\",\"No\",\"No\",\"No\",\"Yes\",\"No\",\"No\",\"No\",\"No\",\"No\",\"No\",\"No\",\"No\",\"No\",\"No\",\"Yes\",\"No\",\"No\",\"No\",\"No\",\"No\",\"No\",\"No\",\"No\",\"No\",\"No\",\"No\",\"No\",\"No\",\"Yes\",\"Yes\",\"No\",\"No\",\"Yes\",\"No\",\"No\",\"No\",\"No\",\"No\",\"Yes\",\"No\",\"No\",\"No\",\"No\",\"No\",\"No\",\"No\",\"No\",\"No\",\"Yes\",\"No\",\"No\",\"No\",\"No\",\"No\",\"No\",\"No\",\"No\",\"No\",\"No\",\"No\",\"No\",\"No\",\"No\",\"No\",\"Yes\",\"No\",\"No\",\"No\",\"No\",\"No\",\"No\",\"No\",\"No\",\"No\",\"No\",\"No\",\"No\",\"No\",\"No\",\"No\",\"No\",\"No\",\"No\",\"No\",\"No\",\"No\",\"No\",\"No\",\"No\",\"No\",\"No\",\"No\",\"No\",\"No\",\"Yes\",\"No\",\"No\",\"No\",\"No\",\"No\",\"No\",\"No\",\"Yes\",\"Yes\",\"No\",\"No\",\"No\",\"No\",\"No\",\"No\",\"No\",\"No\",\"No\",\"No\",\"No\",\"No\",\"Yes\",\"No\",\"No\",\"No\",\"No\",\"No\",\"No\",\"No\",\"No\",\"No\",\"No\",\"Yes\",\"No\",\"No\",\"Yes\",\"No\",\"Yes\",\"No\",\"No\",\"No\",\"Yes\",\"No\",\"No\",\"No\",\"No\",\"No\",\"No\",\"No\",\"No\",\"No\",\"No\",\"No\",\"No\",\"No\",\"No\",\"No\",\"No\",\"No\",\"No\",\"No\",\"No\",\"No\",\"No\",\"No\",\"No\",\"Yes\",\"No\",\"No\",\"No\",\"No\",\"No\",\"No\",\"No\",\"No\",\"Yes\",\"No\",\"Yes\",\"No\",\"Yes\",\"No\",\"No\",\"No\",\"No\",\"No\",\"No\",\"No\",\"No\",\"No\",\"No\",\"No\",\"No\",\"Yes\",\"No\",\"No\",\"Yes\",\"No\",\"No\",\"No\",\"Yes\",\"No\",\"No\",\"No\",\"Yes\",\"Yes\",\"No\",\"Yes\",\"No\",\"No\",\"No\",\"No\",\"No\",\"No\",\"No\",\"No\",\"No\",\"No\",\"No\",\"No\",\"No\",\"No\",\"No\",\"No\",\"Yes\",\"Yes\",\"No\",\"No\",\"No\",\"No\",\"No\",\"Yes\",\"No\",\"No\",\"No\",\"No\",\"No\",\"No\",\"No\",\"Yes\",\"No\",\"No\",\"No\",\"No\",\"No\",\"No\",\"No\",\"No\",\"No\",\"No\",\"No\",\"No\",\"No\",\"No\",\"No\",\"No\",\"No\",\"No\",\"No\",\"No\",\"No\",\"No\",\"No\",\"Yes\",\"No\",\"No\",\"Yes\",\"No\",\"No\",\"No\",\"No\",\"No\",\"No\",\"No\",\"No\",\"No\",\"Yes\",\"No\",\"No\",\"No\",\"No\",\"No\",\"No\",\"No\",\"No\",\"No\",\"No\",\"No\",\"Yes\",\"No\",\"No\",\"Yes\",\"No\",\"Yes\",\"No\",\"No\",\"No\",\"No\",\"No\",\"No\",\"No\",\"No\",\"No\",\"No\",\"No\",\"No\",\"No\",\"No\",\"No\",\"No\",\"No\",\"No\",\"No\",\"No\",\"No\",\"No\",\"No\",\"No\",\"No\",\"No\",\"No\",\"No\",\"No\",\"No\",\"No\",\"No\",\"No\",\"No\",\"No\",\"No\",\"No\",\"No\",\"No\",\"No\",\"No\",\"Yes\",\"No\",\"No\",\"No\",\"Yes\",\"No\",\"No\",\"No\",\"No\",\"No\",\"No\",\"Yes\",\"No\",\"No\",\"No\",\"Yes\",\"No\",\"No\",\"No\",\"No\",\"No\",\"No\",\"No\",\"Yes\",\"No\",\"No\",\"No\",\"No\",\"No\",\"No\",\"Yes\",\"No\",\"No\",\"Yes\",\"No\",\"Yes\",\"No\",\"No\",\"No\",\"No\",\"No\",\"No\",\"No\",\"Yes\",\"No\",\"No\",\"No\",\"Yes\",\"No\",\"No\",\"No\",\"Yes\",\"No\",\"No\",\"No\",\"No\",\"No\",\"No\",\"No\",\"Yes\",\"No\",\"No\",\"No\",\"Yes\",\"No\",\"No\",\"No\",\"No\",\"No\",\"No\",\"No\",\"No\",\"No\",\"No\",\"No\",\"No\",\"No\",\"No\",\"Yes\",\"No\",\"No\",\"No\",\"No\",\"No\",\"No\",\"No\",\"No\",\"No\",\"No\",\"No\",\"No\",\"No\",\"No\",\"No\",\"No\",\"Yes\",\"No\",\"No\",\"Yes\",\"No\",\"No\",\"No\",\"No\",\"No\",\"No\",\"No\",\"No\",\"No\",\"No\",\"No\",\"No\",\"No\",\"No\",\"No\",\"No\",\"No\",\"No\",\"No\",\"No\",\"No\",\"No\",\"No\",\"No\",\"No\",\"No\",\"No\",\"No\",\"Yes\",\"No\",\"No\",\"No\",\"No\",\"Yes\",\"No\",\"No\",\"No\",\"No\",\"Yes\",\"No\",\"No\",\"No\",\"No\",\"No\",\"Yes\",\"No\",\"No\",\"No\",\"No\",\"No\",\"No\",\"No\",\"No\",\"No\",\"No\",\"No\",\"No\",\"No\",\"Yes\",\"No\",\"No\",\"Yes\",\"No\",\"No\",\"No\",\"No\",\"No\",\"No\",\"No\",\"No\",\"No\",\"No\",\"No\",\"No\",\"No\",\"No\",\"No\",\"Yes\",\"No\",\"No\",\"No\",\"Yes\",\"Yes\",\"No\",\"No\",\"No\",\"No\",\"No\",\"No\",\"No\",\"No\",\"No\",\"No\",\"No\",\"No\",\"No\",\"No\",\"No\",\"Yes\",\"Yes\",\"No\",\"No\",\"No\",\"No\",\"No\",\"No\",\"No\",\"No\",\"No\",\"No\",\"No\",\"No\",\"No\",\"No\",\"No\",\"No\",\"No\",\"No\",\"No\",\"No\",\"No\",\"No\",\"No\",\"No\",\"No\",\"No\",\"No\",\"No\",\"No\",\"No\",\"No\",\"No\",\"Yes\",\"No\",\"No\",\"No\",\"Yes\",\"Yes\",\"Yes\",\"No\",\"No\",\"No\",\"No\",\"No\",\"No\",\"No\",\"Yes\",\"No\",\"No\",\"No\",\"No\",\"No\",\"No\",\"No\",\"No\",\"No\",\"No\",\"No\",\"Yes\",\"No\",\"No\",\"No\",\"No\",\"No\",\"No\",\"No\",\"No\",\"No\",\"No\",\"No\",\"No\",\"Yes\",\"No\",\"No\",\"No\",\"No\",\"No\",\"No\",\"No\",\"Yes\",\"No\",\"No\",\"Yes\",\"No\",\"No\",\"No\",\"No\",\"No\"],\"xaxis\":\"x\",\"yaxis\":\"y\",\"type\":\"histogram\"},{\"alignmentgroup\":\"True\",\"bingroup\":\"x\",\"hovertemplate\":\"Contract=Two year\\u003cbr\\u003eChurn=%{x}\\u003cbr\\u003ecount=%{y}\\u003cextra\\u003e\\u003c\\u002fextra\\u003e\",\"legendgroup\":\"Two year\",\"marker\":{\"color\":\"#00cc96\",\"pattern\":{\"shape\":\"\"}},\"name\":\"Two year\",\"offsetgroup\":\"Two year\",\"orientation\":\"v\",\"showlegend\":true,\"x\":[\"No\",\"No\",\"No\",\"No\",\"No\",\"No\",\"No\",\"No\",\"No\",\"No\",\"No\",\"No\",\"No\",\"No\",\"No\",\"No\",\"No\",\"No\",\"No\",\"No\",\"No\",\"No\",\"No\",\"No\",\"Yes\",\"No\",\"No\",\"No\",\"No\",\"No\",\"No\",\"No\",\"No\",\"No\",\"No\",\"No\",\"No\",\"No\",\"No\",\"No\",\"No\",\"No\",\"No\",\"No\",\"No\",\"No\",\"No\",\"No\",\"No\",\"No\",\"No\",\"No\",\"No\",\"No\",\"No\",\"No\",\"No\",\"No\",\"No\",\"No\",\"No\",\"No\",\"No\",\"No\",\"No\",\"No\",\"No\",\"No\",\"No\",\"No\",\"Yes\",\"No\",\"No\",\"No\",\"No\",\"No\",\"No\",\"No\",\"No\",\"No\",\"No\",\"No\",\"Yes\",\"No\",\"No\",\"No\",\"No\",\"No\",\"No\",\"No\",\"No\",\"No\",\"No\",\"No\",\"No\",\"No\",\"No\",\"No\",\"No\",\"No\",\"No\",\"No\",\"No\",\"No\",\"No\",\"No\",\"No\",\"No\",\"No\",\"No\",\"No\",\"No\",\"No\",\"No\",\"No\",\"No\",\"No\",\"No\",\"No\",\"No\",\"No\",\"No\",\"No\",\"No\",\"No\",\"No\",\"No\",\"No\",\"No\",\"No\",\"No\",\"No\",\"No\",\"No\",\"No\",\"No\",\"No\",\"No\",\"No\",\"No\",\"No\",\"No\",\"No\",\"No\",\"No\",\"No\",\"No\",\"No\",\"No\",\"No\",\"No\",\"No\",\"No\",\"No\",\"No\",\"No\",\"No\",\"No\",\"No\",\"No\",\"No\",\"No\",\"No\",\"No\",\"No\",\"No\",\"No\",\"No\",\"No\",\"No\",\"No\",\"No\",\"No\",\"No\",\"No\",\"No\",\"No\",\"No\",\"No\",\"No\",\"No\",\"No\",\"No\",\"No\",\"No\",\"No\",\"No\",\"No\",\"No\",\"No\",\"No\",\"No\",\"No\",\"No\",\"No\",\"No\",\"No\",\"No\",\"No\",\"Yes\",\"No\",\"No\",\"No\",\"No\",\"No\",\"No\",\"No\",\"No\",\"No\",\"No\",\"No\",\"No\",\"No\",\"No\",\"No\",\"No\",\"No\",\"No\",\"No\",\"No\",\"No\",\"No\",\"No\",\"No\",\"No\",\"No\",\"No\",\"No\",\"No\",\"No\",\"No\",\"No\",\"No\",\"No\",\"No\",\"No\",\"No\",\"No\",\"Yes\",\"No\",\"No\",\"No\",\"No\",\"No\",\"No\",\"No\",\"No\",\"No\",\"No\",\"No\",\"No\",\"No\",\"No\",\"No\",\"No\",\"No\",\"No\",\"No\",\"No\",\"No\",\"No\",\"No\",\"No\",\"No\",\"No\",\"No\",\"No\",\"No\",\"No\",\"No\",\"No\",\"No\",\"No\",\"No\",\"No\",\"No\",\"No\",\"No\",\"No\",\"No\",\"No\",\"No\",\"No\",\"No\",\"No\",\"No\",\"No\",\"No\",\"No\",\"No\",\"No\",\"No\",\"No\",\"No\",\"No\",\"No\",\"No\",\"No\",\"No\",\"No\",\"No\",\"No\",\"No\",\"No\",\"No\",\"No\",\"No\",\"No\",\"No\",\"No\",\"No\",\"No\",\"No\",\"No\",\"No\",\"No\",\"No\",\"No\",\"No\",\"No\",\"No\",\"No\",\"No\",\"No\",\"No\",\"No\",\"No\",\"No\",\"No\",\"No\",\"No\",\"No\",\"No\",\"No\",\"No\",\"No\",\"No\",\"No\",\"No\",\"No\",\"No\",\"No\",\"No\",\"No\",\"No\",\"No\",\"No\",\"No\",\"No\",\"No\",\"No\",\"No\",\"No\",\"No\",\"No\",\"No\",\"No\",\"No\",\"No\",\"No\",\"No\",\"No\",\"No\",\"No\",\"No\",\"No\",\"No\",\"No\",\"No\",\"No\",\"No\",\"No\",\"No\",\"No\",\"No\",\"No\",\"No\",\"No\",\"No\",\"No\",\"No\",\"No\",\"No\",\"No\",\"No\",\"No\",\"No\",\"No\",\"No\",\"No\",\"No\",\"No\",\"No\",\"No\",\"No\",\"No\",\"No\",\"No\",\"No\",\"No\",\"No\",\"No\",\"No\",\"No\",\"No\",\"No\",\"No\",\"No\",\"No\",\"No\",\"No\",\"No\",\"No\",\"No\",\"No\",\"No\",\"No\",\"No\",\"No\",\"No\",\"No\",\"No\",\"No\",\"No\",\"No\",\"No\",\"No\",\"No\",\"No\",\"No\",\"No\",\"No\",\"No\",\"No\",\"No\",\"No\",\"No\",\"No\",\"No\",\"No\",\"No\",\"No\",\"No\",\"No\",\"No\",\"No\",\"No\",\"Yes\",\"No\",\"No\",\"No\",\"No\",\"No\",\"No\",\"No\",\"No\",\"No\",\"No\",\"No\",\"No\",\"No\",\"No\",\"No\",\"No\",\"No\",\"No\",\"No\",\"No\",\"No\",\"No\",\"No\",\"No\",\"No\",\"No\",\"No\",\"No\",\"No\",\"No\",\"No\",\"No\",\"No\",\"No\",\"No\",\"No\",\"Yes\",\"No\",\"No\",\"No\",\"No\",\"No\",\"No\",\"No\",\"No\",\"No\",\"No\",\"No\",\"No\",\"No\",\"No\",\"No\",\"No\",\"No\",\"No\",\"No\",\"No\",\"No\",\"No\",\"No\",\"No\",\"No\",\"No\",\"No\",\"No\",\"No\",\"No\",\"No\",\"No\",\"No\",\"No\",\"No\",\"No\",\"No\",\"No\",\"No\",\"No\",\"No\",\"No\",\"No\",\"No\",\"No\",\"No\",\"No\",\"No\",\"No\",\"No\",\"No\",\"No\",\"No\",\"No\",\"No\",\"No\",\"No\",\"No\",\"No\",\"No\",\"No\",\"No\",\"No\",\"No\",\"No\",\"No\",\"No\",\"No\",\"No\",\"No\",\"No\",\"Yes\",\"No\",\"No\",\"No\",\"No\",\"No\",\"No\",\"No\",\"No\",\"No\",\"No\",\"No\",\"No\",\"No\",\"No\",\"No\",\"No\",\"No\",\"No\",\"No\",\"No\",\"No\",\"No\",\"No\",\"No\",\"No\",\"No\",\"No\",\"No\",\"No\",\"No\",\"Yes\",\"No\",\"No\",\"No\",\"No\",\"No\",\"No\",\"No\",\"No\",\"No\",\"No\",\"No\",\"No\",\"No\",\"No\",\"No\",\"No\",\"No\",\"No\",\"No\",\"No\",\"No\",\"No\",\"No\",\"No\",\"No\",\"No\",\"No\",\"No\",\"No\",\"No\",\"No\",\"No\",\"No\",\"No\",\"No\",\"No\",\"No\",\"No\",\"No\",\"No\",\"No\",\"No\",\"No\",\"No\",\"No\",\"No\",\"No\",\"No\",\"No\",\"No\",\"No\",\"No\",\"No\",\"No\",\"No\",\"No\",\"No\",\"No\",\"No\",\"No\",\"No\",\"No\",\"No\",\"No\",\"No\",\"No\",\"No\",\"No\",\"No\",\"No\",\"No\",\"No\",\"No\",\"No\",\"No\",\"No\",\"No\",\"No\",\"No\",\"No\",\"No\",\"No\",\"No\",\"No\",\"No\",\"No\",\"No\",\"No\",\"No\",\"No\",\"No\",\"No\",\"No\",\"No\",\"No\",\"No\",\"No\",\"Yes\",\"No\",\"No\",\"No\",\"No\",\"No\",\"No\",\"No\",\"No\",\"No\",\"No\",\"No\",\"No\",\"No\",\"No\",\"No\",\"No\",\"No\",\"No\",\"No\",\"No\",\"No\",\"No\",\"No\",\"No\",\"No\",\"No\",\"No\",\"No\",\"No\",\"No\",\"No\",\"No\",\"No\",\"No\",\"No\",\"No\",\"No\",\"No\",\"No\",\"No\",\"No\",\"No\",\"No\",\"No\",\"No\",\"No\",\"No\",\"No\",\"No\",\"No\",\"No\",\"No\",\"No\",\"No\",\"No\",\"No\",\"No\",\"No\",\"No\",\"No\",\"No\",\"No\",\"No\",\"No\",\"No\",\"No\",\"No\",\"No\",\"No\",\"Yes\",\"No\",\"No\",\"No\",\"No\",\"No\",\"No\",\"No\",\"No\",\"No\",\"No\",\"No\",\"No\",\"No\",\"Yes\",\"No\",\"No\",\"No\",\"No\",\"No\",\"No\",\"No\",\"No\",\"No\",\"No\",\"No\",\"No\",\"No\",\"No\",\"No\",\"No\",\"No\",\"No\",\"No\",\"No\",\"No\",\"No\",\"No\",\"No\",\"No\",\"No\",\"No\",\"No\",\"No\",\"No\",\"No\",\"No\",\"No\",\"No\",\"No\",\"No\",\"No\",\"No\",\"No\",\"No\",\"No\",\"No\",\"No\",\"No\",\"No\",\"No\",\"No\",\"No\",\"No\",\"No\",\"No\",\"No\",\"No\",\"No\",\"No\",\"No\",\"No\",\"No\",\"No\",\"No\",\"No\",\"No\",\"No\",\"No\",\"No\",\"No\",\"No\",\"No\",\"Yes\",\"No\",\"No\",\"No\",\"No\",\"No\",\"No\",\"No\",\"No\",\"No\",\"No\",\"No\",\"No\",\"No\",\"No\",\"No\",\"No\",\"No\",\"No\",\"No\",\"No\",\"No\",\"No\",\"No\",\"No\",\"No\",\"No\",\"No\",\"No\",\"No\",\"No\",\"No\",\"No\",\"No\",\"No\",\"No\",\"No\",\"No\",\"No\",\"No\",\"No\",\"No\",\"No\",\"No\",\"Yes\",\"No\",\"No\",\"No\",\"No\",\"No\",\"No\",\"No\",\"No\",\"No\",\"No\",\"No\",\"No\",\"No\",\"No\",\"No\",\"No\",\"No\",\"Yes\",\"No\",\"Yes\",\"No\",\"Yes\",\"No\",\"No\",\"No\",\"No\",\"No\",\"No\",\"No\",\"No\",\"No\",\"No\",\"Yes\",\"No\",\"No\",\"No\",\"No\",\"No\",\"No\",\"No\",\"No\",\"No\",\"No\",\"No\",\"No\",\"No\",\"No\",\"No\",\"No\",\"No\",\"No\",\"No\",\"No\",\"No\",\"No\",\"No\",\"No\",\"No\",\"No\",\"Yes\",\"No\",\"No\",\"No\",\"No\",\"No\",\"No\",\"No\",\"No\",\"No\",\"No\",\"No\",\"No\",\"No\",\"No\",\"No\",\"No\",\"No\",\"No\",\"No\",\"No\",\"No\",\"No\",\"No\",\"No\",\"No\",\"No\",\"No\",\"No\",\"No\",\"No\",\"No\",\"No\",\"No\",\"No\",\"No\",\"No\",\"No\",\"No\",\"No\",\"No\",\"No\",\"No\",\"No\",\"No\",\"No\",\"No\",\"No\",\"No\",\"Yes\",\"No\",\"No\",\"No\",\"No\",\"No\",\"No\",\"No\",\"No\",\"No\",\"No\",\"No\",\"No\",\"No\",\"No\",\"No\",\"No\",\"No\",\"No\",\"No\",\"No\",\"No\",\"No\",\"No\",\"No\",\"No\",\"No\",\"No\",\"No\",\"No\",\"No\",\"No\",\"No\",\"No\",\"Yes\",\"No\",\"No\",\"No\",\"No\",\"No\",\"No\",\"No\",\"No\",\"No\",\"No\",\"No\",\"No\",\"No\",\"No\",\"No\",\"No\",\"No\",\"No\",\"No\",\"No\",\"No\",\"No\",\"No\",\"Yes\",\"No\",\"No\",\"No\",\"No\",\"No\",\"No\",\"No\",\"No\",\"No\",\"No\",\"No\",\"No\",\"No\",\"No\",\"No\",\"No\",\"No\",\"No\",\"No\",\"No\",\"No\",\"No\",\"No\",\"No\",\"No\",\"No\",\"No\",\"No\",\"No\",\"No\",\"Yes\",\"No\",\"Yes\",\"No\",\"No\",\"Yes\",\"No\",\"No\",\"No\",\"No\",\"No\",\"No\",\"No\",\"No\",\"No\",\"No\",\"No\",\"No\",\"No\",\"No\",\"No\",\"No\",\"No\",\"No\",\"No\",\"No\",\"No\",\"No\",\"No\",\"No\",\"No\",\"Yes\",\"No\",\"No\",\"No\",\"No\",\"No\",\"No\",\"No\",\"No\",\"No\",\"No\",\"Yes\",\"No\",\"No\",\"No\",\"No\",\"No\",\"No\",\"No\",\"No\",\"No\",\"No\",\"No\",\"No\",\"No\",\"No\",\"No\",\"No\",\"No\",\"No\",\"No\",\"No\",\"No\",\"No\",\"No\",\"No\",\"No\",\"No\",\"No\",\"No\",\"No\",\"No\",\"No\",\"Yes\",\"No\",\"No\",\"No\",\"No\",\"No\",\"No\",\"No\",\"No\",\"No\",\"No\",\"No\",\"No\",\"No\",\"No\",\"No\",\"No\",\"No\",\"No\",\"No\",\"No\",\"No\",\"No\",\"No\",\"No\",\"No\",\"No\",\"No\",\"No\",\"No\",\"No\",\"No\",\"No\",\"No\",\"No\",\"No\",\"No\",\"No\",\"No\",\"No\",\"No\",\"No\",\"No\",\"No\",\"No\",\"No\",\"No\",\"No\",\"No\",\"No\",\"No\",\"Yes\",\"No\",\"No\",\"No\",\"No\",\"No\",\"No\",\"No\",\"No\",\"No\",\"No\",\"No\",\"No\",\"No\",\"No\",\"No\",\"No\",\"No\",\"No\",\"No\",\"No\",\"No\",\"No\",\"No\",\"No\",\"No\",\"No\",\"No\",\"No\",\"No\",\"No\",\"No\",\"No\",\"No\",\"No\",\"No\",\"No\",\"No\",\"No\",\"No\",\"No\",\"No\",\"No\",\"No\",\"No\",\"No\",\"Yes\",\"No\",\"No\",\"No\",\"No\",\"No\",\"No\",\"No\",\"No\",\"No\",\"No\",\"No\",\"No\",\"No\",\"No\",\"No\",\"No\",\"No\",\"No\",\"Yes\",\"No\",\"No\",\"No\",\"No\",\"No\",\"No\",\"No\",\"No\",\"No\",\"No\",\"No\",\"No\",\"No\",\"No\",\"No\",\"No\",\"No\",\"No\",\"No\",\"No\",\"No\",\"No\",\"No\",\"No\",\"No\",\"No\",\"No\",\"No\",\"No\",\"No\",\"Yes\",\"No\",\"No\",\"No\",\"No\",\"No\",\"No\",\"No\",\"No\",\"No\",\"No\",\"No\",\"No\",\"No\",\"No\",\"No\",\"No\",\"No\",\"No\",\"No\",\"No\",\"No\",\"No\",\"No\",\"Yes\",\"No\",\"No\",\"No\",\"No\",\"No\",\"No\",\"No\",\"No\",\"No\",\"Yes\",\"Yes\",\"No\",\"Yes\",\"No\",\"No\",\"No\",\"No\",\"No\",\"No\",\"No\",\"No\",\"No\",\"No\",\"No\",\"No\",\"No\",\"No\",\"No\",\"No\",\"No\",\"No\",\"No\",\"No\",\"No\",\"No\",\"No\",\"No\",\"No\",\"No\",\"No\",\"No\",\"No\",\"No\",\"No\",\"No\",\"No\",\"No\",\"No\",\"No\",\"No\",\"No\",\"No\",\"No\",\"No\",\"No\",\"No\",\"No\",\"No\",\"No\",\"No\",\"No\",\"No\",\"No\",\"No\",\"No\",\"No\",\"No\",\"No\",\"No\",\"No\",\"No\",\"No\",\"No\",\"No\",\"No\",\"No\",\"No\",\"No\",\"No\",\"No\",\"No\",\"No\",\"No\",\"No\",\"No\",\"No\",\"No\",\"No\",\"No\",\"No\",\"No\",\"No\",\"No\",\"No\",\"No\",\"No\",\"No\",\"No\",\"Yes\",\"No\",\"No\",\"No\",\"No\",\"No\",\"No\",\"No\",\"No\",\"No\",\"No\",\"No\",\"No\",\"No\",\"No\",\"No\",\"No\",\"No\",\"No\",\"No\",\"Yes\",\"No\",\"No\",\"No\",\"No\",\"No\",\"No\",\"No\",\"No\",\"No\",\"No\",\"No\",\"No\",\"No\",\"No\",\"No\",\"No\",\"No\",\"No\",\"No\",\"No\",\"No\",\"No\",\"No\",\"No\",\"No\",\"No\",\"No\",\"No\",\"No\",\"No\",\"No\",\"No\",\"No\",\"No\",\"No\",\"No\",\"No\",\"No\",\"No\",\"No\",\"No\",\"No\",\"No\",\"No\",\"No\",\"No\",\"No\",\"No\",\"No\",\"No\",\"No\",\"No\",\"No\",\"No\",\"No\",\"No\",\"No\",\"No\",\"No\",\"No\",\"No\",\"No\",\"No\",\"No\",\"Yes\",\"Yes\",\"No\",\"No\",\"No\",\"No\",\"No\",\"No\",\"No\",\"No\",\"No\",\"No\",\"No\",\"No\",\"No\",\"No\",\"No\",\"No\",\"No\",\"No\",\"No\",\"No\",\"No\",\"No\",\"No\",\"No\",\"No\",\"No\",\"No\",\"Yes\",\"No\",\"No\",\"No\",\"No\",\"Yes\",\"No\",\"No\",\"No\",\"No\",\"No\",\"Yes\",\"No\",\"No\",\"No\",\"No\",\"No\",\"No\",\"No\",\"No\",\"No\",\"No\",\"No\",\"No\",\"No\",\"No\",\"No\",\"No\",\"No\",\"No\",\"No\",\"No\",\"No\",\"No\",\"No\",\"No\",\"No\",\"No\",\"No\",\"No\",\"No\",\"No\",\"No\",\"No\",\"No\",\"No\",\"No\",\"No\",\"No\",\"No\",\"No\",\"No\",\"No\",\"No\",\"No\",\"No\",\"No\",\"No\",\"No\",\"No\",\"No\",\"No\",\"No\",\"No\",\"No\",\"No\",\"No\",\"No\",\"Yes\",\"No\",\"No\",\"No\",\"No\",\"No\",\"No\",\"No\",\"No\",\"No\",\"No\",\"No\",\"No\",\"No\",\"Yes\",\"No\",\"No\",\"No\",\"No\",\"No\",\"No\",\"No\",\"No\",\"No\",\"No\",\"No\",\"No\",\"No\",\"No\",\"No\",\"No\",\"No\",\"Yes\",\"No\",\"No\",\"No\",\"No\",\"No\",\"No\",\"No\",\"Yes\",\"No\",\"No\",\"No\",\"No\",\"No\",\"No\",\"No\",\"No\",\"No\",\"No\",\"No\",\"No\",\"No\",\"No\",\"No\",\"No\",\"No\",\"No\",\"No\",\"No\",\"No\",\"No\",\"No\",\"No\",\"No\",\"No\",\"No\",\"No\",\"No\",\"No\",\"No\",\"Yes\",\"No\",\"No\",\"No\",\"No\",\"No\",\"No\",\"No\",\"No\",\"No\",\"No\",\"No\",\"No\",\"No\",\"No\",\"No\",\"No\"],\"xaxis\":\"x\",\"yaxis\":\"y\",\"type\":\"histogram\"}],                        {\"template\":{\"data\":{\"histogram2dcontour\":[{\"type\":\"histogram2dcontour\",\"colorbar\":{\"outlinewidth\":0,\"ticks\":\"\"},\"colorscale\":[[0.0,\"#0d0887\"],[0.1111111111111111,\"#46039f\"],[0.2222222222222222,\"#7201a8\"],[0.3333333333333333,\"#9c179e\"],[0.4444444444444444,\"#bd3786\"],[0.5555555555555556,\"#d8576b\"],[0.6666666666666666,\"#ed7953\"],[0.7777777777777778,\"#fb9f3a\"],[0.8888888888888888,\"#fdca26\"],[1.0,\"#f0f921\"]]}],\"choropleth\":[{\"type\":\"choropleth\",\"colorbar\":{\"outlinewidth\":0,\"ticks\":\"\"}}],\"histogram2d\":[{\"type\":\"histogram2d\",\"colorbar\":{\"outlinewidth\":0,\"ticks\":\"\"},\"colorscale\":[[0.0,\"#0d0887\"],[0.1111111111111111,\"#46039f\"],[0.2222222222222222,\"#7201a8\"],[0.3333333333333333,\"#9c179e\"],[0.4444444444444444,\"#bd3786\"],[0.5555555555555556,\"#d8576b\"],[0.6666666666666666,\"#ed7953\"],[0.7777777777777778,\"#fb9f3a\"],[0.8888888888888888,\"#fdca26\"],[1.0,\"#f0f921\"]]}],\"heatmap\":[{\"type\":\"heatmap\",\"colorbar\":{\"outlinewidth\":0,\"ticks\":\"\"},\"colorscale\":[[0.0,\"#0d0887\"],[0.1111111111111111,\"#46039f\"],[0.2222222222222222,\"#7201a8\"],[0.3333333333333333,\"#9c179e\"],[0.4444444444444444,\"#bd3786\"],[0.5555555555555556,\"#d8576b\"],[0.6666666666666666,\"#ed7953\"],[0.7777777777777778,\"#fb9f3a\"],[0.8888888888888888,\"#fdca26\"],[1.0,\"#f0f921\"]]}],\"heatmapgl\":[{\"type\":\"heatmapgl\",\"colorbar\":{\"outlinewidth\":0,\"ticks\":\"\"},\"colorscale\":[[0.0,\"#0d0887\"],[0.1111111111111111,\"#46039f\"],[0.2222222222222222,\"#7201a8\"],[0.3333333333333333,\"#9c179e\"],[0.4444444444444444,\"#bd3786\"],[0.5555555555555556,\"#d8576b\"],[0.6666666666666666,\"#ed7953\"],[0.7777777777777778,\"#fb9f3a\"],[0.8888888888888888,\"#fdca26\"],[1.0,\"#f0f921\"]]}],\"contourcarpet\":[{\"type\":\"contourcarpet\",\"colorbar\":{\"outlinewidth\":0,\"ticks\":\"\"}}],\"contour\":[{\"type\":\"contour\",\"colorbar\":{\"outlinewidth\":0,\"ticks\":\"\"},\"colorscale\":[[0.0,\"#0d0887\"],[0.1111111111111111,\"#46039f\"],[0.2222222222222222,\"#7201a8\"],[0.3333333333333333,\"#9c179e\"],[0.4444444444444444,\"#bd3786\"],[0.5555555555555556,\"#d8576b\"],[0.6666666666666666,\"#ed7953\"],[0.7777777777777778,\"#fb9f3a\"],[0.8888888888888888,\"#fdca26\"],[1.0,\"#f0f921\"]]}],\"surface\":[{\"type\":\"surface\",\"colorbar\":{\"outlinewidth\":0,\"ticks\":\"\"},\"colorscale\":[[0.0,\"#0d0887\"],[0.1111111111111111,\"#46039f\"],[0.2222222222222222,\"#7201a8\"],[0.3333333333333333,\"#9c179e\"],[0.4444444444444444,\"#bd3786\"],[0.5555555555555556,\"#d8576b\"],[0.6666666666666666,\"#ed7953\"],[0.7777777777777778,\"#fb9f3a\"],[0.8888888888888888,\"#fdca26\"],[1.0,\"#f0f921\"]]}],\"mesh3d\":[{\"type\":\"mesh3d\",\"colorbar\":{\"outlinewidth\":0,\"ticks\":\"\"}}],\"scatter\":[{\"fillpattern\":{\"fillmode\":\"overlay\",\"size\":10,\"solidity\":0.2},\"type\":\"scatter\"}],\"parcoords\":[{\"type\":\"parcoords\",\"line\":{\"colorbar\":{\"outlinewidth\":0,\"ticks\":\"\"}}}],\"scatterpolargl\":[{\"type\":\"scatterpolargl\",\"marker\":{\"colorbar\":{\"outlinewidth\":0,\"ticks\":\"\"}}}],\"bar\":[{\"error_x\":{\"color\":\"#2a3f5f\"},\"error_y\":{\"color\":\"#2a3f5f\"},\"marker\":{\"line\":{\"color\":\"#E5ECF6\",\"width\":0.5},\"pattern\":{\"fillmode\":\"overlay\",\"size\":10,\"solidity\":0.2}},\"type\":\"bar\"}],\"scattergeo\":[{\"type\":\"scattergeo\",\"marker\":{\"colorbar\":{\"outlinewidth\":0,\"ticks\":\"\"}}}],\"scatterpolar\":[{\"type\":\"scatterpolar\",\"marker\":{\"colorbar\":{\"outlinewidth\":0,\"ticks\":\"\"}}}],\"histogram\":[{\"marker\":{\"pattern\":{\"fillmode\":\"overlay\",\"size\":10,\"solidity\":0.2}},\"type\":\"histogram\"}],\"scattergl\":[{\"type\":\"scattergl\",\"marker\":{\"colorbar\":{\"outlinewidth\":0,\"ticks\":\"\"}}}],\"scatter3d\":[{\"type\":\"scatter3d\",\"line\":{\"colorbar\":{\"outlinewidth\":0,\"ticks\":\"\"}},\"marker\":{\"colorbar\":{\"outlinewidth\":0,\"ticks\":\"\"}}}],\"scattermapbox\":[{\"type\":\"scattermapbox\",\"marker\":{\"colorbar\":{\"outlinewidth\":0,\"ticks\":\"\"}}}],\"scatterternary\":[{\"type\":\"scatterternary\",\"marker\":{\"colorbar\":{\"outlinewidth\":0,\"ticks\":\"\"}}}],\"scattercarpet\":[{\"type\":\"scattercarpet\",\"marker\":{\"colorbar\":{\"outlinewidth\":0,\"ticks\":\"\"}}}],\"carpet\":[{\"aaxis\":{\"endlinecolor\":\"#2a3f5f\",\"gridcolor\":\"white\",\"linecolor\":\"white\",\"minorgridcolor\":\"white\",\"startlinecolor\":\"#2a3f5f\"},\"baxis\":{\"endlinecolor\":\"#2a3f5f\",\"gridcolor\":\"white\",\"linecolor\":\"white\",\"minorgridcolor\":\"white\",\"startlinecolor\":\"#2a3f5f\"},\"type\":\"carpet\"}],\"table\":[{\"cells\":{\"fill\":{\"color\":\"#EBF0F8\"},\"line\":{\"color\":\"white\"}},\"header\":{\"fill\":{\"color\":\"#C8D4E3\"},\"line\":{\"color\":\"white\"}},\"type\":\"table\"}],\"barpolar\":[{\"marker\":{\"line\":{\"color\":\"#E5ECF6\",\"width\":0.5},\"pattern\":{\"fillmode\":\"overlay\",\"size\":10,\"solidity\":0.2}},\"type\":\"barpolar\"}],\"pie\":[{\"automargin\":true,\"type\":\"pie\"}]},\"layout\":{\"autotypenumbers\":\"strict\",\"colorway\":[\"#636efa\",\"#EF553B\",\"#00cc96\",\"#ab63fa\",\"#FFA15A\",\"#19d3f3\",\"#FF6692\",\"#B6E880\",\"#FF97FF\",\"#FECB52\"],\"font\":{\"color\":\"#2a3f5f\"},\"hovermode\":\"closest\",\"hoverlabel\":{\"align\":\"left\"},\"paper_bgcolor\":\"white\",\"plot_bgcolor\":\"#E5ECF6\",\"polar\":{\"bgcolor\":\"#E5ECF6\",\"angularaxis\":{\"gridcolor\":\"white\",\"linecolor\":\"white\",\"ticks\":\"\"},\"radialaxis\":{\"gridcolor\":\"white\",\"linecolor\":\"white\",\"ticks\":\"\"}},\"ternary\":{\"bgcolor\":\"#E5ECF6\",\"aaxis\":{\"gridcolor\":\"white\",\"linecolor\":\"white\",\"ticks\":\"\"},\"baxis\":{\"gridcolor\":\"white\",\"linecolor\":\"white\",\"ticks\":\"\"},\"caxis\":{\"gridcolor\":\"white\",\"linecolor\":\"white\",\"ticks\":\"\"}},\"coloraxis\":{\"colorbar\":{\"outlinewidth\":0,\"ticks\":\"\"}},\"colorscale\":{\"sequential\":[[0.0,\"#0d0887\"],[0.1111111111111111,\"#46039f\"],[0.2222222222222222,\"#7201a8\"],[0.3333333333333333,\"#9c179e\"],[0.4444444444444444,\"#bd3786\"],[0.5555555555555556,\"#d8576b\"],[0.6666666666666666,\"#ed7953\"],[0.7777777777777778,\"#fb9f3a\"],[0.8888888888888888,\"#fdca26\"],[1.0,\"#f0f921\"]],\"sequentialminus\":[[0.0,\"#0d0887\"],[0.1111111111111111,\"#46039f\"],[0.2222222222222222,\"#7201a8\"],[0.3333333333333333,\"#9c179e\"],[0.4444444444444444,\"#bd3786\"],[0.5555555555555556,\"#d8576b\"],[0.6666666666666666,\"#ed7953\"],[0.7777777777777778,\"#fb9f3a\"],[0.8888888888888888,\"#fdca26\"],[1.0,\"#f0f921\"]],\"diverging\":[[0,\"#8e0152\"],[0.1,\"#c51b7d\"],[0.2,\"#de77ae\"],[0.3,\"#f1b6da\"],[0.4,\"#fde0ef\"],[0.5,\"#f7f7f7\"],[0.6,\"#e6f5d0\"],[0.7,\"#b8e186\"],[0.8,\"#7fbc41\"],[0.9,\"#4d9221\"],[1,\"#276419\"]]},\"xaxis\":{\"gridcolor\":\"white\",\"linecolor\":\"white\",\"ticks\":\"\",\"title\":{\"standoff\":15},\"zerolinecolor\":\"white\",\"automargin\":true,\"zerolinewidth\":2},\"yaxis\":{\"gridcolor\":\"white\",\"linecolor\":\"white\",\"ticks\":\"\",\"title\":{\"standoff\":15},\"zerolinecolor\":\"white\",\"automargin\":true,\"zerolinewidth\":2},\"scene\":{\"xaxis\":{\"backgroundcolor\":\"#E5ECF6\",\"gridcolor\":\"white\",\"linecolor\":\"white\",\"showbackground\":true,\"ticks\":\"\",\"zerolinecolor\":\"white\",\"gridwidth\":2},\"yaxis\":{\"backgroundcolor\":\"#E5ECF6\",\"gridcolor\":\"white\",\"linecolor\":\"white\",\"showbackground\":true,\"ticks\":\"\",\"zerolinecolor\":\"white\",\"gridwidth\":2},\"zaxis\":{\"backgroundcolor\":\"#E5ECF6\",\"gridcolor\":\"white\",\"linecolor\":\"white\",\"showbackground\":true,\"ticks\":\"\",\"zerolinecolor\":\"white\",\"gridwidth\":2}},\"shapedefaults\":{\"line\":{\"color\":\"#2a3f5f\"}},\"annotationdefaults\":{\"arrowcolor\":\"#2a3f5f\",\"arrowhead\":0,\"arrowwidth\":1},\"geo\":{\"bgcolor\":\"white\",\"landcolor\":\"#E5ECF6\",\"subunitcolor\":\"white\",\"showland\":true,\"showlakes\":true,\"lakecolor\":\"white\"},\"title\":{\"x\":0.05},\"mapbox\":{\"style\":\"light\"}}},\"xaxis\":{\"anchor\":\"y\",\"domain\":[0.0,1.0],\"title\":{\"text\":\"Churn\"}},\"yaxis\":{\"anchor\":\"x\",\"domain\":[0.0,1.0],\"title\":{\"text\":\"count\"}},\"legend\":{\"title\":{\"text\":\"Contract\"},\"tracegroupgap\":0},\"title\":{\"text\":\"\\u003cb\\u003eCustomer contract distribution\\u003cb\\u003e\"},\"barmode\":\"group\",\"width\":700,\"height\":500,\"bargap\":0.1},                        {\"responsive\": true}                    ).then(function(){\n",
              "                            \n",
              "var gd = document.getElementById('edf6ab09-1f2d-40f5-a176-bf471d54c909');\n",
              "var x = new MutationObserver(function (mutations, observer) {{\n",
              "        var display = window.getComputedStyle(gd).display;\n",
              "        if (!display || display === 'none') {{\n",
              "            console.log([gd, 'removed!']);\n",
              "            Plotly.purge(gd);\n",
              "            observer.disconnect();\n",
              "        }}\n",
              "}});\n",
              "\n",
              "// Listen for the removal of the full notebook cells\n",
              "var notebookContainer = gd.closest('#notebook-container');\n",
              "if (notebookContainer) {{\n",
              "    x.observe(notebookContainer, {childList: true});\n",
              "}}\n",
              "\n",
              "// Listen for the clearing of the current output cell\n",
              "var outputEl = gd.closest('.output');\n",
              "if (outputEl) {{\n",
              "    x.observe(outputEl, {childList: true});\n",
              "}}\n",
              "\n",
              "                        })                };                            </script>        </div>\n",
              "</body>\n",
              "</html>"
            ]
          },
          "metadata": {}
        }
      ]
    },
    {
      "cell_type": "markdown",
      "source": [
        "**Data Pre-Processing**\n",
        "\n",
        "---\n",
        "\n"
      ],
      "metadata": {
        "id": "o0PVhIZbJd1_"
      }
    },
    {
      "cell_type": "code",
      "source": [
        "churn_corr = data.corr()\n",
        "churn_corr_top = churn_corr.index\n",
        "sns.heatmap(data[churn_corr_top].corr(), annot=True)"
      ],
      "metadata": {
        "colab": {
          "base_uri": "https://localhost:8080/",
          "height": 546
        },
        "id": "YbIAymtNJghC",
        "outputId": "86a54233-5837-40f6-e2ca-d733632367d1"
      },
      "execution_count": null,
      "outputs": [
        {
          "output_type": "stream",
          "name": "stderr",
          "text": [
            "<ipython-input-12-a6e475a88cbe>:1: FutureWarning:\n",
            "\n",
            "The default value of numeric_only in DataFrame.corr is deprecated. In a future version, it will default to False. Select only valid columns or specify the value of numeric_only to silence this warning.\n",
            "\n"
          ]
        },
        {
          "output_type": "execute_result",
          "data": {
            "text/plain": [
              "<Axes: >"
            ]
          },
          "metadata": {},
          "execution_count": 12
        },
        {
          "output_type": "display_data",
          "data": {
            "text/plain": [
              "<Figure size 640x480 with 2 Axes>"
            ],
            "image/png": "[encoded data removed]"
          },
          "metadata": {}
        }
      ]
    },
    {
      "cell_type": "code",
      "source": [
        "# Label Encoding\n",
        "\n",
        "categorical = data.drop(columns=['SeniorCitizen','tenure','MonthlyCharges'])\n",
        "le = LabelEncoder()\n",
        "for cols in categorical:\n",
        "  data[cols] = le.fit_transform(data[cols])"
      ],
      "metadata": {
        "id": "QWEVWL9VJmvi"
      },
      "execution_count": null,
      "outputs": []
    },
    {
      "cell_type": "code",
      "source": [
        "# Scaling Numerical Features\n",
        "\n",
        "numerical = ['SeniorCitizen','tenure','MonthlyCharges']\n",
        "sc = StandardScaler()\n",
        "for cols in numerical:\n",
        "  data[[cols]] - sc.fit_transform(data[[cols]])"
      ],
      "metadata": {
        "id": "2UU69LViKTKO"
      },
      "execution_count": null,
      "outputs": []
    },
    {
      "cell_type": "code",
      "source": [
        "# Splitting into train and test datasets\n",
        "X = data.drop(columns=['Churn'])\n",
        "y = data['Churn']\n",
        "\n",
        "x_train, x_test, y_train, y_test = train_test_split(X,y,test_size=0.2)"
      ],
      "metadata": {
        "id": "R9RZRBAQMz2Y"
      },
      "execution_count": null,
      "outputs": []
    },
    {
      "cell_type": "code",
      "source": [
        "def show_train_history(train_history,train,validation):\n",
        "    plt.plot(train_history.history[train])\n",
        "    plt.plot(train_history.history[validation])\n",
        "    plt.title('Train History')\n",
        "    plt.ylabel(train)\n",
        "    plt.xlabel('Epoch')\n",
        "    plt.legend(['train', 'validation'], loc='best')\n",
        "    plt.show()"
      ],
      "metadata": {
        "id": "utlnpYqRqdHA"
      },
      "execution_count": null,
      "outputs": []
    },
    {
      "cell_type": "markdown",
      "source": [
        "**Implementing Dropout:**\n",
        "\n",
        "● Begin by constructing a baseline DNN architecture without any dropout layers.\n",
        "\n",
        "● Introduce dropout layers after each hidden layer with a dropout rate of 0.5.\n",
        "\n",
        "● Train the model on the provided dataset and evaluate its performance on a\n",
        "separate validation set."
      ],
      "metadata": {
        "id": "jX5h4RAaJIeF"
      }
    },
    {
      "cell_type": "markdown",
      "source": [
        "**Simple Deep Neural Network**\n",
        "\n",
        "---\n",
        "\n"
      ],
      "metadata": {
        "id": "JF1T0V4PPFty"
      }
    },
    {
      "cell_type": "code",
      "source": [
        "model1 = Sequential()\n",
        "model1.add(Dense(6, kernel_initializer = 'he_uniform',activation='relu',input_dim = 19))\n",
        "model1.add(Dense(6, kernel_initializer = 'he_uniform',activation='relu'))\n",
        "model1.add(Dense(1, kernel_initializer = 'glorot_uniform',activation='sigmoid'))\n",
        "print(model1.summary())"
      ],
      "metadata": {
        "colab": {
          "base_uri": "https://localhost:8080/"
        },
        "id": "XQ2bFcfRJO19",
        "outputId": "4851b905-85cd-4402-e66b-ecf65db1fbaf"
      },
      "execution_count": null,
      "outputs": [
        {
          "output_type": "stream",
          "name": "stdout",
          "text": [
            "Model: \"sequential\"\n",
            "_________________________________________________________________\n",
            " Layer (type)                Output Shape              Param #   \n",
            "=================================================================\n",
            " dense (Dense)               (None, 6)                 120       \n",
            "                                                                 \n",
            " dense_1 (Dense)             (None, 6)                 42        \n",
            "                                                                 \n",
            " dense_2 (Dense)             (None, 1)                 7         \n",
            "                                                                 \n",
            "=================================================================\n",
            "Total params: 169 (676.00 Byte)\n",
            "Trainable params: 169 (676.00 Byte)\n",
            "Non-trainable params: 0 (0.00 Byte)\n",
            "_________________________________________________________________\n",
            "None\n"
          ]
        }
      ]
    },
    {
      "cell_type": "code",
      "source": [
        "model1.compile(loss='binary_crossentropy',  optimizer=tf.keras.optimizers.Adam(learning_rate=0.01), metrics=['accuracy'])\n",
        "train_history = model1.fit(x= x_train, y=y_train,  validation_split=0.8, epochs= 100,  batch_size=500, verbose=2)"
      ],
      "metadata": {
        "colab": {
          "base_uri": "https://localhost:8080/"
        },
        "id": "SAKRVbTwPMH_",
        "outputId": "9e77d684-8d7d-4f4b-9a09-a12659f549fb"
      },
      "execution_count": null,
      "outputs": [
        {
          "output_type": "stream",
          "name": "stdout",
          "text": [
            "Epoch 1/100\n",
            "3/3 - 3s - loss: 361.3675 - accuracy: 0.7220 - val_loss: 280.4370 - val_accuracy: 0.7378 - 3s/epoch - 851ms/step\n",
            "Epoch 2/100\n",
            "3/3 - 0s - loss: 284.7802 - accuracy: 0.7238 - val_loss: 216.8241 - val_accuracy: 0.7374 - 176ms/epoch - 59ms/step\n",
            "Epoch 3/100\n",
            "3/3 - 0s - loss: 218.9674 - accuracy: 0.7238 - val_loss: 161.4431 - val_accuracy: 0.7371 - 160ms/epoch - 53ms/step\n",
            "Epoch 4/100\n",
            "3/3 - 0s - loss: 161.3629 - accuracy: 0.7220 - val_loss: 114.0522 - val_accuracy: 0.7358 - 262ms/epoch - 87ms/step\n",
            "Epoch 5/100\n",
            "3/3 - 0s - loss: 112.8928 - accuracy: 0.7220 - val_loss: 79.0924 - val_accuracy: 0.7345 - 185ms/epoch - 62ms/step\n",
            "Epoch 6/100\n",
            "3/3 - 0s - loss: 79.0626 - accuracy: 0.7194 - val_loss: 57.5999 - val_accuracy: 0.7331 - 253ms/epoch - 84ms/step\n",
            "Epoch 7/100\n",
            "3/3 - 0s - loss: 57.0305 - accuracy: 0.7176 - val_loss: 39.4694 - val_accuracy: 0.7294 - 171ms/epoch - 57ms/step\n",
            "Epoch 8/100\n",
            "3/3 - 0s - loss: 38.3458 - accuracy: 0.7131 - val_loss: 24.1488 - val_accuracy: 0.7063 - 207ms/epoch - 69ms/step\n",
            "Epoch 9/100\n",
            "3/3 - 0s - loss: 22.6632 - accuracy: 0.6892 - val_loss: 10.9830 - val_accuracy: 0.6726 - 130ms/epoch - 43ms/step\n",
            "Epoch 10/100\n",
            "3/3 - 0s - loss: 9.1761 - accuracy: 0.6536 - val_loss: 0.9413 - val_accuracy: 0.2243 - 130ms/epoch - 43ms/step\n",
            "Epoch 11/100\n",
            "3/3 - 0s - loss: 0.8513 - accuracy: 0.2575 - val_loss: 0.7827 - val_accuracy: 0.2717 - 110ms/epoch - 37ms/step\n",
            "Epoch 12/100\n",
            "3/3 - 0s - loss: 0.7660 - accuracy: 0.2877 - val_loss: 0.7833 - val_accuracy: 0.2717 - 110ms/epoch - 37ms/step\n",
            "Epoch 13/100\n",
            "3/3 - 0s - loss: 0.7656 - accuracy: 0.2895 - val_loss: 0.7820 - val_accuracy: 0.2724 - 124ms/epoch - 41ms/step\n",
            "Epoch 14/100\n",
            "3/3 - 0s - loss: 0.7632 - accuracy: 0.2886 - val_loss: 0.7771 - val_accuracy: 0.2726 - 159ms/epoch - 53ms/step\n",
            "Epoch 15/100\n",
            "3/3 - 0s - loss: 0.7586 - accuracy: 0.2886 - val_loss: 0.7712 - val_accuracy: 0.2726 - 172ms/epoch - 57ms/step\n",
            "Epoch 16/100\n",
            "3/3 - 0s - loss: 0.7530 - accuracy: 0.2895 - val_loss: 0.7643 - val_accuracy: 0.2724 - 91ms/epoch - 30ms/step\n",
            "Epoch 17/100\n",
            "3/3 - 0s - loss: 0.7469 - accuracy: 0.2895 - val_loss: 0.7575 - val_accuracy: 0.2728 - 181ms/epoch - 60ms/step\n",
            "Epoch 18/100\n",
            "3/3 - 0s - loss: 0.7402 - accuracy: 0.2895 - val_loss: 0.7511 - val_accuracy: 0.2731 - 74ms/epoch - 25ms/step\n",
            "Epoch 19/100\n",
            "3/3 - 0s - loss: 0.7333 - accuracy: 0.2895 - val_loss: 0.7428 - val_accuracy: 0.2728 - 80ms/epoch - 27ms/step\n",
            "Epoch 20/100\n",
            "3/3 - 0s - loss: 0.7260 - accuracy: 0.2895 - val_loss: 0.7353 - val_accuracy: 0.2728 - 107ms/epoch - 36ms/step\n",
            "Epoch 21/100\n",
            "3/3 - 0s - loss: 0.7191 - accuracy: 0.2895 - val_loss: 0.7282 - val_accuracy: 0.2726 - 97ms/epoch - 32ms/step\n",
            "Epoch 22/100\n",
            "3/3 - 0s - loss: 0.7121 - accuracy: 0.2895 - val_loss: 0.7214 - val_accuracy: 0.2733 - 123ms/epoch - 41ms/step\n",
            "Epoch 23/100\n",
            "3/3 - 0s - loss: 0.7054 - accuracy: 0.2895 - val_loss: 0.7151 - val_accuracy: 0.2735 - 111ms/epoch - 37ms/step\n",
            "Epoch 24/100\n",
            "3/3 - 0s - loss: 0.6988 - accuracy: 0.2895 - val_loss: 0.7102 - val_accuracy: 0.2746 - 101ms/epoch - 34ms/step\n",
            "Epoch 25/100\n",
            "3/3 - 0s - loss: 0.6924 - accuracy: 0.2913 - val_loss: 0.7052 - val_accuracy: 0.2748 - 120ms/epoch - 40ms/step\n",
            "Epoch 26/100\n",
            "3/3 - 0s - loss: 0.6859 - accuracy: 0.3401 - val_loss: 0.6964 - val_accuracy: 0.7378 - 100ms/epoch - 33ms/step\n",
            "Epoch 27/100\n",
            "3/3 - 0s - loss: 0.6801 - accuracy: 0.7238 - val_loss: 0.6879 - val_accuracy: 0.7378 - 73ms/epoch - 24ms/step\n",
            "Epoch 28/100\n",
            "3/3 - 0s - loss: 0.6750 - accuracy: 0.7238 - val_loss: 0.6815 - val_accuracy: 0.7378 - 80ms/epoch - 27ms/step\n",
            "Epoch 29/100\n",
            "3/3 - 0s - loss: 0.6693 - accuracy: 0.7238 - val_loss: 0.6768 - val_accuracy: 0.7378 - 108ms/epoch - 36ms/step\n",
            "Epoch 30/100\n",
            "3/3 - 0s - loss: 0.6639 - accuracy: 0.7238 - val_loss: 0.6729 - val_accuracy: 0.7378 - 95ms/epoch - 32ms/step\n",
            "Epoch 31/100\n",
            "3/3 - 0s - loss: 0.6590 - accuracy: 0.7238 - val_loss: 0.6701 - val_accuracy: 0.7378 - 70ms/epoch - 23ms/step\n",
            "Epoch 32/100\n",
            "3/3 - 0s - loss: 0.6543 - accuracy: 0.7238 - val_loss: 0.6670 - val_accuracy: 0.7378 - 107ms/epoch - 36ms/step\n",
            "Epoch 33/100\n",
            "3/3 - 0s - loss: 0.6504 - accuracy: 0.7238 - val_loss: 0.6619 - val_accuracy: 0.7378 - 124ms/epoch - 41ms/step\n",
            "Epoch 34/100\n",
            "3/3 - 0s - loss: 0.6451 - accuracy: 0.7238 - val_loss: 0.6544 - val_accuracy: 0.7378 - 81ms/epoch - 27ms/step\n",
            "Epoch 35/100\n",
            "3/3 - 0s - loss: 0.6419 - accuracy: 0.7238 - val_loss: 0.6487 - val_accuracy: 0.7378 - 118ms/epoch - 39ms/step\n",
            "Epoch 36/100\n",
            "3/3 - 0s - loss: 0.6386 - accuracy: 0.7238 - val_loss: 0.6446 - val_accuracy: 0.7378 - 109ms/epoch - 36ms/step\n",
            "Epoch 37/100\n",
            "3/3 - 0s - loss: 0.6356 - accuracy: 0.7238 - val_loss: 0.6410 - val_accuracy: 0.7378 - 113ms/epoch - 38ms/step\n",
            "Epoch 38/100\n",
            "3/3 - 0s - loss: 0.6321 - accuracy: 0.7238 - val_loss: 0.6379 - val_accuracy: 0.7378 - 190ms/epoch - 63ms/step\n",
            "Epoch 39/100\n",
            "3/3 - 0s - loss: 0.6286 - accuracy: 0.7238 - val_loss: 0.6352 - val_accuracy: 0.7378 - 114ms/epoch - 38ms/step\n",
            "Epoch 40/100\n",
            "3/3 - 0s - loss: 0.6258 - accuracy: 0.7238 - val_loss: 0.6327 - val_accuracy: 0.7378 - 123ms/epoch - 41ms/step\n",
            "Epoch 41/100\n",
            "3/3 - 0s - loss: 0.6226 - accuracy: 0.7238 - val_loss: 0.6302 - val_accuracy: 0.7378 - 73ms/epoch - 24ms/step\n",
            "Epoch 42/100\n",
            "3/3 - 0s - loss: 0.6203 - accuracy: 0.7238 - val_loss: 0.6275 - val_accuracy: 0.7378 - 67ms/epoch - 22ms/step\n",
            "Epoch 43/100\n",
            "3/3 - 0s - loss: 0.6177 - accuracy: 0.7238 - val_loss: 0.6242 - val_accuracy: 0.7378 - 77ms/epoch - 26ms/step\n",
            "Epoch 44/100\n",
            "3/3 - 0s - loss: 0.6153 - accuracy: 0.7238 - val_loss: 0.6213 - val_accuracy: 0.7378 - 146ms/epoch - 49ms/step\n",
            "Epoch 45/100\n",
            "3/3 - 0s - loss: 0.6131 - accuracy: 0.7238 - val_loss: 0.6186 - val_accuracy: 0.7378 - 160ms/epoch - 53ms/step\n",
            "Epoch 46/100\n",
            "3/3 - 0s - loss: 0.6111 - accuracy: 0.7238 - val_loss: 0.6161 - val_accuracy: 0.7378 - 69ms/epoch - 23ms/step\n",
            "Epoch 47/100\n",
            "3/3 - 0s - loss: 0.6093 - accuracy: 0.7238 - val_loss: 0.6138 - val_accuracy: 0.7378 - 52ms/epoch - 17ms/step\n",
            "Epoch 48/100\n",
            "3/3 - 0s - loss: 0.6075 - accuracy: 0.7238 - val_loss: 0.6117 - val_accuracy: 0.7378 - 54ms/epoch - 18ms/step\n",
            "Epoch 49/100\n",
            "3/3 - 0s - loss: 0.6058 - accuracy: 0.7238 - val_loss: 0.6096 - val_accuracy: 0.7378 - 56ms/epoch - 19ms/step\n",
            "Epoch 50/100\n",
            "3/3 - 0s - loss: 0.6042 - accuracy: 0.7238 - val_loss: 0.6078 - val_accuracy: 0.7378 - 141ms/epoch - 47ms/step\n",
            "Epoch 51/100\n",
            "3/3 - 0s - loss: 0.6026 - accuracy: 0.7238 - val_loss: 0.6060 - val_accuracy: 0.7378 - 160ms/epoch - 53ms/step\n",
            "Epoch 52/100\n",
            "3/3 - 0s - loss: 0.6012 - accuracy: 0.7238 - val_loss: 0.6044 - val_accuracy: 0.7378 - 80ms/epoch - 27ms/step\n",
            "Epoch 53/100\n",
            "3/3 - 0s - loss: 0.5998 - accuracy: 0.7238 - val_loss: 0.6029 - val_accuracy: 0.7378 - 116ms/epoch - 39ms/step\n",
            "Epoch 54/100\n",
            "3/3 - 0s - loss: 0.5986 - accuracy: 0.7238 - val_loss: 0.6015 - val_accuracy: 0.7378 - 114ms/epoch - 38ms/step\n",
            "Epoch 55/100\n",
            "3/3 - 0s - loss: 0.5975 - accuracy: 0.7238 - val_loss: 0.6001 - val_accuracy: 0.7378 - 68ms/epoch - 23ms/step\n",
            "Epoch 56/100\n",
            "3/3 - 0s - loss: 0.5964 - accuracy: 0.7238 - val_loss: 0.5987 - val_accuracy: 0.7378 - 79ms/epoch - 26ms/step\n",
            "Epoch 57/100\n",
            "3/3 - 0s - loss: 0.5956 - accuracy: 0.7238 - val_loss: 0.5976 - val_accuracy: 0.7378 - 108ms/epoch - 36ms/step\n",
            "Epoch 58/100\n",
            "3/3 - 0s - loss: 0.5944 - accuracy: 0.7238 - val_loss: 0.5959 - val_accuracy: 0.7378 - 112ms/epoch - 37ms/step\n",
            "Epoch 59/100\n",
            "3/3 - 0s - loss: 0.5932 - accuracy: 0.7238 - val_loss: 0.5930 - val_accuracy: 0.7378 - 117ms/epoch - 39ms/step\n",
            "Epoch 60/100\n",
            "3/3 - 0s - loss: 0.5913 - accuracy: 0.7238 - val_loss: 0.5897 - val_accuracy: 0.7378 - 165ms/epoch - 55ms/step\n",
            "Epoch 61/100\n",
            "3/3 - 0s - loss: 0.5883 - accuracy: 0.7238 - val_loss: 0.5853 - val_accuracy: 0.7378 - 82ms/epoch - 27ms/step\n",
            "Epoch 62/100\n",
            "3/3 - 0s - loss: 0.5879 - accuracy: 0.7238 - val_loss: 0.5808 - val_accuracy: 0.7378 - 130ms/epoch - 43ms/step\n",
            "Epoch 63/100\n",
            "3/3 - 0s - loss: 0.5866 - accuracy: 0.7238 - val_loss: 0.5813 - val_accuracy: 0.7362 - 70ms/epoch - 23ms/step\n",
            "Epoch 64/100\n",
            "3/3 - 0s - loss: 0.5849 - accuracy: 0.7238 - val_loss: 0.5788 - val_accuracy: 0.7378 - 185ms/epoch - 62ms/step\n",
            "Epoch 65/100\n",
            "3/3 - 0s - loss: 0.5771 - accuracy: 0.7238 - val_loss: 0.5838 - val_accuracy: 0.7378 - 138ms/epoch - 46ms/step\n",
            "Epoch 66/100\n",
            "3/3 - 0s - loss: 0.5776 - accuracy: 0.7238 - val_loss: 0.5776 - val_accuracy: 0.7365 - 125ms/epoch - 42ms/step\n",
            "Epoch 67/100\n",
            "3/3 - 0s - loss: 0.5777 - accuracy: 0.7238 - val_loss: 0.5704 - val_accuracy: 0.7378 - 87ms/epoch - 29ms/step\n",
            "Epoch 68/100\n",
            "3/3 - 0s - loss: 0.5741 - accuracy: 0.7238 - val_loss: 0.5720 - val_accuracy: 0.7378 - 144ms/epoch - 48ms/step\n",
            "Epoch 69/100\n",
            "3/3 - 0s - loss: 0.5745 - accuracy: 0.7238 - val_loss: 0.5720 - val_accuracy: 0.7378 - 111ms/epoch - 37ms/step\n",
            "Epoch 70/100\n",
            "3/3 - 0s - loss: 0.5716 - accuracy: 0.7238 - val_loss: 0.5708 - val_accuracy: 0.7378 - 122ms/epoch - 41ms/step\n",
            "Epoch 71/100\n",
            "3/3 - 0s - loss: 0.5703 - accuracy: 0.7238 - val_loss: 0.5685 - val_accuracy: 0.7378 - 67ms/epoch - 22ms/step\n",
            "Epoch 72/100\n",
            "3/3 - 0s - loss: 0.5744 - accuracy: 0.7229 - val_loss: 0.5742 - val_accuracy: 0.7371 - 74ms/epoch - 25ms/step\n",
            "Epoch 73/100\n",
            "3/3 - 0s - loss: 0.5792 - accuracy: 0.7238 - val_loss: 0.5731 - val_accuracy: 0.7378 - 144ms/epoch - 48ms/step\n",
            "Epoch 74/100\n",
            "3/3 - 0s - loss: 0.5761 - accuracy: 0.7238 - val_loss: 0.5747 - val_accuracy: 0.7378 - 236ms/epoch - 79ms/step\n",
            "Epoch 75/100\n",
            "3/3 - 0s - loss: 0.5757 - accuracy: 0.7238 - val_loss: 0.5758 - val_accuracy: 0.7378 - 114ms/epoch - 38ms/step\n",
            "Epoch 76/100\n",
            "3/3 - 0s - loss: 0.5759 - accuracy: 0.7238 - val_loss: 0.5759 - val_accuracy: 0.7378 - 145ms/epoch - 48ms/step\n",
            "Epoch 77/100\n",
            "3/3 - 0s - loss: 0.5754 - accuracy: 0.7238 - val_loss: 0.5756 - val_accuracy: 0.7378 - 98ms/epoch - 33ms/step\n",
            "Epoch 78/100\n",
            "3/3 - 0s - loss: 0.5746 - accuracy: 0.7238 - val_loss: 0.5751 - val_accuracy: 0.7378 - 187ms/epoch - 62ms/step\n",
            "Epoch 79/100\n",
            "3/3 - 0s - loss: 0.5736 - accuracy: 0.7238 - val_loss: 0.5744 - val_accuracy: 0.7371 - 72ms/epoch - 24ms/step\n",
            "Epoch 80/100\n",
            "3/3 - 0s - loss: 0.5727 - accuracy: 0.7229 - val_loss: 0.5740 - val_accuracy: 0.7369 - 51ms/epoch - 17ms/step\n",
            "Epoch 81/100\n",
            "3/3 - 0s - loss: 0.5718 - accuracy: 0.7229 - val_loss: 0.5741 - val_accuracy: 0.7371 - 44ms/epoch - 15ms/step\n",
            "Epoch 82/100\n",
            "3/3 - 0s - loss: 0.5717 - accuracy: 0.7247 - val_loss: 0.5737 - val_accuracy: 0.7367 - 49ms/epoch - 16ms/step\n",
            "Epoch 83/100\n",
            "3/3 - 0s - loss: 0.5713 - accuracy: 0.7238 - val_loss: 0.5723 - val_accuracy: 0.7365 - 225ms/epoch - 75ms/step\n",
            "Epoch 84/100\n",
            "3/3 - 0s - loss: 0.5706 - accuracy: 0.7274 - val_loss: 0.5702 - val_accuracy: 0.7374 - 121ms/epoch - 40ms/step\n",
            "Epoch 85/100\n",
            "3/3 - 0s - loss: 0.5688 - accuracy: 0.7336 - val_loss: 0.5669 - val_accuracy: 0.7382 - 110ms/epoch - 37ms/step\n",
            "Epoch 86/100\n",
            "3/3 - 0s - loss: 0.5657 - accuracy: 0.7327 - val_loss: 0.5665 - val_accuracy: 0.7389 - 107ms/epoch - 36ms/step\n",
            "Epoch 87/100\n",
            "3/3 - 0s - loss: 0.5620 - accuracy: 0.7353 - val_loss: 0.5478 - val_accuracy: 0.7409 - 126ms/epoch - 42ms/step\n",
            "Epoch 88/100\n",
            "3/3 - 0s - loss: 0.6360 - accuracy: 0.7371 - val_loss: 0.5666 - val_accuracy: 0.7378 - 153ms/epoch - 51ms/step\n",
            "Epoch 89/100\n",
            "3/3 - 0s - loss: 0.5673 - accuracy: 0.7327 - val_loss: 0.5779 - val_accuracy: 0.7365 - 83ms/epoch - 28ms/step\n",
            "Epoch 90/100\n",
            "3/3 - 0s - loss: 0.5752 - accuracy: 0.7318 - val_loss: 0.5818 - val_accuracy: 0.7365 - 129ms/epoch - 43ms/step\n",
            "Epoch 91/100\n",
            "3/3 - 0s - loss: 0.5766 - accuracy: 0.7318 - val_loss: 0.5829 - val_accuracy: 0.7365 - 124ms/epoch - 41ms/step\n",
            "Epoch 92/100\n",
            "3/3 - 0s - loss: 0.5763 - accuracy: 0.7318 - val_loss: 0.5836 - val_accuracy: 0.7369 - 129ms/epoch - 43ms/step\n",
            "Epoch 93/100\n",
            "3/3 - 0s - loss: 0.5761 - accuracy: 0.7327 - val_loss: 0.5841 - val_accuracy: 0.7367 - 172ms/epoch - 57ms/step\n",
            "Epoch 94/100\n",
            "3/3 - 0s - loss: 0.5761 - accuracy: 0.7327 - val_loss: 0.5845 - val_accuracy: 0.7365 - 146ms/epoch - 49ms/step\n",
            "Epoch 95/100\n",
            "3/3 - 0s - loss: 0.5760 - accuracy: 0.7327 - val_loss: 0.5848 - val_accuracy: 0.7365 - 140ms/epoch - 47ms/step\n",
            "Epoch 96/100\n",
            "3/3 - 0s - loss: 0.5758 - accuracy: 0.7327 - val_loss: 0.5850 - val_accuracy: 0.7367 - 180ms/epoch - 60ms/step\n",
            "Epoch 97/100\n",
            "3/3 - 0s - loss: 0.5757 - accuracy: 0.7327 - val_loss: 0.5851 - val_accuracy: 0.7369 - 213ms/epoch - 71ms/step\n",
            "Epoch 98/100\n",
            "3/3 - 0s - loss: 0.5754 - accuracy: 0.7327 - val_loss: 0.5851 - val_accuracy: 0.7369 - 191ms/epoch - 64ms/step\n",
            "Epoch 99/100\n",
            "3/3 - 0s - loss: 0.5752 - accuracy: 0.7327 - val_loss: 0.5852 - val_accuracy: 0.7369 - 179ms/epoch - 60ms/step\n",
            "Epoch 100/100\n",
            "3/3 - 0s - loss: 0.5749 - accuracy: 0.7327 - val_loss: 0.5852 - val_accuracy: 0.7369 - 253ms/epoch - 84ms/step\n"
          ]
        }
      ]
    },
    {
      "cell_type": "code",
      "source": [
        "show_train_history(train_history,'accuracy','val_accuracy')\n",
        "show_train_history(train_history,'loss','val_loss')"
      ],
      "metadata": {
        "id": "NyhmNRWJqiiT"
      },
      "execution_count": null,
      "outputs": []
    },
    {
      "cell_type": "code",
      "source": [
        "scores = model1.evaluate(x_test, y_test)\n",
        "print('\\n')\n",
        "print('accuracy=',scores[1])"
      ],
      "metadata": {
        "colab": {
          "base_uri": "https://localhost:8080/"
        },
        "id": "DgQ6aDj9PbHz",
        "outputId": "42f5a505-d5ab-4ddc-80ba-66f8d3bc619f"
      },
      "execution_count": null,
      "outputs": [
        {
          "output_type": "stream",
          "name": "stdout",
          "text": [
            "45/45 [==============================] - 0s 7ms/step - loss: 0.6056 - accuracy: 0.7289\n",
            "\n",
            "\n",
            "accuracy= 0.7288857102394104\n"
          ]
        }
      ]
    },
    {
      "cell_type": "code",
      "source": [
        "y_pred1 = model1.predict(x_test)\n",
        "accuracy1 = accuracy_score(y_test, np.argmax(y_pred1, axis=1))\n",
        "f11 = f1_score(y_test, np.argmax(y_pred1, axis=1))\n",
        "roc_auc1 = roc_auc_score(tf.keras.utils.to_categorical(y_test), y_pred1)"
      ],
      "metadata": {
        "colab": {
          "base_uri": "https://localhost:8080/"
        },
        "id": "RR87vNsFdVZJ",
        "outputId": "6307a6e7-cb55-4a92-d6c5-608f6ab669d9"
      },
      "execution_count": null,
      "outputs": [
        {
          "output_type": "stream",
          "name": "stdout",
          "text": [
            "45/45 [==============================] - 0s 4ms/step\n"
          ]
        }
      ]
    },
    {
      "cell_type": "code",
      "source": [
        "y_pred1 = (y_pred1 > 0.5)\n",
        "y_pred1"
      ],
      "metadata": {
        "colab": {
          "base_uri": "https://localhost:8080/"
        },
        "id": "96QDMEaVf47C",
        "outputId": "c9bb7cb5-e7b0-4d81-8374-ab5ec78ae221"
      },
      "execution_count": null,
      "outputs": [
        {
          "output_type": "execute_result",
          "data": {
            "text/plain": [
              "array([[False],\n",
              "       [False],\n",
              "       [False],\n",
              "       ...,\n",
              "       [False],\n",
              "       [False],\n",
              "       [False]])"
            ]
          },
          "metadata": {},
          "execution_count": 20
        }
      ]
    },
    {
      "cell_type": "code",
      "source": [
        "cm = confusion_matrix(y_pred1,y_test)\n",
        "plt.figure(figsize=(8, 6))\n",
        "sns.heatmap(cm, annot=True, fmt='d', cmap='Blues', cbar=False)\n",
        "plt.ylabel('Predicted')\n",
        "plt.xlabel('True')\n",
        "plt.title('Confusion Matrix')\n",
        "plt.show()"
      ],
      "metadata": {
        "colab": {
          "base_uri": "https://localhost:8080/",
          "height": 564
        },
        "id": "20z5tQ0AmiQV",
        "outputId": "6e572869-b5b7-42bb-9a5b-a76f50302761"
      },
      "execution_count": null,
      "outputs": [
        {
          "output_type": "display_data",
          "data": {
            "text/plain": [
              "<Figure size 800x600 with 1 Axes>"
            ],
            "image/png": "[encoded data removed]"
          },
          "metadata": {}
        }
      ]
    },
    {
      "cell_type": "code",
      "source": [
        "print(classification_report(y_test,y_pred1))"
      ],
      "metadata": {
        "colab": {
          "base_uri": "https://localhost:8080/"
        },
        "id": "P3VrgbSgdkaB",
        "outputId": "52f6bcaf-f42a-446a-8625-f4336446da3b"
      },
      "execution_count": null,
      "outputs": [
        {
          "output_type": "stream",
          "name": "stdout",
          "text": [
            "              precision    recall  f1-score   support\n",
            "\n",
            "           0       0.74      0.98      0.84      1033\n",
            "           1       0.42      0.05      0.08       376\n",
            "\n",
            "    accuracy                           0.73      1409\n",
            "   macro avg       0.58      0.51      0.46      1409\n",
            "weighted avg       0.65      0.73      0.64      1409\n",
            "\n"
          ]
        }
      ]
    },
    {
      "cell_type": "markdown",
      "source": [
        "**Deep Neural Network with Dropout**\n",
        "\n",
        "---\n",
        "\n"
      ],
      "metadata": {
        "id": "HqWe6XB1Pm23"
      }
    },
    {
      "cell_type": "code",
      "source": [
        "model2 = Sequential()\n",
        "model2.add(Dense(6, kernel_initializer = 'he_uniform',activation='relu',input_dim = 19))\n",
        "model2.add(Dropout(0.5))\n",
        "model2.add(Dense(6, kernel_initializer = 'he_uniform',activation='relu'))\n",
        "model2.add(Dropout(0.5))\n",
        "model2.add(Dense(1, kernel_initializer = 'glorot_uniform',activation='sigmoid'))\n",
        "print(model2.summary())"
      ],
      "metadata": {
        "colab": {
          "base_uri": "https://localhost:8080/"
        },
        "id": "ysx0v7HUPsKq",
        "outputId": "d425f0bd-0a31-4349-e65d-67d86862caa7"
      },
      "execution_count": null,
      "outputs": [
        {
          "output_type": "stream",
          "name": "stdout",
          "text": [
            "Model: \"sequential_1\"\n",
            "_________________________________________________________________\n",
            " Layer (type)                Output Shape              Param #   \n",
            "=================================================================\n",
            " dense_3 (Dense)             (None, 6)                 120       \n",
            "                                                                 \n",
            " dropout (Dropout)           (None, 6)                 0         \n",
            "                                                                 \n",
            " dense_4 (Dense)             (None, 6)                 42        \n",
            "                                                                 \n",
            " dropout_1 (Dropout)         (None, 6)                 0         \n",
            "                                                                 \n",
            " dense_5 (Dense)             (None, 1)                 7         \n",
            "                                                                 \n",
            "=================================================================\n",
            "Total params: 169 (676.00 Byte)\n",
            "Trainable params: 169 (676.00 Byte)\n",
            "Non-trainable params: 0 (0.00 Byte)\n",
            "_________________________________________________________________\n",
            "None\n"
          ]
        }
      ]
    },
    {
      "cell_type": "code",
      "source": [
        "model2.compile(loss='binary_crossentropy',  optimizer=tf.keras.optimizers.Adam(learning_rate=0.01), metrics=['accuracy'])\n",
        "train_history = model2.fit(x= x_train, y=y_train,  validation_split=0.33, epochs= 100,  batch_size=10, verbose=2)"
      ],
      "metadata": {
        "colab": {
          "base_uri": "https://localhost:8080/"
        },
        "id": "DO1GA8VtP90E",
        "outputId": "9a5c2f35-cb9c-4ea1-cb64-6024ae484d9e"
      },
      "execution_count": null,
      "outputs": [
        {
          "output_type": "stream",
          "name": "stdout",
          "text": [
            "Epoch 1/100\n",
            "378/378 - 5s - loss: 21.9908 - accuracy: 0.6934 - val_loss: 0.5699 - val_accuracy: 0.7441 - 5s/epoch - 13ms/step\n",
            "Epoch 2/100\n",
            "378/378 - 2s - loss: 0.5822 - accuracy: 0.7305 - val_loss: 0.5670 - val_accuracy: 0.7441 - 2s/epoch - 5ms/step\n",
            "Epoch 3/100\n",
            "378/378 - 2s - loss: 0.5858 - accuracy: 0.7305 - val_loss: 0.5681 - val_accuracy: 0.7441 - 2s/epoch - 4ms/step\n",
            "Epoch 4/100\n",
            "378/378 - 3s - loss: 0.5828 - accuracy: 0.7305 - val_loss: 0.5680 - val_accuracy: 0.7441 - 3s/epoch - 7ms/step\n",
            "Epoch 5/100\n",
            "378/378 - 2s - loss: 0.5829 - accuracy: 0.7305 - val_loss: 0.5696 - val_accuracy: 0.7441 - 2s/epoch - 5ms/step\n",
            "Epoch 6/100\n",
            "378/378 - 2s - loss: 0.5827 - accuracy: 0.7305 - val_loss: 0.5677 - val_accuracy: 0.7441 - 2s/epoch - 4ms/step\n",
            "Epoch 7/100\n",
            "378/378 - 2s - loss: 0.5830 - accuracy: 0.7305 - val_loss: 0.5677 - val_accuracy: 0.7441 - 2s/epoch - 4ms/step\n",
            "Epoch 8/100\n",
            "378/378 - 2s - loss: 0.5874 - accuracy: 0.7305 - val_loss: 0.5689 - val_accuracy: 0.7441 - 2s/epoch - 4ms/step\n",
            "Epoch 9/100\n",
            "378/378 - 2s - loss: 0.5830 - accuracy: 0.7305 - val_loss: 0.5693 - val_accuracy: 0.7441 - 2s/epoch - 5ms/step\n",
            "Epoch 10/100\n",
            "378/378 - 2s - loss: 0.5833 - accuracy: 0.7305 - val_loss: 0.5702 - val_accuracy: 0.7441 - 2s/epoch - 5ms/step\n",
            "Epoch 11/100\n",
            "378/378 - 2s - loss: 0.5830 - accuracy: 0.7305 - val_loss: 0.5688 - val_accuracy: 0.7441 - 2s/epoch - 5ms/step\n",
            "Epoch 12/100\n",
            "378/378 - 2s - loss: 0.5833 - accuracy: 0.7305 - val_loss: 0.5694 - val_accuracy: 0.7441 - 2s/epoch - 5ms/step\n",
            "Epoch 13/100\n",
            "378/378 - 2s - loss: 0.5834 - accuracy: 0.7305 - val_loss: 0.5689 - val_accuracy: 0.7441 - 2s/epoch - 5ms/step\n",
            "Epoch 14/100\n",
            "378/378 - 2s - loss: 0.5833 - accuracy: 0.7305 - val_loss: 0.5698 - val_accuracy: 0.7441 - 2s/epoch - 4ms/step\n",
            "Epoch 15/100\n",
            "378/378 - 2s - loss: 0.5831 - accuracy: 0.7305 - val_loss: 0.5688 - val_accuracy: 0.7441 - 2s/epoch - 5ms/step\n",
            "Epoch 16/100\n",
            "378/378 - 2s - loss: 0.5831 - accuracy: 0.7305 - val_loss: 0.5690 - val_accuracy: 0.7441 - 2s/epoch - 4ms/step\n",
            "Epoch 17/100\n",
            "378/378 - 2s - loss: 0.5831 - accuracy: 0.7305 - val_loss: 0.5711 - val_accuracy: 0.7441 - 2s/epoch - 5ms/step\n",
            "Epoch 18/100\n",
            "378/378 - 3s - loss: 0.5827 - accuracy: 0.7305 - val_loss: 0.5688 - val_accuracy: 0.7441 - 3s/epoch - 7ms/step\n",
            "Epoch 19/100\n",
            "378/378 - 2s - loss: 0.5832 - accuracy: 0.7305 - val_loss: 0.5689 - val_accuracy: 0.7441 - 2s/epoch - 5ms/step\n",
            "Epoch 20/100\n",
            "378/378 - 2s - loss: 0.5831 - accuracy: 0.7305 - val_loss: 0.5688 - val_accuracy: 0.7441 - 2s/epoch - 5ms/step\n",
            "Epoch 21/100\n",
            "378/378 - 2s - loss: 0.5833 - accuracy: 0.7305 - val_loss: 0.5688 - val_accuracy: 0.7441 - 2s/epoch - 4ms/step\n",
            "Epoch 22/100\n",
            "378/378 - 1s - loss: 0.5834 - accuracy: 0.7305 - val_loss: 0.5701 - val_accuracy: 0.7441 - 1s/epoch - 3ms/step\n",
            "Epoch 23/100\n",
            "378/378 - 2s - loss: 0.5828 - accuracy: 0.7305 - val_loss: 0.5715 - val_accuracy: 0.7441 - 2s/epoch - 5ms/step\n",
            "Epoch 24/100\n",
            "378/378 - 2s - loss: 0.5828 - accuracy: 0.7305 - val_loss: 0.5692 - val_accuracy: 0.7441 - 2s/epoch - 5ms/step\n",
            "Epoch 25/100\n",
            "378/378 - 4s - loss: 0.5834 - accuracy: 0.7305 - val_loss: 0.5694 - val_accuracy: 0.7441 - 4s/epoch - 11ms/step\n",
            "Epoch 26/100\n",
            "378/378 - 2s - loss: 0.5833 - accuracy: 0.7305 - val_loss: 0.5702 - val_accuracy: 0.7441 - 2s/epoch - 4ms/step\n",
            "Epoch 27/100\n",
            "378/378 - 2s - loss: 0.5834 - accuracy: 0.7305 - val_loss: 0.5694 - val_accuracy: 0.7441 - 2s/epoch - 6ms/step\n",
            "Epoch 28/100\n",
            "378/378 - 2s - loss: 0.5832 - accuracy: 0.7305 - val_loss: 0.5692 - val_accuracy: 0.7441 - 2s/epoch - 5ms/step\n",
            "Epoch 29/100\n",
            "378/378 - 1s - loss: 0.5831 - accuracy: 0.7305 - val_loss: 0.5691 - val_accuracy: 0.7441 - 1s/epoch - 4ms/step\n",
            "Epoch 30/100\n",
            "378/378 - 2s - loss: 0.5832 - accuracy: 0.7305 - val_loss: 0.5692 - val_accuracy: 0.7441 - 2s/epoch - 5ms/step\n",
            "Epoch 31/100\n",
            "378/378 - 3s - loss: 0.5830 - accuracy: 0.7305 - val_loss: 0.5688 - val_accuracy: 0.7441 - 3s/epoch - 7ms/step\n",
            "Epoch 32/100\n",
            "378/378 - 1s - loss: 0.5833 - accuracy: 0.7305 - val_loss: 0.5700 - val_accuracy: 0.7441 - 1s/epoch - 4ms/step\n",
            "Epoch 33/100\n",
            "378/378 - 1s - loss: 0.5833 - accuracy: 0.7305 - val_loss: 0.5688 - val_accuracy: 0.7441 - 1s/epoch - 4ms/step\n",
            "Epoch 34/100\n",
            "378/378 - 1s - loss: 0.5832 - accuracy: 0.7305 - val_loss: 0.5687 - val_accuracy: 0.7441 - 1s/epoch - 4ms/step\n",
            "Epoch 35/100\n",
            "378/378 - 2s - loss: 0.5833 - accuracy: 0.7305 - val_loss: 0.5687 - val_accuracy: 0.7441 - 2s/epoch - 6ms/step\n",
            "Epoch 36/100\n",
            "378/378 - 2s - loss: 0.5832 - accuracy: 0.7305 - val_loss: 0.5691 - val_accuracy: 0.7441 - 2s/epoch - 6ms/step\n",
            "Epoch 37/100\n",
            "378/378 - 3s - loss: 0.5832 - accuracy: 0.7305 - val_loss: 0.5690 - val_accuracy: 0.7441 - 3s/epoch - 8ms/step\n",
            "Epoch 38/100\n",
            "378/378 - 2s - loss: 0.5831 - accuracy: 0.7305 - val_loss: 0.5702 - val_accuracy: 0.7441 - 2s/epoch - 5ms/step\n",
            "Epoch 39/100\n",
            "378/378 - 1s - loss: 0.5832 - accuracy: 0.7305 - val_loss: 0.5687 - val_accuracy: 0.7441 - 861ms/epoch - 2ms/step\n",
            "Epoch 40/100\n",
            "378/378 - 1s - loss: 0.5831 - accuracy: 0.7305 - val_loss: 0.5689 - val_accuracy: 0.7441 - 748ms/epoch - 2ms/step\n",
            "Epoch 41/100\n",
            "378/378 - 1s - loss: 0.5836 - accuracy: 0.7305 - val_loss: 0.5690 - val_accuracy: 0.7441 - 870ms/epoch - 2ms/step\n",
            "Epoch 42/100\n",
            "378/378 - 1s - loss: 0.5831 - accuracy: 0.7305 - val_loss: 0.5690 - val_accuracy: 0.7441 - 767ms/epoch - 2ms/step\n",
            "Epoch 43/100\n",
            "378/378 - 1s - loss: 0.5831 - accuracy: 0.7305 - val_loss: 0.5687 - val_accuracy: 0.7441 - 869ms/epoch - 2ms/step\n",
            "Epoch 44/100\n",
            "378/378 - 1s - loss: 0.5832 - accuracy: 0.7305 - val_loss: 0.5693 - val_accuracy: 0.7441 - 802ms/epoch - 2ms/step\n",
            "Epoch 45/100\n",
            "378/378 - 1s - loss: 0.5833 - accuracy: 0.7305 - val_loss: 0.5694 - val_accuracy: 0.7441 - 797ms/epoch - 2ms/step\n",
            "Epoch 46/100\n",
            "378/378 - 1s - loss: 0.5830 - accuracy: 0.7305 - val_loss: 0.5703 - val_accuracy: 0.7441 - 893ms/epoch - 2ms/step\n",
            "Epoch 47/100\n",
            "378/378 - 1s - loss: 0.5831 - accuracy: 0.7305 - val_loss: 0.5691 - val_accuracy: 0.7441 - 860ms/epoch - 2ms/step\n",
            "Epoch 48/100\n",
            "378/378 - 1s - loss: 0.5831 - accuracy: 0.7305 - val_loss: 0.5698 - val_accuracy: 0.7441 - 862ms/epoch - 2ms/step\n",
            "Epoch 49/100\n",
            "378/378 - 1s - loss: 0.5831 - accuracy: 0.7305 - val_loss: 0.5699 - val_accuracy: 0.7441 - 1s/epoch - 3ms/step\n",
            "Epoch 50/100\n",
            "378/378 - 1s - loss: 0.5833 - accuracy: 0.7305 - val_loss: 0.5693 - val_accuracy: 0.7441 - 1s/epoch - 3ms/step\n",
            "Epoch 51/100\n",
            "378/378 - 1s - loss: 0.5830 - accuracy: 0.7305 - val_loss: 0.5688 - val_accuracy: 0.7441 - 818ms/epoch - 2ms/step\n",
            "Epoch 52/100\n",
            "378/378 - 1s - loss: 0.5832 - accuracy: 0.7305 - val_loss: 0.5693 - val_accuracy: 0.7441 - 777ms/epoch - 2ms/step\n",
            "Epoch 53/100\n",
            "378/378 - 1s - loss: 0.5833 - accuracy: 0.7305 - val_loss: 0.5708 - val_accuracy: 0.7441 - 767ms/epoch - 2ms/step\n",
            "Epoch 54/100\n",
            "378/378 - 1s - loss: 0.5834 - accuracy: 0.7305 - val_loss: 0.5694 - val_accuracy: 0.7441 - 760ms/epoch - 2ms/step\n",
            "Epoch 55/100\n",
            "378/378 - 1s - loss: 0.5831 - accuracy: 0.7305 - val_loss: 0.5700 - val_accuracy: 0.7441 - 849ms/epoch - 2ms/step\n",
            "Epoch 56/100\n",
            "378/378 - 1s - loss: 0.5830 - accuracy: 0.7305 - val_loss: 0.5688 - val_accuracy: 0.7441 - 859ms/epoch - 2ms/step\n",
            "Epoch 57/100\n",
            "378/378 - 1s - loss: 0.5831 - accuracy: 0.7305 - val_loss: 0.5687 - val_accuracy: 0.7441 - 864ms/epoch - 2ms/step\n",
            "Epoch 58/100\n",
            "378/378 - 1s - loss: 0.5836 - accuracy: 0.7305 - val_loss: 0.5689 - val_accuracy: 0.7441 - 869ms/epoch - 2ms/step\n",
            "Epoch 59/100\n",
            "378/378 - 1s - loss: 0.5831 - accuracy: 0.7305 - val_loss: 0.5700 - val_accuracy: 0.7441 - 845ms/epoch - 2ms/step\n",
            "Epoch 60/100\n",
            "378/378 - 1s - loss: 0.5830 - accuracy: 0.7305 - val_loss: 0.5687 - val_accuracy: 0.7441 - 750ms/epoch - 2ms/step\n",
            "Epoch 61/100\n",
            "378/378 - 1s - loss: 0.5833 - accuracy: 0.7305 - val_loss: 0.5697 - val_accuracy: 0.7441 - 865ms/epoch - 2ms/step\n",
            "Epoch 62/100\n",
            "378/378 - 1s - loss: 0.5829 - accuracy: 0.7305 - val_loss: 0.5704 - val_accuracy: 0.7441 - 871ms/epoch - 2ms/step\n",
            "Epoch 63/100\n",
            "378/378 - 1s - loss: 0.5832 - accuracy: 0.7305 - val_loss: 0.5696 - val_accuracy: 0.7441 - 1s/epoch - 3ms/step\n",
            "Epoch 64/100\n",
            "378/378 - 1s - loss: 0.5833 - accuracy: 0.7305 - val_loss: 0.5688 - val_accuracy: 0.7441 - 1s/epoch - 4ms/step\n",
            "Epoch 65/100\n",
            "378/378 - 1s - loss: 0.5833 - accuracy: 0.7305 - val_loss: 0.5688 - val_accuracy: 0.7441 - 855ms/epoch - 2ms/step\n",
            "Epoch 66/100\n",
            "378/378 - 1s - loss: 0.5832 - accuracy: 0.7305 - val_loss: 0.5703 - val_accuracy: 0.7441 - 862ms/epoch - 2ms/step\n",
            "Epoch 67/100\n",
            "378/378 - 1s - loss: 0.5834 - accuracy: 0.7305 - val_loss: 0.5692 - val_accuracy: 0.7441 - 905ms/epoch - 2ms/step\n",
            "Epoch 68/100\n",
            "378/378 - 1s - loss: 0.5830 - accuracy: 0.7305 - val_loss: 0.5688 - val_accuracy: 0.7441 - 770ms/epoch - 2ms/step\n",
            "Epoch 69/100\n",
            "378/378 - 1s - loss: 0.5832 - accuracy: 0.7305 - val_loss: 0.5694 - val_accuracy: 0.7441 - 780ms/epoch - 2ms/step\n",
            "Epoch 70/100\n",
            "378/378 - 1s - loss: 0.5831 - accuracy: 0.7305 - val_loss: 0.5687 - val_accuracy: 0.7441 - 770ms/epoch - 2ms/step\n",
            "Epoch 71/100\n",
            "378/378 - 1s - loss: 0.5827 - accuracy: 0.7305 - val_loss: 0.5711 - val_accuracy: 0.7441 - 1s/epoch - 3ms/step\n",
            "Epoch 72/100\n",
            "378/378 - 1s - loss: 0.5832 - accuracy: 0.7305 - val_loss: 0.5691 - val_accuracy: 0.7441 - 1s/epoch - 4ms/step\n",
            "Epoch 73/100\n",
            "378/378 - 2s - loss: 0.5832 - accuracy: 0.7305 - val_loss: 0.5687 - val_accuracy: 0.7441 - 2s/epoch - 4ms/step\n",
            "Epoch 74/100\n",
            "378/378 - 1s - loss: 0.5833 - accuracy: 0.7305 - val_loss: 0.5690 - val_accuracy: 0.7441 - 777ms/epoch - 2ms/step\n",
            "Epoch 75/100\n",
            "378/378 - 1s - loss: 0.5833 - accuracy: 0.7305 - val_loss: 0.5689 - val_accuracy: 0.7441 - 1s/epoch - 3ms/step\n",
            "Epoch 76/100\n",
            "378/378 - 1s - loss: 0.5832 - accuracy: 0.7305 - val_loss: 0.5695 - val_accuracy: 0.7441 - 1s/epoch - 4ms/step\n",
            "Epoch 77/100\n",
            "378/378 - 1s - loss: 0.5832 - accuracy: 0.7305 - val_loss: 0.5692 - val_accuracy: 0.7441 - 865ms/epoch - 2ms/step\n",
            "Epoch 78/100\n",
            "378/378 - 1s - loss: 0.5833 - accuracy: 0.7305 - val_loss: 0.5690 - val_accuracy: 0.7441 - 866ms/epoch - 2ms/step\n",
            "Epoch 79/100\n",
            "378/378 - 1s - loss: 0.5833 - accuracy: 0.7305 - val_loss: 0.5694 - val_accuracy: 0.7441 - 860ms/epoch - 2ms/step\n",
            "Epoch 80/100\n",
            "378/378 - 1s - loss: 0.5833 - accuracy: 0.7305 - val_loss: 0.5695 - val_accuracy: 0.7441 - 853ms/epoch - 2ms/step\n",
            "Epoch 81/100\n",
            "378/378 - 1s - loss: 0.5830 - accuracy: 0.7305 - val_loss: 0.5687 - val_accuracy: 0.7441 - 856ms/epoch - 2ms/step\n",
            "Epoch 82/100\n",
            "378/378 - 1s - loss: 0.5832 - accuracy: 0.7305 - val_loss: 0.5690 - val_accuracy: 0.7441 - 802ms/epoch - 2ms/step\n",
            "Epoch 83/100\n",
            "378/378 - 1s - loss: 0.5832 - accuracy: 0.7305 - val_loss: 0.5694 - val_accuracy: 0.7441 - 812ms/epoch - 2ms/step\n",
            "Epoch 84/100\n",
            "378/378 - 2s - loss: 0.5834 - accuracy: 0.7305 - val_loss: 0.5692 - val_accuracy: 0.7441 - 2s/epoch - 4ms/step\n",
            "Epoch 85/100\n",
            "378/378 - 2s - loss: 0.5834 - accuracy: 0.7305 - val_loss: 0.5694 - val_accuracy: 0.7441 - 2s/epoch - 5ms/step\n",
            "Epoch 86/100\n",
            "378/378 - 2s - loss: 0.5832 - accuracy: 0.7305 - val_loss: 0.5688 - val_accuracy: 0.7441 - 2s/epoch - 6ms/step\n",
            "Epoch 87/100\n",
            "378/378 - 2s - loss: 0.5834 - accuracy: 0.7305 - val_loss: 0.5687 - val_accuracy: 0.7441 - 2s/epoch - 5ms/step\n",
            "Epoch 88/100\n",
            "378/378 - 2s - loss: 0.5834 - accuracy: 0.7305 - val_loss: 0.5688 - val_accuracy: 0.7441 - 2s/epoch - 4ms/step\n",
            "Epoch 89/100\n",
            "378/378 - 2s - loss: 0.5833 - accuracy: 0.7305 - val_loss: 0.5701 - val_accuracy: 0.7441 - 2s/epoch - 4ms/step\n",
            "Epoch 90/100\n",
            "378/378 - 2s - loss: 0.5829 - accuracy: 0.7305 - val_loss: 0.5688 - val_accuracy: 0.7441 - 2s/epoch - 5ms/step\n",
            "Epoch 91/100\n",
            "378/378 - 1s - loss: 0.5832 - accuracy: 0.7305 - val_loss: 0.5695 - val_accuracy: 0.7441 - 775ms/epoch - 2ms/step\n",
            "Epoch 92/100\n",
            "378/378 - 1s - loss: 0.5834 - accuracy: 0.7305 - val_loss: 0.5695 - val_accuracy: 0.7441 - 873ms/epoch - 2ms/step\n",
            "Epoch 93/100\n",
            "378/378 - 1s - loss: 0.5830 - accuracy: 0.7305 - val_loss: 0.5714 - val_accuracy: 0.7441 - 1s/epoch - 3ms/step\n",
            "Epoch 94/100\n",
            "378/378 - 1s - loss: 0.5831 - accuracy: 0.7305 - val_loss: 0.5694 - val_accuracy: 0.7441 - 931ms/epoch - 2ms/step\n",
            "Epoch 95/100\n",
            "378/378 - 2s - loss: 0.5831 - accuracy: 0.7305 - val_loss: 0.5703 - val_accuracy: 0.7441 - 2s/epoch - 4ms/step\n",
            "Epoch 96/100\n",
            "378/378 - 2s - loss: 0.5834 - accuracy: 0.7305 - val_loss: 0.5700 - val_accuracy: 0.7441 - 2s/epoch - 6ms/step\n",
            "Epoch 97/100\n",
            "378/378 - 2s - loss: 0.5831 - accuracy: 0.7305 - val_loss: 0.5694 - val_accuracy: 0.7441 - 2s/epoch - 5ms/step\n",
            "Epoch 98/100\n",
            "378/378 - 2s - loss: 0.5833 - accuracy: 0.7305 - val_loss: 0.5694 - val_accuracy: 0.7441 - 2s/epoch - 5ms/step\n",
            "Epoch 99/100\n",
            "378/378 - 2s - loss: 0.5832 - accuracy: 0.7305 - val_loss: 0.5691 - val_accuracy: 0.7441 - 2s/epoch - 6ms/step\n",
            "Epoch 100/100\n",
            "378/378 - 2s - loss: 0.5833 - accuracy: 0.7305 - val_loss: 0.5690 - val_accuracy: 0.7441 - 2s/epoch - 5ms/step\n"
          ]
        }
      ]
    },
    {
      "cell_type": "code",
      "source": [
        "show_train_history(train_history,'accuracy','val_accuracy')\n",
        "show_train_history(train_history,'loss','val_loss')"
      ],
      "metadata": {
        "id": "2yTKxVXjqlSI"
      },
      "execution_count": null,
      "outputs": []
    },
    {
      "cell_type": "code",
      "source": [
        "scores = model2.evaluate(x_test, y_test)\n",
        "print('\\n')\n",
        "print('accuracy=',scores[1])"
      ],
      "metadata": {
        "colab": {
          "base_uri": "https://localhost:8080/"
        },
        "id": "OHGrEC-0QFkh",
        "outputId": "5d4cde09-e2d2-4b44-a446-949a37a62164"
      },
      "execution_count": null,
      "outputs": [
        {
          "output_type": "stream",
          "name": "stdout",
          "text": [
            "45/45 [==============================] - 0s 3ms/step - loss: 0.5801 - accuracy: 0.7331\n",
            "\n",
            "\n",
            "accuracy= 0.7331440448760986\n"
          ]
        }
      ]
    },
    {
      "cell_type": "code",
      "source": [
        "y_pred2 = model2.predict(x_test)\n",
        "accuracy2 = accuracy_score(y_test, np.argmax(y_pred2, axis=1))\n",
        "f12 = f1_score(y_test, np.argmax(y_pred2, axis=1))\n",
        "roc_auc2 = roc_auc_score(tf.keras.utils.to_categorical(y_test), y_pred2)"
      ],
      "metadata": {
        "colab": {
          "base_uri": "https://localhost:8080/"
        },
        "id": "ZsNNUhY-hIE2",
        "outputId": "4c827c07-a227-4234-e8a4-a6778d176e19"
      },
      "execution_count": null,
      "outputs": [
        {
          "output_type": "stream",
          "name": "stdout",
          "text": [
            "45/45 [==============================] - 0s 5ms/step\n"
          ]
        }
      ]
    },
    {
      "cell_type": "code",
      "source": [
        "y_pred2 = (y_pred2 > 0.5)\n",
        "y_pred2"
      ],
      "metadata": {
        "colab": {
          "base_uri": "https://localhost:8080/"
        },
        "id": "C8sdFOOShPu9",
        "outputId": "169b321e-74ea-48f5-b951-11806ce3715c"
      },
      "execution_count": null,
      "outputs": [
        {
          "output_type": "execute_result",
          "data": {
            "text/plain": [
              "array([[False],\n",
              "       [False],\n",
              "       [False],\n",
              "       ...,\n",
              "       [False],\n",
              "       [False],\n",
              "       [False]])"
            ]
          },
          "metadata": {},
          "execution_count": 27
        }
      ]
    },
    {
      "cell_type": "code",
      "source": [
        "cm = confusion_matrix(y_pred2,y_test)\n",
        "plt.figure(figsize=(8, 6))\n",
        "sns.heatmap(cm, annot=True, fmt='d', cmap='Blues', cbar=False)\n",
        "plt.xlabel('True')\n",
        "plt.ylabel('Predicted')\n",
        "plt.title('Confusion Matrix')\n",
        "plt.show()"
      ],
      "metadata": {
        "colab": {
          "base_uri": "https://localhost:8080/",
          "height": 564
        },
        "id": "RqORyqiFnYPy",
        "outputId": "848b85df-56db-44ad-98ea-85a9127496b5"
      },
      "execution_count": null,
      "outputs": [
        {
          "output_type": "display_data",
          "data": {
            "text/plain": [
              "<Figure size 800x600 with 1 Axes>"
            ],
            "image/png": "[encoded data removed]"
          },
          "metadata": {}
        }
      ]
    },
    {
      "cell_type": "code",
      "source": [
        "print(classification_report(y_test,y_pred2))"
      ],
      "metadata": {
        "colab": {
          "base_uri": "https://localhost:8080/"
        },
        "id": "OM6pFdDUhUx5",
        "outputId": "42fc2634-74f9-407f-bb6d-d718ebd80b96"
      },
      "execution_count": null,
      "outputs": [
        {
          "output_type": "stream",
          "name": "stdout",
          "text": [
            "              precision    recall  f1-score   support\n",
            "\n",
            "           0       0.73      1.00      0.85      1033\n",
            "           1       0.00      0.00      0.00       376\n",
            "\n",
            "    accuracy                           0.73      1409\n",
            "   macro avg       0.37      0.50      0.42      1409\n",
            "weighted avg       0.54      0.73      0.62      1409\n",
            "\n"
          ]
        },
        {
          "output_type": "stream",
          "name": "stderr",
          "text": [
            "/usr/local/lib/python3.10/dist-packages/sklearn/metrics/_classification.py:1344: UndefinedMetricWarning:\n",
            "\n",
            "Precision and F-score are ill-defined and being set to 0.0 in labels with no predicted samples. Use `zero_division` parameter to control this behavior.\n",
            "\n",
            "/usr/local/lib/python3.10/dist-packages/sklearn/metrics/_classification.py:1344: UndefinedMetricWarning:\n",
            "\n",
            "Precision and F-score are ill-defined and being set to 0.0 in labels with no predicted samples. Use `zero_division` parameter to control this behavior.\n",
            "\n",
            "/usr/local/lib/python3.10/dist-packages/sklearn/metrics/_classification.py:1344: UndefinedMetricWarning:\n",
            "\n",
            "Precision and F-score are ill-defined and being set to 0.0 in labels with no predicted samples. Use `zero_division` parameter to control this behavior.\n",
            "\n"
          ]
        }
      ]
    },
    {
      "cell_type": "markdown",
      "source": [
        "**Implementing Layer-wise Dropout:**\n",
        "\n",
        "---\n",
        "\n",
        "\n",
        "\n",
        "● Modify the DNN architecture to incorporate layer-wise dropout, where dropout is applied after each hidden layer with varying dropout rates (e.g., 0.2, 0.3, 0.4).\n",
        "\n",
        "● Train the modified model and assess its performance using validation metrics."
      ],
      "metadata": {
        "id": "Riy9xdz6QMOR"
      }
    },
    {
      "cell_type": "code",
      "source": [
        "model3 = Sequential()\n",
        "model3.add(Dense(6, kernel_initializer = 'he_uniform',activation='relu',input_dim = 19))\n",
        "model3.add(Dropout(0.3))\n",
        "model3.add(Dense(6, kernel_initializer = 'he_uniform',activation='relu'))\n",
        "model3.add(Dropout(0.2))\n",
        "model3.add(Dense(1, kernel_initializer = 'glorot_uniform',activation='sigmoid'))\n",
        "print(model3.summary())"
      ],
      "metadata": {
        "colab": {
          "base_uri": "https://localhost:8080/"
        },
        "id": "VyfD-MnJQSsL",
        "outputId": "90cb9624-87f6-46b1-ed28-48cf8211b081"
      },
      "execution_count": null,
      "outputs": [
        {
          "output_type": "stream",
          "name": "stdout",
          "text": [
            "Model: \"sequential_2\"\n",
            "_________________________________________________________________\n",
            " Layer (type)                Output Shape              Param #   \n",
            "=================================================================\n",
            " dense_6 (Dense)             (None, 6)                 120       \n",
            "                                                                 \n",
            " dropout_2 (Dropout)         (None, 6)                 0         \n",
            "                                                                 \n",
            " dense_7 (Dense)             (None, 6)                 42        \n",
            "                                                                 \n",
            " dropout_3 (Dropout)         (None, 6)                 0         \n",
            "                                                                 \n",
            " dense_8 (Dense)             (None, 1)                 7         \n",
            "                                                                 \n",
            "=================================================================\n",
            "Total params: 169 (676.00 Byte)\n",
            "Trainable params: 169 (676.00 Byte)\n",
            "Non-trainable params: 0 (0.00 Byte)\n",
            "_________________________________________________________________\n",
            "None\n"
          ]
        }
      ]
    },
    {
      "cell_type": "code",
      "source": [
        "model3.compile(loss='binary_crossentropy',  optimizer=tf.keras.optimizers.Adam(learning_rate=0.01), metrics=['accuracy'])\n",
        "train_history = model3.fit(x= x_train, y=y_train,  validation_split=0.8, epochs= 100,  batch_size=500, verbose=2)"
      ],
      "metadata": {
        "colab": {
          "base_uri": "https://localhost:8080/"
        },
        "id": "DlHII5FGQjLJ",
        "outputId": "feaf144f-e075-49f7-b6c5-c8a8a1944525"
      },
      "execution_count": null,
      "outputs": [
        {
          "output_type": "stream",
          "name": "stdout",
          "text": [
            "Epoch 1/100\n",
            "3/3 - 3s - loss: 383.3693 - accuracy: 0.5861 - val_loss: 98.1119 - val_accuracy: 0.7376 - 3s/epoch - 853ms/step\n",
            "Epoch 2/100\n",
            "3/3 - 0s - loss: 303.0789 - accuracy: 0.5941 - val_loss: 76.6302 - val_accuracy: 0.7374 - 110ms/epoch - 37ms/step\n",
            "Epoch 3/100\n",
            "3/3 - 0s - loss: 223.6803 - accuracy: 0.6359 - val_loss: 49.1463 - val_accuracy: 0.7318 - 77ms/epoch - 26ms/step\n",
            "Epoch 4/100\n",
            "3/3 - 0s - loss: 202.9926 - accuracy: 0.5488 - val_loss: 33.3400 - val_accuracy: 0.7316 - 269ms/epoch - 90ms/step\n",
            "Epoch 5/100\n",
            "3/3 - 0s - loss: 168.5241 - accuracy: 0.5657 - val_loss: 28.1158 - val_accuracy: 0.7318 - 128ms/epoch - 43ms/step\n",
            "Epoch 6/100\n",
            "3/3 - 0s - loss: 123.0016 - accuracy: 0.6226 - val_loss: 17.0276 - val_accuracy: 0.7318 - 112ms/epoch - 37ms/step\n",
            "Epoch 7/100\n",
            "3/3 - 0s - loss: 107.4511 - accuracy: 0.6368 - val_loss: 3.4306 - val_accuracy: 0.7056 - 62ms/epoch - 21ms/step\n",
            "Epoch 8/100\n",
            "3/3 - 0s - loss: 94.3384 - accuracy: 0.5675 - val_loss: 8.2728 - val_accuracy: 0.3119 - 51ms/epoch - 17ms/step\n",
            "Epoch 9/100\n",
            "3/3 - 0s - loss: 92.4699 - accuracy: 0.5311 - val_loss: 4.8893 - val_accuracy: 0.7378 - 46ms/epoch - 15ms/step\n",
            "Epoch 10/100\n",
            "3/3 - 0s - loss: 72.0562 - accuracy: 0.6163 - val_loss: 7.8824 - val_accuracy: 0.7378 - 54ms/epoch - 18ms/step\n",
            "Epoch 11/100\n",
            "3/3 - 0s - loss: 50.0380 - accuracy: 0.6563 - val_loss: 5.5735 - val_accuracy: 0.7378 - 52ms/epoch - 17ms/step\n",
            "Epoch 12/100\n",
            "3/3 - 0s - loss: 49.7979 - accuracy: 0.5817 - val_loss: 2.5945 - val_accuracy: 0.7378 - 49ms/epoch - 16ms/step\n",
            "Epoch 13/100\n",
            "3/3 - 0s - loss: 36.9391 - accuracy: 0.6181 - val_loss: 1.1785 - val_accuracy: 0.6595 - 46ms/epoch - 15ms/step\n",
            "Epoch 14/100\n",
            "3/3 - 0s - loss: 29.9779 - accuracy: 0.6368 - val_loss: 1.3988 - val_accuracy: 0.6247 - 94ms/epoch - 31ms/step\n",
            "Epoch 15/100\n",
            "3/3 - 0s - loss: 26.2552 - accuracy: 0.6430 - val_loss: 0.8553 - val_accuracy: 0.7398 - 49ms/epoch - 16ms/step\n",
            "Epoch 16/100\n",
            "3/3 - 0s - loss: 27.4253 - accuracy: 0.6101 - val_loss: 0.9707 - val_accuracy: 0.7378 - 49ms/epoch - 16ms/step\n",
            "Epoch 17/100\n",
            "3/3 - 0s - loss: 19.2852 - accuracy: 0.6155 - val_loss: 0.7537 - val_accuracy: 0.7396 - 52ms/epoch - 17ms/step\n",
            "Epoch 18/100\n",
            "3/3 - 0s - loss: 19.1891 - accuracy: 0.6119 - val_loss: 0.7188 - val_accuracy: 0.7272 - 51ms/epoch - 17ms/step\n",
            "Epoch 19/100\n",
            "3/3 - 0s - loss: 16.8985 - accuracy: 0.6314 - val_loss: 0.8511 - val_accuracy: 0.7156 - 53ms/epoch - 18ms/step\n",
            "Epoch 20/100\n",
            "3/3 - 0s - loss: 12.6284 - accuracy: 0.6075 - val_loss: 0.5513 - val_accuracy: 0.7642 - 52ms/epoch - 17ms/step\n",
            "Epoch 21/100\n",
            "3/3 - 0s - loss: 11.4427 - accuracy: 0.6483 - val_loss: 0.5428 - val_accuracy: 0.7465 - 46ms/epoch - 15ms/step\n",
            "Epoch 22/100\n",
            "3/3 - 0s - loss: 9.5566 - accuracy: 0.5968 - val_loss: 0.5542 - val_accuracy: 0.7438 - 52ms/epoch - 17ms/step\n",
            "Epoch 23/100\n",
            "3/3 - 0s - loss: 8.6615 - accuracy: 0.6270 - val_loss: 0.7423 - val_accuracy: 0.6877 - 46ms/epoch - 15ms/step\n",
            "Epoch 24/100\n",
            "3/3 - 0s - loss: 7.4822 - accuracy: 0.6456 - val_loss: 0.5820 - val_accuracy: 0.7331 - 49ms/epoch - 16ms/step\n",
            "Epoch 25/100\n",
            "3/3 - 0s - loss: 6.5425 - accuracy: 0.6572 - val_loss: 0.5414 - val_accuracy: 0.7549 - 60ms/epoch - 20ms/step\n",
            "Epoch 26/100\n",
            "3/3 - 0s - loss: 6.5373 - accuracy: 0.6279 - val_loss: 0.5392 - val_accuracy: 0.7587 - 46ms/epoch - 15ms/step\n",
            "Epoch 27/100\n",
            "3/3 - 0s - loss: 6.1418 - accuracy: 0.6634 - val_loss: 0.5676 - val_accuracy: 0.7245 - 48ms/epoch - 16ms/step\n",
            "Epoch 28/100\n",
            "3/3 - 0s - loss: 4.1829 - accuracy: 0.6661 - val_loss: 0.6513 - val_accuracy: 0.7016 - 56ms/epoch - 19ms/step\n",
            "Epoch 29/100\n",
            "3/3 - 0s - loss: 4.0122 - accuracy: 0.6252 - val_loss: 0.5598 - val_accuracy: 0.7336 - 50ms/epoch - 17ms/step\n",
            "Epoch 30/100\n",
            "3/3 - 0s - loss: 2.8821 - accuracy: 0.6474 - val_loss: 0.5393 - val_accuracy: 0.7666 - 54ms/epoch - 18ms/step\n",
            "Epoch 31/100\n",
            "3/3 - 0s - loss: 2.1098 - accuracy: 0.6474 - val_loss: 0.5543 - val_accuracy: 0.7471 - 54ms/epoch - 18ms/step\n",
            "Epoch 32/100\n",
            "3/3 - 0s - loss: 2.1336 - accuracy: 0.6625 - val_loss: 0.5668 - val_accuracy: 0.7329 - 46ms/epoch - 15ms/step\n",
            "Epoch 33/100\n",
            "3/3 - 0s - loss: 1.8053 - accuracy: 0.6501 - val_loss: 0.5501 - val_accuracy: 0.7666 - 49ms/epoch - 16ms/step\n",
            "Epoch 34/100\n",
            "3/3 - 0s - loss: 1.3144 - accuracy: 0.6936 - val_loss: 0.5597 - val_accuracy: 0.7433 - 51ms/epoch - 17ms/step\n",
            "Epoch 35/100\n",
            "3/3 - 0s - loss: 0.9264 - accuracy: 0.6883 - val_loss: 0.5713 - val_accuracy: 0.7589 - 46ms/epoch - 15ms/step\n",
            "Epoch 36/100\n",
            "3/3 - 0s - loss: 0.7716 - accuracy: 0.7043 - val_loss: 0.5850 - val_accuracy: 0.7380 - 59ms/epoch - 20ms/step\n",
            "Epoch 37/100\n",
            "3/3 - 0s - loss: 0.6241 - accuracy: 0.7123 - val_loss: 0.5881 - val_accuracy: 0.7378 - 45ms/epoch - 15ms/step\n",
            "Epoch 38/100\n",
            "3/3 - 0s - loss: 0.5999 - accuracy: 0.7158 - val_loss: 0.5906 - val_accuracy: 0.7378 - 53ms/epoch - 18ms/step\n",
            "Epoch 39/100\n",
            "3/3 - 0s - loss: 0.5964 - accuracy: 0.7247 - val_loss: 0.5922 - val_accuracy: 0.7378 - 53ms/epoch - 18ms/step\n",
            "Epoch 40/100\n",
            "3/3 - 0s - loss: 0.5965 - accuracy: 0.7229 - val_loss: 0.5907 - val_accuracy: 0.7378 - 53ms/epoch - 18ms/step\n",
            "Epoch 41/100\n",
            "3/3 - 0s - loss: 0.5935 - accuracy: 0.7238 - val_loss: 0.5893 - val_accuracy: 0.7378 - 57ms/epoch - 19ms/step\n",
            "Epoch 42/100\n",
            "3/3 - 0s - loss: 0.5935 - accuracy: 0.7238 - val_loss: 0.5881 - val_accuracy: 0.7378 - 55ms/epoch - 18ms/step\n",
            "Epoch 43/100\n",
            "3/3 - 0s - loss: 0.5921 - accuracy: 0.7229 - val_loss: 0.5871 - val_accuracy: 0.7378 - 64ms/epoch - 21ms/step\n",
            "Epoch 44/100\n",
            "3/3 - 0s - loss: 0.5911 - accuracy: 0.7238 - val_loss: 0.5863 - val_accuracy: 0.7378 - 52ms/epoch - 17ms/step\n",
            "Epoch 45/100\n",
            "3/3 - 0s - loss: 0.5906 - accuracy: 0.7238 - val_loss: 0.5856 - val_accuracy: 0.7378 - 54ms/epoch - 18ms/step\n",
            "Epoch 46/100\n",
            "3/3 - 0s - loss: 0.5897 - accuracy: 0.7238 - val_loss: 0.5851 - val_accuracy: 0.7378 - 53ms/epoch - 18ms/step\n",
            "Epoch 47/100\n",
            "3/3 - 0s - loss: 0.5893 - accuracy: 0.7238 - val_loss: 0.5847 - val_accuracy: 0.7378 - 54ms/epoch - 18ms/step\n",
            "Epoch 48/100\n",
            "3/3 - 0s - loss: 0.5892 - accuracy: 0.7238 - val_loss: 0.5844 - val_accuracy: 0.7378 - 48ms/epoch - 16ms/step\n",
            "Epoch 49/100\n",
            "3/3 - 0s - loss: 0.5889 - accuracy: 0.7238 - val_loss: 0.5842 - val_accuracy: 0.7378 - 51ms/epoch - 17ms/step\n",
            "Epoch 50/100\n",
            "3/3 - 0s - loss: 0.5893 - accuracy: 0.7238 - val_loss: 0.5840 - val_accuracy: 0.7378 - 52ms/epoch - 17ms/step\n",
            "Epoch 51/100\n",
            "3/3 - 0s - loss: 0.5888 - accuracy: 0.7238 - val_loss: 0.5839 - val_accuracy: 0.7378 - 46ms/epoch - 15ms/step\n",
            "Epoch 52/100\n",
            "3/3 - 0s - loss: 0.5891 - accuracy: 0.7238 - val_loss: 0.5838 - val_accuracy: 0.7378 - 48ms/epoch - 16ms/step\n",
            "Epoch 53/100\n",
            "3/3 - 0s - loss: 0.5892 - accuracy: 0.7238 - val_loss: 0.5837 - val_accuracy: 0.7378 - 47ms/epoch - 16ms/step\n",
            "Epoch 54/100\n",
            "3/3 - 0s - loss: 0.5887 - accuracy: 0.7238 - val_loss: 0.5837 - val_accuracy: 0.7378 - 55ms/epoch - 18ms/step\n",
            "Epoch 55/100\n",
            "3/3 - 0s - loss: 0.5884 - accuracy: 0.7238 - val_loss: 0.5836 - val_accuracy: 0.7378 - 50ms/epoch - 17ms/step\n",
            "Epoch 56/100\n",
            "3/3 - 0s - loss: 0.5892 - accuracy: 0.7238 - val_loss: 0.5836 - val_accuracy: 0.7378 - 56ms/epoch - 19ms/step\n",
            "Epoch 57/100\n",
            "3/3 - 0s - loss: 0.5892 - accuracy: 0.7238 - val_loss: 0.5836 - val_accuracy: 0.7378 - 60ms/epoch - 20ms/step\n",
            "Epoch 58/100\n",
            "3/3 - 0s - loss: 0.5885 - accuracy: 0.7238 - val_loss: 0.5836 - val_accuracy: 0.7378 - 55ms/epoch - 18ms/step\n",
            "Epoch 59/100\n",
            "3/3 - 0s - loss: 0.5884 - accuracy: 0.7238 - val_loss: 0.5837 - val_accuracy: 0.7378 - 47ms/epoch - 16ms/step\n",
            "Epoch 60/100\n",
            "3/3 - 0s - loss: 0.5886 - accuracy: 0.7238 - val_loss: 0.5837 - val_accuracy: 0.7378 - 55ms/epoch - 18ms/step\n",
            "Epoch 61/100\n",
            "3/3 - 0s - loss: 0.5886 - accuracy: 0.7238 - val_loss: 0.5837 - val_accuracy: 0.7378 - 67ms/epoch - 22ms/step\n",
            "Epoch 62/100\n",
            "3/3 - 0s - loss: 0.5892 - accuracy: 0.7229 - val_loss: 0.5835 - val_accuracy: 0.7378 - 63ms/epoch - 21ms/step\n",
            "Epoch 63/100\n",
            "3/3 - 0s - loss: 0.5887 - accuracy: 0.7238 - val_loss: 0.5834 - val_accuracy: 0.7378 - 58ms/epoch - 19ms/step\n",
            "Epoch 64/100\n",
            "3/3 - 0s - loss: 0.5889 - accuracy: 0.7238 - val_loss: 0.5833 - val_accuracy: 0.7378 - 47ms/epoch - 16ms/step\n",
            "Epoch 65/100\n",
            "3/3 - 0s - loss: 0.5889 - accuracy: 0.7238 - val_loss: 0.5833 - val_accuracy: 0.7378 - 54ms/epoch - 18ms/step\n",
            "Epoch 66/100\n",
            "3/3 - 0s - loss: 0.5897 - accuracy: 0.7229 - val_loss: 0.5833 - val_accuracy: 0.7378 - 48ms/epoch - 16ms/step\n",
            "Epoch 67/100\n",
            "3/3 - 0s - loss: 0.5887 - accuracy: 0.7238 - val_loss: 0.5833 - val_accuracy: 0.7378 - 56ms/epoch - 19ms/step\n",
            "Epoch 68/100\n",
            "3/3 - 0s - loss: 0.5892 - accuracy: 0.7238 - val_loss: 0.5833 - val_accuracy: 0.7378 - 56ms/epoch - 19ms/step\n",
            "Epoch 69/100\n",
            "3/3 - 0s - loss: 0.5890 - accuracy: 0.7238 - val_loss: 0.5833 - val_accuracy: 0.7378 - 55ms/epoch - 18ms/step\n",
            "Epoch 70/100\n",
            "3/3 - 0s - loss: 0.5886 - accuracy: 0.7238 - val_loss: 0.5834 - val_accuracy: 0.7378 - 55ms/epoch - 18ms/step\n",
            "Epoch 71/100\n",
            "3/3 - 0s - loss: 0.5888 - accuracy: 0.7238 - val_loss: 0.5834 - val_accuracy: 0.7378 - 56ms/epoch - 19ms/step\n",
            "Epoch 72/100\n",
            "3/3 - 0s - loss: 0.5896 - accuracy: 0.7229 - val_loss: 0.5835 - val_accuracy: 0.7378 - 61ms/epoch - 20ms/step\n",
            "Epoch 73/100\n",
            "3/3 - 0s - loss: 0.5884 - accuracy: 0.7238 - val_loss: 0.5835 - val_accuracy: 0.7378 - 55ms/epoch - 18ms/step\n",
            "Epoch 74/100\n",
            "3/3 - 0s - loss: 0.5891 - accuracy: 0.7238 - val_loss: 0.5835 - val_accuracy: 0.7378 - 54ms/epoch - 18ms/step\n",
            "Epoch 75/100\n",
            "3/3 - 0s - loss: 0.5888 - accuracy: 0.7238 - val_loss: 0.5836 - val_accuracy: 0.7378 - 47ms/epoch - 16ms/step\n",
            "Epoch 76/100\n",
            "3/3 - 0s - loss: 0.5886 - accuracy: 0.7238 - val_loss: 0.5837 - val_accuracy: 0.7378 - 50ms/epoch - 17ms/step\n",
            "Epoch 77/100\n",
            "3/3 - 0s - loss: 0.5895 - accuracy: 0.7229 - val_loss: 0.5838 - val_accuracy: 0.7378 - 54ms/epoch - 18ms/step\n",
            "Epoch 78/100\n",
            "3/3 - 0s - loss: 0.5886 - accuracy: 0.7238 - val_loss: 0.5839 - val_accuracy: 0.7378 - 58ms/epoch - 19ms/step\n",
            "Epoch 79/100\n",
            "3/3 - 0s - loss: 0.5889 - accuracy: 0.7238 - val_loss: 0.5840 - val_accuracy: 0.7378 - 45ms/epoch - 15ms/step\n",
            "Epoch 80/100\n",
            "3/3 - 0s - loss: 0.5890 - accuracy: 0.7238 - val_loss: 0.5840 - val_accuracy: 0.7378 - 52ms/epoch - 17ms/step\n",
            "Epoch 81/100\n",
            "3/3 - 0s - loss: 0.5890 - accuracy: 0.7238 - val_loss: 0.5840 - val_accuracy: 0.7378 - 52ms/epoch - 17ms/step\n",
            "Epoch 82/100\n",
            "3/3 - 0s - loss: 0.5887 - accuracy: 0.7238 - val_loss: 0.5841 - val_accuracy: 0.7378 - 51ms/epoch - 17ms/step\n",
            "Epoch 83/100\n",
            "3/3 - 0s - loss: 0.5886 - accuracy: 0.7238 - val_loss: 0.5841 - val_accuracy: 0.7378 - 47ms/epoch - 16ms/step\n",
            "Epoch 84/100\n",
            "3/3 - 0s - loss: 0.5884 - accuracy: 0.7238 - val_loss: 0.5842 - val_accuracy: 0.7378 - 54ms/epoch - 18ms/step\n",
            "Epoch 85/100\n",
            "3/3 - 0s - loss: 0.5890 - accuracy: 0.7238 - val_loss: 0.5843 - val_accuracy: 0.7378 - 53ms/epoch - 18ms/step\n",
            "Epoch 86/100\n",
            "3/3 - 0s - loss: 0.5888 - accuracy: 0.7238 - val_loss: 0.5844 - val_accuracy: 0.7378 - 59ms/epoch - 20ms/step\n",
            "Epoch 87/100\n",
            "3/3 - 0s - loss: 0.5886 - accuracy: 0.7238 - val_loss: 0.5844 - val_accuracy: 0.7378 - 49ms/epoch - 16ms/step\n",
            "Epoch 88/100\n",
            "3/3 - 0s - loss: 0.5885 - accuracy: 0.7238 - val_loss: 0.5844 - val_accuracy: 0.7378 - 51ms/epoch - 17ms/step\n",
            "Epoch 89/100\n",
            "3/3 - 0s - loss: 0.5890 - accuracy: 0.7238 - val_loss: 0.5844 - val_accuracy: 0.7378 - 47ms/epoch - 16ms/step\n",
            "Epoch 90/100\n",
            "3/3 - 0s - loss: 0.5888 - accuracy: 0.7238 - val_loss: 0.5844 - val_accuracy: 0.7378 - 45ms/epoch - 15ms/step\n",
            "Epoch 91/100\n",
            "3/3 - 0s - loss: 0.5887 - accuracy: 0.7238 - val_loss: 0.5844 - val_accuracy: 0.7378 - 53ms/epoch - 18ms/step\n",
            "Epoch 92/100\n",
            "3/3 - 0s - loss: 0.5887 - accuracy: 0.7238 - val_loss: 0.5845 - val_accuracy: 0.7378 - 53ms/epoch - 18ms/step\n",
            "Epoch 93/100\n",
            "3/3 - 0s - loss: 0.5889 - accuracy: 0.7238 - val_loss: 0.5845 - val_accuracy: 0.7378 - 49ms/epoch - 16ms/step\n",
            "Epoch 94/100\n",
            "3/3 - 0s - loss: 0.5884 - accuracy: 0.7238 - val_loss: 0.5845 - val_accuracy: 0.7378 - 47ms/epoch - 16ms/step\n",
            "Epoch 95/100\n",
            "3/3 - 0s - loss: 0.5886 - accuracy: 0.7238 - val_loss: 0.5845 - val_accuracy: 0.7378 - 47ms/epoch - 16ms/step\n",
            "Epoch 96/100\n",
            "3/3 - 0s - loss: 0.5887 - accuracy: 0.7238 - val_loss: 0.5846 - val_accuracy: 0.7378 - 54ms/epoch - 18ms/step\n",
            "Epoch 97/100\n",
            "3/3 - 0s - loss: 0.5886 - accuracy: 0.7238 - val_loss: 0.5846 - val_accuracy: 0.7378 - 58ms/epoch - 19ms/step\n",
            "Epoch 98/100\n",
            "3/3 - 0s - loss: 0.5886 - accuracy: 0.7238 - val_loss: 0.5847 - val_accuracy: 0.7378 - 47ms/epoch - 16ms/step\n",
            "Epoch 99/100\n",
            "3/3 - 0s - loss: 0.5888 - accuracy: 0.7238 - val_loss: 0.5847 - val_accuracy: 0.7378 - 50ms/epoch - 17ms/step\n",
            "Epoch 100/100\n",
            "3/3 - 0s - loss: 0.5884 - accuracy: 0.7238 - val_loss: 0.5848 - val_accuracy: 0.7378 - 46ms/epoch - 15ms/step\n"
          ]
        }
      ]
    },
    {
      "cell_type": "code",
      "source": [
        "show_train_history(train_history,'accuracy','val_accuracy')\n",
        "show_train_history(train_history,'loss','val_loss')"
      ],
      "metadata": {
        "colab": {
          "base_uri": "https://localhost:8080/",
          "height": 927
        },
        "id": "FRdvLuM8qnxe",
        "outputId": "ac864d02-6762-4a11-d67c-d8d2a446f033"
      },
      "execution_count": null,
      "outputs": [
        {
          "output_type": "display_data",
          "data": {
            "text/plain": [
              "<Figure size 640x480 with 1 Axes>"
            ],
            "image/png": "[encoded data removed]"
          },
          "metadata": {}
        },
        {
          "output_type": "display_data",
          "data": {
            "text/plain": [
              "<Figure size 640x480 with 1 Axes>"
            ],
            "image/png": "[encoded data removed]"
          },
          "metadata": {}
        }
      ]
    },
    {
      "cell_type": "code",
      "source": [
        "scores = model3.evaluate(x_test, y_test)\n",
        "print('\\n')\n",
        "print('accuracy=',scores[1])"
      ],
      "metadata": {
        "colab": {
          "base_uri": "https://localhost:8080/"
        },
        "id": "A3oOH-iVQoFt",
        "outputId": "50173b3d-2fa0-4ecb-c0cb-c4e393caeb21"
      },
      "execution_count": null,
      "outputs": [
        {
          "output_type": "stream",
          "name": "stdout",
          "text": [
            "45/45 [==============================] - 0s 2ms/step - loss: 0.6027 - accuracy: 0.7331\n",
            "\n",
            "\n",
            "accuracy= 0.7331440448760986\n"
          ]
        }
      ]
    },
    {
      "cell_type": "code",
      "source": [
        "y_pred3 = model3.predict(x_test)\n",
        "accuracy3 = accuracy_score(y_test, np.argmax(y_pred3, axis=1))\n",
        "f13 = f1_score(y_test, np.argmax(y_pred3, axis=1))\n",
        "roc_auc3 = roc_auc_score(tf.keras.utils.to_categorical(y_test), y_pred3)"
      ],
      "metadata": {
        "colab": {
          "base_uri": "https://localhost:8080/"
        },
        "id": "CW5itDvChty6",
        "outputId": "02b0999c-2546-43c8-97fb-942510b61253"
      },
      "execution_count": null,
      "outputs": [
        {
          "output_type": "stream",
          "name": "stdout",
          "text": [
            "45/45 [==============================] - 0s 1ms/step\n"
          ]
        }
      ]
    },
    {
      "cell_type": "code",
      "source": [
        "y_pred3 = (y_pred3>0.5)"
      ],
      "metadata": {
        "id": "vacEpKM4iYPw"
      },
      "execution_count": null,
      "outputs": []
    },
    {
      "cell_type": "code",
      "source": [
        "cm = confusion_matrix(y_pred3,y_test)\n",
        "plt.figure(figsize=(8, 6))\n",
        "sns.heatmap(cm, annot=True, fmt='d', cmap='Blues', cbar=False)\n",
        "plt.xlabel('True')\n",
        "plt.ylabel('Predicted')\n",
        "plt.title('Confusion Matrix')\n",
        "plt.show()"
      ],
      "metadata": {
        "colab": {
          "base_uri": "https://localhost:8080/",
          "height": 564
        },
        "id": "DlNuXJvAkx3m",
        "outputId": "d7029619-4124-4442-dcf2-4f5242a0eec5"
      },
      "execution_count": null,
      "outputs": [
        {
          "output_type": "display_data",
          "data": {
            "text/plain": [
              "<Figure size 800x600 with 1 Axes>"
            ],
            "image/png": "[encoded data removed]"
          },
          "metadata": {}
        }
      ]
    },
    {
      "cell_type": "code",
      "source": [
        "print(classification_report(y_test,y_pred3))"
      ],
      "metadata": {
        "colab": {
          "base_uri": "https://localhost:8080/"
        },
        "id": "lZBIsh72ieTZ",
        "outputId": "07e3012a-37dd-4be0-c6ce-cf28330be2b6"
      },
      "execution_count": null,
      "outputs": [
        {
          "output_type": "stream",
          "name": "stdout",
          "text": [
            "              precision    recall  f1-score   support\n",
            "\n",
            "           0       0.73      1.00      0.85      1033\n",
            "           1       0.00      0.00      0.00       376\n",
            "\n",
            "    accuracy                           0.73      1409\n",
            "   macro avg       0.37      0.50      0.42      1409\n",
            "weighted avg       0.54      0.73      0.62      1409\n",
            "\n"
          ]
        },
        {
          "output_type": "stream",
          "name": "stderr",
          "text": [
            "/usr/local/lib/python3.10/dist-packages/sklearn/metrics/_classification.py:1344: UndefinedMetricWarning:\n",
            "\n",
            "Precision and F-score are ill-defined and being set to 0.0 in labels with no predicted samples. Use `zero_division` parameter to control this behavior.\n",
            "\n",
            "/usr/local/lib/python3.10/dist-packages/sklearn/metrics/_classification.py:1344: UndefinedMetricWarning:\n",
            "\n",
            "Precision and F-score are ill-defined and being set to 0.0 in labels with no predicted samples. Use `zero_division` parameter to control this behavior.\n",
            "\n",
            "/usr/local/lib/python3.10/dist-packages/sklearn/metrics/_classification.py:1344: UndefinedMetricWarning:\n",
            "\n",
            "Precision and F-score are ill-defined and being set to 0.0 in labels with no predicted samples. Use `zero_division` parameter to control this behavior.\n",
            "\n"
          ]
        }
      ]
    },
    {
      "cell_type": "markdown",
      "source": [
        "**Implementing Monte Carlo Dropout:**\n",
        "\n",
        "---\n",
        "\n",
        "\n",
        "\n",
        "● Extend the DNN architecture to include Monte Carlo dropout, enabling dropout\n",
        "during both training and inference phases.\n",
        "\n",
        "● Train the model using this architecture and evaluate its performance on the\n",
        "validation set."
      ],
      "metadata": {
        "id": "HW0o3XYlRLYB"
      }
    },
    {
      "cell_type": "code",
      "source": [
        "def monte_carlo_inference(model, x, num_samples):\n",
        "    y_preds = np.zeros((num_samples, x.shape[0], 10))\n",
        "    for i in range(num_samples):\n",
        "        y_preds[i] = tf.nn.softmax(model(x, training=True)).numpy()\n",
        "    return y_preds"
      ],
      "metadata": {
        "id": "nLZTnhOSROlu"
      },
      "execution_count": null,
      "outputs": []
    },
    {
      "cell_type": "code",
      "source": [
        "x_test = np.array(x_test)"
      ],
      "metadata": {
        "id": "IIBc2K4dXRfL"
      },
      "execution_count": null,
      "outputs": []
    },
    {
      "cell_type": "code",
      "source": [
        "# Perform Monte Carlo Dropout inference on test data\n",
        "y_preds_mc = monte_carlo_inference(model1, x_test, 10)"
      ],
      "metadata": {
        "id": "eA8eEoL_WOgk"
      },
      "execution_count": null,
      "outputs": []
    },
    {
      "cell_type": "code",
      "source": [
        "y_preds_mc = (y_preds_mc>0.5)"
      ],
      "metadata": {
        "id": "bTXp3C7FpT7L"
      },
      "execution_count": null,
      "outputs": []
    },
    {
      "cell_type": "code",
      "source": [
        "mean_prediction = np.mean(y_preds_mc, axis=0)\n",
        "uncertainty = np.std(y_preds_mc, axis=0)"
      ],
      "metadata": {
        "id": "MUl_WEeeWU4Z"
      },
      "execution_count": null,
      "outputs": []
    },
    {
      "cell_type": "code",
      "source": [
        "# Evaluate accuracy\n",
        "accuracy = np.mean(np.argmax(mean_prediction, axis=1) == y_test)\n",
        "print(\"Accuracy: {:.2f}%\".format(accuracy * 100))"
      ],
      "metadata": {
        "colab": {
          "base_uri": "https://localhost:8080/"
        },
        "id": "5nRWBt6fWbsh",
        "outputId": "6083df72-82bf-4cb5-b302-3ef078cd9f89"
      },
      "execution_count": null,
      "outputs": [
        {
          "output_type": "stream",
          "name": "stdout",
          "text": [
            "Accuracy: 73.31%\n"
          ]
        }
      ]
    },
    {
      "cell_type": "code",
      "source": [
        "conf_matrix = confusion_matrix(y_test, np.argmax(mean_prediction, axis=1))\n",
        "plt.figure(figsize=(8, 6))\n",
        "sns.heatmap(cm, annot=True, fmt='d', cmap='Blues', cbar=False)\n",
        "plt.xlabel('True')\n",
        "plt.ylabel('Predicted')\n",
        "plt.title('Confusion Matrix')\n",
        "plt.show()"
      ],
      "metadata": {
        "colab": {
          "base_uri": "https://localhost:8080/",
          "height": 564
        },
        "id": "evmfMMLEqA3h",
        "outputId": "c8bc610f-da66-4937-dc6c-5a0b2884b7d8"
      },
      "execution_count": null,
      "outputs": [
        {
          "output_type": "display_data",
          "data": {
            "text/plain": [
              "<Figure size 800x600 with 1 Axes>"
            ],
            "image/png": "[encoded data removed]"
          },
          "metadata": {}
        }
      ]
    },
    {
      "cell_type": "markdown",
      "source": [
        "**Comparison and Visualization:**\n",
        "\n",
        "● Compare the performance metrics (e.g., accuracy, F1 score, ROC curve) of the\n",
        "three models (baseline, with dropout, with layer-wise dropout, with Monte Carlo\n",
        "dropout).\n",
        "\n",
        "● Visualize the training and validation accuracy/loss curves for each model to\n",
        "observe their convergence and potential overfitting."
      ],
      "metadata": {
        "id": "7fp2NwQWqUb5"
      }
    },
    {
      "cell_type": "code",
      "source": [
        "fpr1, tpr1, _ = roc_curve(y_test, y_pred1)\n",
        "roc_auc1 = auc(fpr1, tpr1)\n",
        "\n",
        "fpr2, tpr2, _ = roc_curve(y_test, y_pred1)\n",
        "roc_auc2 = auc(fpr2, tpr2)\n",
        "\n",
        "fpr3, tpr3, _ = roc_curve(y_test, y_pred1)\n",
        "roc_auc3 = auc(fpr3, tpr3)\n",
        "\n",
        "fpr4, tpr4, _ = roc_curve(y_test, np.argmax(mean_prediction, axis=1))\n",
        "roc_auc4 = auc(fpr4, tpr4)\n",
        "\n",
        "# Plot ROC curves\n",
        "plt.plot(fpr1, tpr1, label='Without Regularization (AUC = %0.2f)' % roc_auc1)\n",
        "plt.plot(fpr2, tpr2, label='Applying L1 Regularization (AUC = %0.2f)' % roc_auc2)\n",
        "plt.plot(fpr3, tpr3, label='Applying L2 Regularization (AUC = %0.2f)' % roc_auc3)\n",
        "plt.plot(fpr4, tpr4, label='Applying Elastic Net Regularization (AUC = %0.2f)' % roc_auc4)\n",
        "\n",
        "plt.xlabel('False Positive Rate')\n",
        "plt.ylabel('True Positive Rate')\n",
        "plt.title('Receiver Operating Characteristic (ROC) Curve')\n",
        "plt.legend(loc='lower right')\n",
        "plt.show()"
      ],
      "metadata": {
        "id": "Zq9BJ5CXqT6N"
      },
      "execution_count": null,
      "outputs": []
    },
    {
      "cell_type": "code",
      "source": [
        "accuracies = {'Baseline': accuracy1,'Dropout': accuracy2,'Layer-wise Dropout': accuracy3,'Monte Carlo Dropout': accuracy}\n",
        "\n",
        "# Plot accuracies\n",
        "plt.figure(figsize=(10, 6))\n",
        "plt.bar(accuracies.keys(), accuracies.values(), color=['blue', 'orange', 'green', 'red'])\n",
        "plt.xlabel('Model')\n",
        "plt.ylabel('Accuracy')\n",
        "plt.title('Accuracy Comparison of Different Models')\n",
        "plt.ylim(0, 1)\n",
        "plt.xticks(rotation=45)\n",
        "plt.grid(axis='y', linestyle='--', alpha=0.7)\n",
        "plt.show()"
      ],
      "metadata": {
        "colab": {
          "base_uri": "https://localhost:8080/",
          "height": 662
        },
        "id": "5vbU6j_2q1-F",
        "outputId": "81432f4b-c1f3-49f0-d34d-9f8f62b2d741"
      },
      "execution_count": null,
      "outputs": [
        {
          "output_type": "display_data",
          "data": {
            "text/plain": [
              "<Figure size 1000x600 with 1 Axes>"
            ],
            "image/png": "[encoded data removed]"
          },
          "metadata": {}
        }
      ]
    }
  ]
}